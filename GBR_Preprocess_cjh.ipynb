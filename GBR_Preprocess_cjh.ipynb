{
  "nbformat": 4,
  "nbformat_minor": 0,
  "metadata": {
    "colab": {
      "name": "GBR_Preprocess_cjh.ipynb",
      "provenance": [],
      "collapsed_sections": []
    },
    "kernelspec": {
      "name": "python3",
      "display_name": "Python 3"
    },
    "language_info": {
      "name": "python"
    }
  },
  "cells": [
    {
      "cell_type": "markdown",
      "source": [
        "# Download dataset from kaggle api\n",
        "kaggle  \n",
        "https://www.kaggle.com/c/tensorflow-great-barrier-reef/data  \n",
        "\n",
        "kaggle API usage  \n",
        "https://colab.research.google.com/github/corrieann/kaggle/blob/master/kaggle_api_in_colab.ipynb"
      ],
      "metadata": {
        "id": "Atikzzc0fL2v"
      }
    },
    {
      "cell_type": "code",
      "metadata": {
        "id": "n-JPBh1fETGF"
      },
      "source": [
        "!pip install kaggle\n",
        "!pip install --upgrade --force-reinstall --no-deps kaggle"
      ],
      "execution_count": null,
      "outputs": []
    },
    {
      "cell_type": "code",
      "source": [
        "from google.colab import files\n",
        "\n",
        "uploaded = files.upload()\n",
        "\n",
        "for fn in uploaded.keys():\n",
        "  print('User uploaded file \"{name}\" with length {length} bytes'.format(\n",
        "      name=fn, length=len(uploaded[fn])))\n",
        "  \n",
        "# Then move kaggle.json into the folder where the API expects to find it.\n",
        "!mkdir -p ~/.kaggle/ && mv kaggle.json ~/.kaggle/ && chmod 600 ~/.kaggle/kaggle.json"
      ],
      "metadata": {
        "id": "Z27ke3uEchVJ"
      },
      "execution_count": null,
      "outputs": []
    },
    {
      "cell_type": "code",
      "source": [
        "!kaggle competitions download -c tensorflow-great-barrier-reef"
      ],
      "metadata": {
        "id": "6JXwYXTxc8D4"
      },
      "execution_count": null,
      "outputs": []
    },
    {
      "cell_type": "code",
      "source": [
        "!unzip -q /content/tensorflow-great-barrier-reef.zip "
      ],
      "metadata": {
        "id": "D18RwmYWwO84"
      },
      "execution_count": null,
      "outputs": []
    },
    {
      "cell_type": "code",
      "source": [
        "# create hierarchy\n",
        "import os\n",
        "\n",
        "for f1 in 'train', 'val', 'test':\n",
        "  for f2 in 'images', 'labels':\n",
        "    os.makedirs(f'/content/Datasets/{f1}/{f2}')"
      ],
      "metadata": {
        "id": "acWPF0FJFpZ9"
      },
      "execution_count": 5,
      "outputs": []
    },
    {
      "cell_type": "code",
      "source": [
        "import pandas as pd\n",
        "\n",
        "df_train = pd.read_csv('train.csv')\n",
        "df_test = pd.read_csv('test.csv')\n",
        "df_train"
      ],
      "metadata": {
        "id": "VKbcF1-54zW6"
      },
      "execution_count": null,
      "outputs": []
    },
    {
      "cell_type": "code",
      "source": [
        "def annotation2YoloFormat(_annotation, width=1280, height=720):\n",
        "  out = ''\n",
        "  if isinstance(_annotation,str):\n",
        "    a = _annotation\n",
        "    while True:\n",
        "      ix = a.find(\"'x': \")\n",
        "      iy = a.find(\"'y': \")\n",
        "      iw = a.find(\"'width': \")\n",
        "      ih = a.find(\"'height': \")\n",
        "\n",
        "      if ix < 0 or iy < 0 or iw < 0 or ih < 0:\n",
        "        break\n",
        "\n",
        "      x = float(a[ix + len(\"'x': \"):a.find(\", 'y\")])/width\n",
        "      y = float(a[iy + len(\"'y': \"):a.find(\", 'w\")])/height\n",
        "      w = float(a[iw + len(\"'width': \"):a.find(\", 'h\")])/width\n",
        "      h = float(a[ih + len(\"'height': \"):a.find('}')])/height\n",
        "\n",
        "\n",
        "      out += '0 %.6f %.6f %.6f %.6f\\n'%(x+w/2, y+h/2, w, h)\n",
        "      a = a[a.find('}')+1:]\n",
        "\n",
        "  return out"
      ],
      "metadata": {
        "id": "c7K7GLLr638z"
      },
      "execution_count": null,
      "outputs": []
    },
    {
      "cell_type": "code",
      "source": [
        "# change image name to image id\n",
        "# split images by train:val:test = .64:.16:.2\n",
        "import shutil\n",
        "import os\n",
        "import random\n",
        "\n",
        "%cd train_images\n",
        "\n",
        "TEST_DIRECTORY = \"../Datasets/test\"\n",
        "TRAIN_DIRECTORY = \"../Datasets/train\"\n",
        "VAL_DIRECTORY = \"../Datasets/val\"\n",
        "\n",
        "for dir in os.listdir():\n",
        "  # print(dir)\n",
        "  for image in os.listdir(dir):\n",
        "    random_key = random.random()\n",
        "    if random_key < 0.64:\n",
        "      random_folder = TRAIN_DIRECTORY\n",
        "    elif random_key < 0.8:\n",
        "      random_folder = VAL_DIRECTORY\n",
        "    else:\n",
        "      random_folder = TEST_DIRECTORY\n",
        "    shutil.move(f'{dir}/{image}', f\"../Datasets/{random_folder}/images/{dir[-1]}-{image}\")\n",
        "\n",
        "    # might add label as well while in iteration\n",
        "    # as YOLO format [{xywh},{},...]\n",
        "    f = open(f\"../Datasets/{random_folder}/labels/{dir[-1]}-{image[:-4]}.txt\", 'w')\n",
        "    f.write(annotation2YoloFormat(df_train.loc[df_train['image_id']==f'{dir[-1]}-{image[:-4]}', 'annotations'].iloc[0]))\n",
        "    f.close()\n",
        "\n",
        "%cd ..\n",
        "!rm -rf train_images/"
      ],
      "metadata": {
        "colab": {
          "base_uri": "https://localhost:8080/"
        },
        "id": "YNeL-oMIv8th",
        "outputId": "14d0f566-d1a7-446d-b907-6ae623e03397"
      },
      "execution_count": 8,
      "outputs": [
        {
          "output_type": "stream",
          "name": "stdout",
          "text": [
            "/content/train_images\n",
            "/content\n"
          ]
        }
      ]
    },
    {
      "cell_type": "code",
      "metadata": {
        "id": "wbvMlHd_QwMG"
      },
      "source": [
        "!git clone https://github.com/ultralytics/yolov5  # clone\n",
        "%cd yolov5\n",
        "%pip install -qr requirements.txt  # install\n",
        "\n",
        "import torch\n",
        "from yolov5 import utils\n",
        "display = utils.notebook_init()  # checks"
      ],
      "execution_count": null,
      "outputs": []
    },
    {
      "cell_type": "code",
      "source": [
        "# create yaml file and save to /data (your at /content/yolov5)"
      ],
      "metadata": {
        "id": "KUO-ZP2gLdpT"
      },
      "execution_count": null,
      "outputs": []
    },
    {
      "cell_type": "code",
      "source": [
        "# Train YOLOv5s on COCO128 for 3 epochs\n",
        "# --img : image size (size,size)\n",
        "# --batch : batch size\n",
        "# --epochs : epochs\n",
        "# --data : .yaml file name\n",
        "# --weights : pretrained weights ('' --cfg yolov5s.yaml if from scratch)\n",
        "!python train.py --img 640 --batch 16 --epochs 3 --data coco128.yaml --weights yolov5s.pt"
      ],
      "metadata": {
        "id": "k47ZnEx4L8hF"
      },
      "execution_count": null,
      "outputs": []
    },
    {
      "cell_type": "code",
      "source": [
        "# visualize"
      ],
      "metadata": {
        "id": "zbmSxR7vPdf9"
      },
      "execution_count": null,
      "outputs": []
    }
  ]
}