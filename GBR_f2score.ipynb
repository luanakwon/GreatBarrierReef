{
  "nbformat": 4,
  "nbformat_minor": 0,
  "metadata": {
    "colab": {
      "name": "GBR_f2score.ipynb",
      "provenance": [],
      "collapsed_sections": [],
      "authorship_tag": "ABX9TyPl6W2P08co5vy09aX6JfEa",
      "include_colab_link": true
    },
    "kernelspec": {
      "name": "python3",
      "display_name": "Python 3"
    },
    "language_info": {
      "name": "python"
    },
    "accelerator": "GPU"
  },
  "cells": [
    {
      "cell_type": "markdown",
      "metadata": {
        "id": "view-in-github",
        "colab_type": "text"
      },
      "source": [
        "<a href=\"https://colab.research.google.com/github/luanakwon/GreatBarrierReef/blob/main/GBR_f2score.ipynb\" target=\"_parent\"><img src=\"https://colab.research.google.com/assets/colab-badge.svg\" alt=\"Open In Colab\"/></a>"
      ]
    },
    {
      "cell_type": "markdown",
      "metadata": {
        "id": "Atikzzc0fL2v"
      },
      "source": [
        "# Download dataset from kaggle api\n",
        "kaggle  \n",
        "https://www.kaggle.com/c/tensorflow-great-barrier-reef/data  \n",
        "\n",
        "kaggle API usage  \n",
        "https://colab.research.google.com/github/corrieann/kaggle/blob/master/kaggle_api_in_colab.ipynb"
      ]
    },
    {
      "cell_type": "code",
      "execution_count": 1,
      "metadata": {
        "colab": {
          "base_uri": "https://localhost:8080/"
        },
        "id": "n-JPBh1fETGF",
        "outputId": "2fedbe3a-a694-431c-9522-fae53e2973c6"
      },
      "outputs": [
        {
          "output_type": "stream",
          "name": "stdout",
          "text": [
            "Requirement already satisfied: kaggle in /usr/local/lib/python3.7/dist-packages (1.5.12)\n",
            "Requirement already satisfied: python-slugify in /usr/local/lib/python3.7/dist-packages (from kaggle) (5.0.2)\n",
            "Requirement already satisfied: tqdm in /usr/local/lib/python3.7/dist-packages (from kaggle) (4.62.3)\n",
            "Requirement already satisfied: requests in /usr/local/lib/python3.7/dist-packages (from kaggle) (2.23.0)\n",
            "Requirement already satisfied: urllib3 in /usr/local/lib/python3.7/dist-packages (from kaggle) (1.24.3)\n",
            "Requirement already satisfied: six>=1.10 in /usr/local/lib/python3.7/dist-packages (from kaggle) (1.15.0)\n",
            "Requirement already satisfied: python-dateutil in /usr/local/lib/python3.7/dist-packages (from kaggle) (2.8.2)\n",
            "Requirement already satisfied: certifi in /usr/local/lib/python3.7/dist-packages (from kaggle) (2021.10.8)\n",
            "Requirement already satisfied: text-unidecode>=1.3 in /usr/local/lib/python3.7/dist-packages (from python-slugify->kaggle) (1.3)\n",
            "Requirement already satisfied: idna<3,>=2.5 in /usr/local/lib/python3.7/dist-packages (from requests->kaggle) (2.10)\n",
            "Requirement already satisfied: chardet<4,>=3.0.2 in /usr/local/lib/python3.7/dist-packages (from requests->kaggle) (3.0.4)\n",
            "Collecting kaggle\n",
            "  Downloading kaggle-1.5.12.tar.gz (58 kB)\n",
            "\u001b[K     |████████████████████████████████| 58 kB 4.6 MB/s \n",
            "\u001b[?25hBuilding wheels for collected packages: kaggle\n",
            "  Building wheel for kaggle (setup.py) ... \u001b[?25l\u001b[?25hdone\n",
            "  Created wheel for kaggle: filename=kaggle-1.5.12-py3-none-any.whl size=73051 sha256=0596634e5ef41a13e7facc0f2ea644563efcee2c8efe5bafa5747ca0d17a292e\n",
            "  Stored in directory: /root/.cache/pip/wheels/62/d6/58/5853130f941e75b2177d281eb7e44b4a98ed46dd155f556dc5\n",
            "Successfully built kaggle\n",
            "Installing collected packages: kaggle\n",
            "  Attempting uninstall: kaggle\n",
            "    Found existing installation: kaggle 1.5.12\n",
            "    Uninstalling kaggle-1.5.12:\n",
            "      Successfully uninstalled kaggle-1.5.12\n",
            "Successfully installed kaggle-1.5.12\n"
          ]
        }
      ],
      "source": [
        "!pip install kaggle\n",
        "!pip install --upgrade --force-reinstall --no-deps kaggle"
      ]
    },
    {
      "cell_type": "code",
      "execution_count": 2,
      "metadata": {
        "colab": {
          "base_uri": "https://localhost:8080/",
          "height": 95,
          "resources": {
            "http://localhost:8080/nbextensions/google.colab/files.js": {
              "data": "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",
              "headers": [
                [
                  "content-type",
                  "application/javascript"
                ]
              ],
              "ok": true,
              "status": 200,
              "status_text": ""
            }
          }
        },
        "id": "Z27ke3uEchVJ",
        "outputId": "bfac0949-c007-4211-ff27-d0f358e69371"
      },
      "outputs": [
        {
          "output_type": "display_data",
          "data": {
            "text/html": [
              "\n",
              "     <input type=\"file\" id=\"files-f47712ca-b611-4308-be1f-e8e603d39b64\" name=\"files[]\" multiple disabled\n",
              "        style=\"border:none\" />\n",
              "     <output id=\"result-f47712ca-b611-4308-be1f-e8e603d39b64\">\n",
              "      Upload widget is only available when the cell has been executed in the\n",
              "      current browser session. Please rerun this cell to enable.\n",
              "      </output>\n",
              "      <script src=\"/nbextensions/google.colab/files.js\"></script> "
            ],
            "text/plain": [
              "<IPython.core.display.HTML object>"
            ]
          },
          "metadata": {}
        },
        {
          "output_type": "stream",
          "name": "stdout",
          "text": [
            "Saving kaggle.json to kaggle.json\n",
            "User uploaded file \"kaggle.json\" with length 68 bytes\n"
          ]
        }
      ],
      "source": [
        "from google.colab import files\n",
        "\n",
        "uploaded = files.upload()\n",
        "\n",
        "for fn in uploaded.keys():\n",
        "  print('User uploaded file \"{name}\" with length {length} bytes'.format(\n",
        "      name=fn, length=len(uploaded[fn])))\n",
        "  \n",
        "# Then move kaggle.json into the folder where the API expects to find it.\n",
        "!mkdir -p ~/.kaggle/ && mv kaggle.json ~/.kaggle/ && chmod 600 ~/.kaggle/kaggle.json"
      ]
    },
    {
      "cell_type": "code",
      "execution_count": 3,
      "metadata": {
        "colab": {
          "base_uri": "https://localhost:8080/"
        },
        "id": "6JXwYXTxc8D4",
        "outputId": "eeb8455e-a197-40e4-ef1d-c5bb8b664867"
      },
      "outputs": [
        {
          "output_type": "stream",
          "name": "stdout",
          "text": [
            "Downloading tensorflow-great-barrier-reef.zip to /content\n",
            "100% 14.2G/14.2G [01:26<00:00, 204MB/s]\n",
            "100% 14.2G/14.2G [01:26<00:00, 176MB/s]\n"
          ]
        }
      ],
      "source": [
        "!kaggle competitions download -c tensorflow-great-barrier-reef"
      ]
    },
    {
      "cell_type": "code",
      "execution_count": 4,
      "metadata": {
        "id": "D18RwmYWwO84"
      },
      "outputs": [],
      "source": [
        "!unzip -q /content/tensorflow-great-barrier-reef.zip "
      ]
    },
    {
      "cell_type": "markdown",
      "source": [
        "# Organize dataset"
      ],
      "metadata": {
        "id": "knAuYyGSWJfA"
      }
    },
    {
      "cell_type": "code",
      "execution_count": 5,
      "metadata": {
        "id": "rTz8Sn-rBrRs"
      },
      "outputs": [],
      "source": [
        "# get train.csv\n",
        "import pandas as pd\n",
        "\n",
        "df_train = pd.read_csv('train.csv')\n",
        "df_test = pd.read_csv('test.csv')"
      ]
    },
    {
      "cell_type": "code",
      "execution_count": 6,
      "metadata": {
        "id": "acWPF0FJFpZ9"
      },
      "outputs": [],
      "source": [
        "# create hierarchy\n",
        "import os\n",
        "\n",
        "for f2 in 'images', 'labels':\n",
        "  os.makedirs(f'/content/Datasets/val/{f2}')"
      ]
    },
    {
      "cell_type": "code",
      "execution_count": 7,
      "metadata": {
        "id": "baUKP2WntbEV"
      },
      "outputs": [],
      "source": [
        "def annotation2YoloFormat(_annotation, width=1280, height=720):\n",
        "  out= ''\n",
        "  bboxes = eval(_annotation)\n",
        "  for x in bboxes:\n",
        "    x = list(x.values())\n",
        "    out += '0 %.6f %.6f %.6f %.6f\\n'%(\n",
        "      max(0,min(1,(x[0]+x[2]/2)/width)),\n",
        "      max(0,min(1,(x[1]+x[3]/2)/height)),\n",
        "      max(0,min(1,x[2]/width)),\n",
        "      max(0,min(1,x[3]/height))\n",
        "    )\n",
        "  return out.lstrip()"
      ]
    },
    {
      "cell_type": "code",
      "source": [
        "import random\n",
        "import shutil\n",
        "\n",
        "VAL_DIRECTORY = \"/content/Datasets/val\"\n",
        "\n",
        "random.seed(10)\n",
        "\n",
        "df = df_train\n",
        "for index, row in df.iterrows():\n",
        "  path_from = f'/content/train_images/video_{row.video_id}/{row.video_frame}.jpg'\n",
        "  path_to = os.path.join(VAL_DIRECTORY,f'images/{row.image_id}.jpg')\n",
        "  lb_path_to = os.path.join(VAL_DIRECTORY,f'labels/{row.image_id}.txt')\n",
        "\n",
        "  random_value = random.random()\n",
        "  if random_value < .64:\n",
        "    # if row.annotations != '[]':\n",
        "    #   shutil.move(row.image_path, f'train/images/{row.image_id}.jpg')\n",
        "    #   with open(f'train/labels/{row.image_id}.txt', 'w') as f:\n",
        "    #     for i in row.bbox:\n",
        "    #       f.write(\"0 {} {} {} {}\\n\".format(*i))\n",
        "    continue\n",
        "  else:\n",
        "    shutil.move(path_from, path_to)\n",
        "    if row.annotations != '[]':\n",
        "      with open(lb_path_to, 'w') as f:\n",
        "        f.write(annotation2YoloFormat(row.annotations))"
      ],
      "metadata": {
        "id": "478C1OinWNKm"
      },
      "execution_count": 8,
      "outputs": []
    },
    {
      "cell_type": "markdown",
      "source": [
        "# Inference on Validation dataset"
      ],
      "metadata": {
        "id": "DoYAZimiZEKs"
      }
    },
    {
      "cell_type": "code",
      "source": [
        "import torch\n",
        "import cv2\n",
        "import numpy as np"
      ],
      "metadata": {
        "id": "3sl-xdxTZP1S"
      },
      "execution_count": 9,
      "outputs": []
    },
    {
      "cell_type": "code",
      "execution_count": 10,
      "metadata": {
        "colab": {
          "base_uri": "https://localhost:8080/"
        },
        "id": "wbvMlHd_QwMG",
        "outputId": "92beb985-00d8-41b0-dba8-3108d9dbc7c4"
      },
      "outputs": [
        {
          "output_type": "stream",
          "name": "stderr",
          "text": [
            "YOLOv5 🚀 v6.0-248-gcb2ad9f torch 1.10.0+cu111 CUDA:0 (Tesla P100-PCIE-16GB, 16281MiB)\n"
          ]
        },
        {
          "output_type": "stream",
          "name": "stdout",
          "text": [
            "Setup complete ✅ (2 CPUs, 12.7 GB RAM, 70.7/166.8 GB disk)\n"
          ]
        }
      ],
      "source": [
        "!git clone https://github.com/ultralytics/yolov5  # clone\n",
        "%cd yolov5\n",
        "%pip install -qr requirements.txt  # install\n",
        "\n",
        "from yolov5 import utils\n",
        "display = utils.notebook_init()  # checks"
      ]
    },
    {
      "cell_type": "code",
      "source": [
        "def load_model(ckpt_path, conf=0.25, iou=0.50):\n",
        "  model = torch.hub.load('/content/yolov5',\n",
        "                          'custom',\n",
        "                          path=ckpt_path,\n",
        "                          source='local',\n",
        "                          force_reload=True)  # local repo\n",
        "  model.conf = conf  # NMS confidence threshold\n",
        "  model.iou  = iou  # NMS IoU threshold\n",
        "  model.classes = None   # (optional list) filter by class, i.e. = [0, 15, 16] for persons, cats and dogs\n",
        "  model.multi_label = False  # NMS multiple labels per box\n",
        "  model.max_det = 1000  # maximum number of detections per image\n",
        "  return model"
      ],
      "metadata": {
        "id": "v-SP-0_QHBYR"
      },
      "execution_count": 11,
      "outputs": []
    },
    {
      "cell_type": "code",
      "source": [
        "def predict(model, img, size=768, augment=False):\n",
        "  height, width = img.shape[:2]\n",
        "  results = model(img, size=size, augment=augment)  # custom inference size\n",
        "  preds   = results.pandas().xyxy[0]\n",
        "  bboxes  = preds[['xmin','ymin','xmax','ymax']].values\n",
        "  if len(bboxes):\n",
        "    bboxes[:,2:] -= bboxes[:,:2]\n",
        "    bboxes  = bboxes.astype(int)\n",
        "    confs   = preds.confidence.values\n",
        "    return bboxes, confs\n",
        "  else:\n",
        "    return [],[]\n",
        "\n",
        "def format_prediction(bboxes, confs):\n",
        "    annot = ''\n",
        "    if len(bboxes)>0:\n",
        "        for idx in range(len(bboxes)):\n",
        "            xmin, ymin, w, h = bboxes[idx]\n",
        "            conf             = confs[idx]\n",
        "            annot += f'{conf} {xmin} {ymin} {w} {h}'\n",
        "            annot +=' '\n",
        "        annot = annot.strip(' ')\n",
        "    return annot"
      ],
      "metadata": {
        "id": "2CxK91DdHQUu"
      },
      "execution_count": 12,
      "outputs": []
    },
    {
      "cell_type": "code",
      "source": [
        "# calculate IoU\n",
        "# pred = (x, y, width, height)\n",
        "# label = (x, y, width, height)\n",
        "def getIoU(pred, label):\n",
        "\n",
        "  area_label = label[2] * label[3]\n",
        "  area_predict = pred[2] * pred[3]\n",
        "  area_of_overlap = max(0,min(label[0]+label[2]*0.5, pred[0]+pred[2]*0.5)\\\n",
        "                  - max(label[0]-label[2]*0.5, pred[0]-pred[2]*0.5))\\\n",
        "                  * \\\n",
        "                  max(0,min(label[1]+label[3]*0.5, pred[1]+pred[3]*0.5) \\\n",
        "                  - max(label[1]-label[3]*0.5, pred[1]-pred[3]*0.5))\n",
        "  area_of_union = area_label + area_predict - area_of_overlap\n",
        "  return area_of_overlap / area_of_union\n",
        "\n",
        "def getConfusion(bboxes, confis, labels, iou_thres,\n",
        "                 conf_min=0, conf_max=1, conf_step=0.1):\n",
        "  # list of [x,y,w,h,conf]\n",
        "  b4c1 = [[*b,c] for b, c in zip(bboxes,confis)]\n",
        "  b4c1.sort(key=lambda x : x[4]) # sort in ascending order\n",
        "  # confusion matrix [conf_thres,tp,fp,fn]\n",
        "  cm = np.zeros((int((conf_max-conf_min)/conf_step)+1,4))\n",
        "  for i, c in enumerate(cm):\n",
        "    c[0] = conf_min+i*conf_step\n",
        "  # make confusion matrix for all conf thres\n",
        "  for conf_idx in range(cm.shape[0]):\n",
        "    lbs = labels.copy()\n",
        "    bc = b4c1.copy()\n",
        "    for i, x in enumerate(bc):\n",
        "      if x[4] > cm[conf_idx,0]:\n",
        "        bc = bc[i:]\n",
        "        break\n",
        "    \n",
        "    trues = len(lbs)\n",
        "    # find pred-label match\n",
        "    for sub_box in reversed(bc):\n",
        "      for l in lbs:\n",
        "        if getIoU(sub_box[:-1],l) > iou_thres:\n",
        "          cm[conf_idx,1] += 1\n",
        "          bc.remove(sub_box)\n",
        "          lbs.remove(l)\n",
        "          break\n",
        "    # remains are False Positive and False Negative each\n",
        "    cm[conf_idx,2] = len(bc)\n",
        "    cm[conf_idx,3] = len(lbs)\n",
        "  \n",
        "    \n",
        "  return cm[:,1:]"
      ],
      "metadata": {
        "id": "fxizpBuKHrAD"
      },
      "execution_count": 16,
      "outputs": []
    },
    {
      "cell_type": "code",
      "source": [
        "IMG_SIZE = 2048\n",
        "CONF_MIN = 0.1\n",
        "CONF_MAX = 0.8\n",
        "CONF_STEP = 0.1\n",
        "VAL_DIRECTORY = '/content/Datasets/val'\n",
        "LEN_VAL_DIR = len(os.listdir(f'{VAL_DIRECTORY}/images'))\n",
        "conf_steps = int((CONF_MAX-CONF_MIN)/CONF_STEP)+1\n",
        "\n",
        "my_model = load_model('/content/best.pt', conf=CONF_MIN, iou=0.3)\n",
        "m_confusions = np.zeros((11,conf_steps,3)) \n",
        "\n",
        "for idx,img_f in enumerate(os.listdir(f'{VAL_DIRECTORY}/images')):\n",
        "  if idx > 100:\n",
        "    break\n",
        "  \n",
        "  path = f'{VAL_DIRECTORY}/images/{img_f}'\n",
        "  print(f'\\r[{idx}/{LEN_VAL_DIR}]{path}',end='\\t\\t')\n",
        "  img = cv2.imread(path)[...,::-1]\n",
        "  annot = eval(df_train[df_train.image_id == img_f[:-4]].annotations.item())\n",
        "  # my model\n",
        "  bboxes, confis = predict(my_model, img, size=2048, augment=True)\n",
        "\n",
        "  for iou_idx in range(11): # iou thres from 0.3 to 0.8 step 0.05\n",
        "    iou_thres = 0.05*iou_idx+0.3\n",
        "    labels = [list(x.values()) for x in annot]\n",
        "    m_confusions[iou_idx] += getConfusion(bboxes, confis, labels, iou_thres,\n",
        "                                          CONF_MIN,CONF_MAX,CONF_STEP)\n",
        "\n",
        "       \n",
        "\n",
        "print()\n",
        "# result - my model\n",
        "confusions = m_confusions\n",
        "# print(confusions)\n",
        "# prevent zero division\n",
        "no_tp = confusions[:,:,0] == 0\n",
        "confusions[:,:,0] += no_tp\n",
        "\n",
        "precisions = confusions[:,:,0]/(confusions[:,:,0]+confusions[:,:,1])\n",
        "recalls = confusions[:,:,0]/(confusions[:,:,0]+confusions[:,:,2])\n",
        "f2s = (5*precisions*recalls)/(4*precisions+recalls)\n",
        "\n",
        "f2s *= np.logical_not(no_tp)\n",
        "for i in range(conf_steps):\n",
        "  print(CONF_MIN+CONF_STEP*i, end='  ')\n",
        "print()\n",
        "print(f2s)\n",
        "print(np.mean(f2s,axis=(0)))"
      ],
      "metadata": {
        "id": "dK_RgIcrHsk7",
        "colab": {
          "base_uri": "https://localhost:8080/"
        },
        "outputId": "d18c1dda-df5c-4df7-e7b7-b340848f84ba"
      },
      "execution_count": 19,
      "outputs": [
        {
          "output_type": "stream",
          "name": "stderr",
          "text": [
            "\u001b[31m\u001b[1mrequirements:\u001b[0m PyYAML>=5.3.1 not found and is required by YOLOv5, attempting auto-update...\n",
            "Requirement already satisfied: PyYAML>=5.3.1 in /usr/local/lib/python3.7/dist-packages (6.0)\n",
            "\n",
            "\u001b[31m\u001b[1mrequirements:\u001b[0m 1 package updated per /content/yolov5/requirements.txt\n",
            "\u001b[31m\u001b[1mrequirements:\u001b[0m ⚠️ \u001b[1mRestart runtime or rerun command for updates to take effect\u001b[0m\n",
            "\n",
            "YOLOv5 🚀 v6.0-248-gcb2ad9f torch 1.10.0+cu111 CUDA:0 (Tesla P100-PCIE-16GB, 16281MiB)\n",
            "\n",
            "Fusing layers... \n",
            "Model Summary: 213 layers, 7012822 parameters, 0 gradients, 15.8 GFLOPs\n",
            "Adding AutoShape... \n"
          ]
        },
        {
          "output_type": "stream",
          "name": "stdout",
          "text": [
            "[100/8308]/content/Datasets/val/images/2-6219.jpg\t\t\n",
            "0.1  0.2  0.30000000000000004  0.4  0.5  0.6  0.7000000000000001  0.8  \n",
            "[[    0.19011     0.28027     0.28698     0.20073     0.14634     0.12178       0.125     0.11676]\n",
            " [    0.18378     0.26906     0.27594     0.19161     0.13821     0.11461     0.11806     0.10989]\n",
            " [    0.18378     0.26906     0.27594     0.19161     0.13821     0.11461     0.11806     0.10989]\n",
            " [    0.18378     0.26906     0.27594     0.19161     0.13821     0.11461     0.11806     0.10989]\n",
            " [     0.1711     0.25785      0.2649     0.18248     0.13008     0.10745     0.11111     0.10302]\n",
            " [    0.15843     0.23543     0.24283     0.16423     0.11382    0.093123    0.097222    0.089286]\n",
            " [    0.14575     0.22422     0.23179     0.15511     0.10569     0.08596    0.090278    0.082418]\n",
            " [    0.12041     0.19058     0.19868     0.13686    0.097561    0.078797    0.076389    0.061813]\n",
            " [   0.095057     0.14574     0.15453     0.10949    0.081301     0.06447      0.0625    0.054945]\n",
            " [   0.050697    0.089686      0.0883    0.063869     0.04065     0.04298    0.034722    0.027473]\n",
            " [   0.038023    0.067265    0.066225     0.04562     0.02439    0.028653    0.020833    0.020604]]\n",
            "[    0.13826     0.20893     0.21473     0.14847     0.10495    0.087914    0.088384    0.080544]\n"
          ]
        }
      ]
    }
  ]
}