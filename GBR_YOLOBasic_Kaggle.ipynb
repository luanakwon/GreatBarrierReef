{
 "cells": [
  {
   "cell_type": "markdown",
   "id": "8a8f1c93",
   "metadata": {
    "id": "view-in-github",
    "papermill": {
     "duration": 0.016371,
     "end_time": "2022-02-05T08:00:55.384797",
     "exception": false,
     "start_time": "2022-02-05T08:00:55.368426",
     "status": "completed"
    },
    "tags": []
   },
   "source": [
    "<a href=\"https://colab.research.google.com/github/luanakwon/GreatBarrierReef/blob/main/GBR_YOLOBasic.ipynb\" target=\"_parent\"><img src=\"https://colab.research.google.com/assets/colab-badge.svg\" alt=\"Open In Colab\"/></a>"
   ]
  },
  {
   "cell_type": "markdown",
   "id": "32a83d32",
   "metadata": {
    "id": "Atikzzc0fL2v",
    "papermill": {
     "duration": 0.014716,
     "end_time": "2022-02-05T08:00:55.415036",
     "exception": false,
     "start_time": "2022-02-05T08:00:55.400320",
     "status": "completed"
    },
    "tags": []
   },
   "source": [
    "# Download dataset from kaggle api\n",
    "kaggle  \n",
    "https://www.kaggle.com/c/tensorflow-great-barrier-reef/data  \n",
    "\n",
    "kaggle API usage  \n",
    "https://colab.research.google.com/github/corrieann/kaggle/blob/master/kaggle_api_in_colab.ipynb"
   ]
  },
  {
   "cell_type": "code",
   "execution_count": 1,
   "id": "932f1485",
   "metadata": {
    "execution": {
     "iopub.execute_input": "2022-02-05T08:00:55.449898Z",
     "iopub.status.busy": "2022-02-05T08:00:55.448732Z",
     "iopub.status.idle": "2022-02-05T08:00:55.453134Z",
     "shell.execute_reply": "2022-02-05T08:00:55.453561Z",
     "shell.execute_reply.started": "2022-02-05T07:57:41.986750Z"
    },
    "id": "n-JPBh1fETGF",
    "outputId": "4f1205dc-f60f-4353-f9d6-e9ca749934dd",
    "papermill": {
     "duration": 0.023538,
     "end_time": "2022-02-05T08:00:55.453809",
     "exception": false,
     "start_time": "2022-02-05T08:00:55.430271",
     "status": "completed"
    },
    "tags": []
   },
   "outputs": [],
   "source": [
    "# !pip install kaggle\n",
    "# !pip install --upgrade --force-reinstall --no-deps kaggle"
   ]
  },
  {
   "cell_type": "code",
   "execution_count": 2,
   "id": "e068aa11",
   "metadata": {
    "execution": {
     "iopub.execute_input": "2022-02-05T08:00:55.489272Z",
     "iopub.status.busy": "2022-02-05T08:00:55.488711Z",
     "iopub.status.idle": "2022-02-05T08:00:55.493342Z",
     "shell.execute_reply": "2022-02-05T08:00:55.492746Z",
     "shell.execute_reply.started": "2022-02-05T07:57:42.008228Z"
    },
    "id": "Z27ke3uEchVJ",
    "outputId": "1bc4d761-0381-495e-e513-3774c3679ee6",
    "papermill": {
     "duration": 0.02416,
     "end_time": "2022-02-05T08:00:55.493469",
     "exception": false,
     "start_time": "2022-02-05T08:00:55.469309",
     "status": "completed"
    },
    "tags": []
   },
   "outputs": [],
   "source": [
    "# from google.colab import files\n",
    "# \n",
    "# uploaded = files.upload()\n",
    "# \n",
    "# for fn in uploaded.keys():\n",
    "#   print('User uploaded file \"{name}\" with length {length} bytes'.format(\n",
    "#       name=fn, length=len(uploaded[fn])))\n",
    "#   \n",
    "# Then move kaggle.json into the folder where the API expects to find it.\n",
    "# !mkdir -p ~/.kaggle/ && mv kaggle.json ~/.kaggle/ && chmod 600 ~/.kaggle/kaggle.json"
   ]
  },
  {
   "cell_type": "code",
   "execution_count": 3,
   "id": "00bcb8e9",
   "metadata": {
    "execution": {
     "iopub.execute_input": "2022-02-05T08:00:55.532017Z",
     "iopub.status.busy": "2022-02-05T08:00:55.531277Z",
     "iopub.status.idle": "2022-02-05T08:00:55.533007Z",
     "shell.execute_reply": "2022-02-05T08:00:55.533408Z",
     "shell.execute_reply.started": "2022-02-05T07:57:42.013247Z"
    },
    "id": "6JXwYXTxc8D4",
    "outputId": "ffa59142-86e1-4c2d-e270-fdacce817b9a",
    "papermill": {
     "duration": 0.023307,
     "end_time": "2022-02-05T08:00:55.533553",
     "exception": false,
     "start_time": "2022-02-05T08:00:55.510246",
     "status": "completed"
    },
    "tags": []
   },
   "outputs": [],
   "source": [
    "# !kaggle competitions download -c tensorflow-great-barrier-reef"
   ]
  },
  {
   "cell_type": "code",
   "execution_count": 4,
   "id": "9b8e9678",
   "metadata": {
    "execution": {
     "iopub.execute_input": "2022-02-05T08:00:55.569676Z",
     "iopub.status.busy": "2022-02-05T08:00:55.568212Z",
     "iopub.status.idle": "2022-02-05T08:00:55.571036Z",
     "shell.execute_reply": "2022-02-05T08:00:55.571684Z",
     "shell.execute_reply.started": "2022-02-05T07:57:42.029397Z"
    },
    "id": "D18RwmYWwO84",
    "papermill": {
     "duration": 0.022365,
     "end_time": "2022-02-05T08:00:55.571880",
     "exception": false,
     "start_time": "2022-02-05T08:00:55.549515",
     "status": "completed"
    },
    "tags": []
   },
   "outputs": [],
   "source": [
    "# !unzip -q /content/tensorflow-great-barrier-reef.zip "
   ]
  },
  {
   "cell_type": "markdown",
   "id": "9dd5a370",
   "metadata": {
    "id": "woh5Odk0V7lU",
    "papermill": {
     "duration": 0.023821,
     "end_time": "2022-02-05T08:00:55.619629",
     "exception": false,
     "start_time": "2022-02-05T08:00:55.595808",
     "status": "completed"
    },
    "tags": []
   },
   "source": [
    "# Session 1\n",
    "---\n",
    "Useful links  \n",
    "- [YOLOv5 - Train Custom Data github](https://github.com/ultralytics/yolov5/wiki/Train-Custom-Data)  \n"
   ]
  },
  {
   "cell_type": "code",
   "execution_count": 5,
   "id": "7326f369",
   "metadata": {
    "execution": {
     "iopub.execute_input": "2022-02-05T08:00:55.672610Z",
     "iopub.status.busy": "2022-02-05T08:00:55.671900Z",
     "iopub.status.idle": "2022-02-05T08:00:55.682867Z",
     "shell.execute_reply": "2022-02-05T08:00:55.682223Z",
     "shell.execute_reply.started": "2022-02-05T07:57:42.042233Z"
    },
    "id": "acWPF0FJFpZ9",
    "papermill": {
     "duration": 0.039434,
     "end_time": "2022-02-05T08:00:55.683011",
     "exception": false,
     "start_time": "2022-02-05T08:00:55.643577",
     "status": "completed"
    },
    "tags": []
   },
   "outputs": [
    {
     "data": {
      "text/plain": [
       "\"\\n# create hierarchy\\nimport os\\n\\nfor f1 in 'train', 'val', 'test':\\n  for f2 in 'images', 'labels':\\n    os.makedirs(f'/content/Datasets/{f1}/{f2}')\\n    \\n\""
      ]
     },
     "execution_count": 5,
     "metadata": {},
     "output_type": "execute_result"
    }
   ],
   "source": [
    "\"\"\"\n",
    "# create hierarchy\n",
    "import os\n",
    "\n",
    "for f1 in 'train', 'val', 'test':\n",
    "  for f2 in 'images', 'labels':\n",
    "    os.makedirs(f'/content/Datasets/{f1}/{f2}')\n",
    "    \n",
    "\"\"\""
   ]
  },
  {
   "cell_type": "code",
   "execution_count": 6,
   "id": "9aeb4d0b",
   "metadata": {
    "execution": {
     "iopub.execute_input": "2022-02-05T08:00:55.738578Z",
     "iopub.status.busy": "2022-02-05T08:00:55.737855Z",
     "iopub.status.idle": "2022-02-05T08:00:55.740464Z",
     "shell.execute_reply": "2022-02-05T08:00:55.741002Z",
     "shell.execute_reply.started": "2022-02-05T07:57:42.060144Z"
    },
    "id": "rTz8Sn-rBrRs",
    "papermill": {
     "duration": 0.032945,
     "end_time": "2022-02-05T08:00:55.741176",
     "exception": false,
     "start_time": "2022-02-05T08:00:55.708231",
     "status": "completed"
    },
    "tags": []
   },
   "outputs": [
    {
     "data": {
      "text/plain": [
       "\"\\n# get train.csv\\nimport pandas as pd\\n\\ndf_train = pd.read_csv('train.csv')\\ndf_test = pd.read_csv('test.csv')\\ndf_train\\n\""
      ]
     },
     "execution_count": 6,
     "metadata": {},
     "output_type": "execute_result"
    }
   ],
   "source": [
    "\"\"\"\n",
    "# get train.csv\n",
    "import pandas as pd\n",
    "\n",
    "df_train = pd.read_csv('train.csv')\n",
    "df_test = pd.read_csv('test.csv')\n",
    "df_train\n",
    "\"\"\""
   ]
  },
  {
   "cell_type": "code",
   "execution_count": 7,
   "id": "f6ff69c9",
   "metadata": {
    "execution": {
     "iopub.execute_input": "2022-02-05T08:00:55.795898Z",
     "iopub.status.busy": "2022-02-05T08:00:55.795127Z",
     "iopub.status.idle": "2022-02-05T08:00:55.799346Z",
     "shell.execute_reply": "2022-02-05T08:00:55.799967Z",
     "shell.execute_reply.started": "2022-02-05T07:57:42.072751Z"
    },
    "id": "baUKP2WntbEV",
    "papermill": {
     "duration": 0.033576,
     "end_time": "2022-02-05T08:00:55.800143",
     "exception": false,
     "start_time": "2022-02-05T08:00:55.766567",
     "status": "completed"
    },
    "tags": []
   },
   "outputs": [
    {
     "data": {
      "text/plain": [
       "'\\ndef annotation2YoloFormat(_annotation, width=1280, height=720):\\n  out = \\'\\'\\n  if isinstance(_annotation,str):\\n    a = _annotation\\n    while True:\\n      ix = a.find(\"\\'x\\': \")\\n      iy = a.find(\"\\'y\\': \")\\n      iw = a.find(\"\\'width\\': \")\\n      ih = a.find(\"\\'height\\': \")\\n      \\n      if ix < 0 or iy < 0 or iw < 0 or ih < 0:\\n        break\\n\\n      x = float(a[ix + len(\"\\'x\\': \"):a.find(\", \\'y\")])/width\\n      y = float(a[iy + len(\"\\'y\\': \"):a.find(\", \\'w\")])/height\\n      w = float(a[iw + len(\"\\'width\\': \"):a.find(\", \\'h\")])/width\\n      h = float(a[ih + len(\"\\'height\\': \"):a.find(\\'}\\')])/height\\n      \\n      \\n      out += \\'0 %.6f %.6f %.6f %.6f\\n\\'%(x+w/2, y+h/2, w, h)\\n      a = a[a.find(\\'}\\')+1:]\\n    \\n    out = out[:-1]\\n  return out\\n  '"
      ]
     },
     "execution_count": 7,
     "metadata": {},
     "output_type": "execute_result"
    }
   ],
   "source": [
    "\"\"\"\n",
    "def annotation2YoloFormat(_annotation, width=1280, height=720):\n",
    "  out = ''\n",
    "  if isinstance(_annotation,str):\n",
    "    a = _annotation\n",
    "    while True:\n",
    "      ix = a.find(\"'x': \")\n",
    "      iy = a.find(\"'y': \")\n",
    "      iw = a.find(\"'width': \")\n",
    "      ih = a.find(\"'height': \")\n",
    "      \n",
    "      if ix < 0 or iy < 0 or iw < 0 or ih < 0:\n",
    "        break\n",
    "\n",
    "      x = float(a[ix + len(\"'x': \"):a.find(\", 'y\")])/width\n",
    "      y = float(a[iy + len(\"'y': \"):a.find(\", 'w\")])/height\n",
    "      w = float(a[iw + len(\"'width': \"):a.find(\", 'h\")])/width\n",
    "      h = float(a[ih + len(\"'height': \"):a.find('}')])/height\n",
    "      \n",
    "      \n",
    "      out += '0 %.6f %.6f %.6f %.6f\\n'%(x+w/2, y+h/2, w, h)\n",
    "      a = a[a.find('}')+1:]\n",
    "    \n",
    "    out = out[:-1]\n",
    "  return out\n",
    "  \"\"\""
   ]
  },
  {
   "cell_type": "code",
   "execution_count": 8,
   "id": "7e92342a",
   "metadata": {
    "execution": {
     "iopub.execute_input": "2022-02-05T08:00:55.854882Z",
     "iopub.status.busy": "2022-02-05T08:00:55.854148Z",
     "iopub.status.idle": "2022-02-05T08:00:55.858627Z",
     "shell.execute_reply": "2022-02-05T08:00:55.859201Z",
     "shell.execute_reply.started": "2022-02-05T07:57:42.086974Z"
    },
    "id": "uqxZ_4iaW1Gg",
    "outputId": "93498d40-98f2-49b3-b333-23e792e581c4",
    "papermill": {
     "duration": 0.034216,
     "end_time": "2022-02-05T08:00:55.859388",
     "exception": false,
     "start_time": "2022-02-05T08:00:55.825172",
     "status": "completed"
    },
    "tags": []
   },
   "outputs": [
    {
     "data": {
      "text/plain": [
       "'\\n# read images from /content/train_images\\n# change name\\n# save the image to train | val | test. ratio = 0.64 : 0.16 : 0.2\\n# create corresponding txt file and save\\n\\n# change image name to image id\\n# split images by train:val:test = .64:.16:.2\\nimport shutil\\nimport os\\nimport random\\nrandom.seed(31415)\\n%cd train_images\\n\\nTEST_DIRECTORY = \"../Datasets/test\"\\nTRAIN_DIRECTORY = \"../Datasets/train\"\\nVAL_DIRECTORY = \"../Datasets/val\"\\n\\nfor dir in os.listdir():\\n  # print(dir)\\n  for image in os.listdir(dir):\\n    annot = df_train.loc[df_train[\\'image_id\\']==f\\'{dir[-1]}-{image[:-4]}\\', \\'annotations\\'].iloc[0]\\n    if annot != \\'[]\\':\\n      random_key = random.random()\\n      if random_key < 0.64:\\n        random_folder = TRAIN_DIRECTORY\\n      elif random_key < 0.8:\\n        random_folder = VAL_DIRECTORY\\n      else:\\n        random_folder = TEST_DIRECTORY\\n      shutil.move(f\\'{dir}/{image}\\', f\"../Datasets/{random_folder}/images/{dir[-1]}-{image}\")\\n\\n      # might add label as well while in iteration\\n      # as YOLO format [{xywh},{},...]\\n      f = open(f\"../Datasets/{random_folder}/labels/{dir[-1]}-{image[:-4]}.txt\", \\'w\\')\\n      f.write(annotation2YoloFormat(annot))\\n      f.close()\\n\\n%cd ..\\n!rm -rf train_images/\\n'"
      ]
     },
     "execution_count": 8,
     "metadata": {},
     "output_type": "execute_result"
    }
   ],
   "source": [
    "\"\"\"\n",
    "# read images from /content/train_images\n",
    "# change name\n",
    "# save the image to train | val | test. ratio = 0.64 : 0.16 : 0.2\n",
    "# create corresponding txt file and save\n",
    "\n",
    "# change image name to image id\n",
    "# split images by train:val:test = .64:.16:.2\n",
    "import shutil\n",
    "import os\n",
    "import random\n",
    "random.seed(31415)\n",
    "%cd train_images\n",
    "\n",
    "TEST_DIRECTORY = \"../Datasets/test\"\n",
    "TRAIN_DIRECTORY = \"../Datasets/train\"\n",
    "VAL_DIRECTORY = \"../Datasets/val\"\n",
    "\n",
    "for dir in os.listdir():\n",
    "  # print(dir)\n",
    "  for image in os.listdir(dir):\n",
    "    annot = df_train.loc[df_train['image_id']==f'{dir[-1]}-{image[:-4]}', 'annotations'].iloc[0]\n",
    "    if annot != '[]':\n",
    "      random_key = random.random()\n",
    "      if random_key < 0.64:\n",
    "        random_folder = TRAIN_DIRECTORY\n",
    "      elif random_key < 0.8:\n",
    "        random_folder = VAL_DIRECTORY\n",
    "      else:\n",
    "        random_folder = TEST_DIRECTORY\n",
    "      shutil.move(f'{dir}/{image}', f\"../Datasets/{random_folder}/images/{dir[-1]}-{image}\")\n",
    "\n",
    "      # might add label as well while in iteration\n",
    "      # as YOLO format [{xywh},{},...]\n",
    "      f = open(f\"../Datasets/{random_folder}/labels/{dir[-1]}-{image[:-4]}.txt\", 'w')\n",
    "      f.write(annotation2YoloFormat(annot))\n",
    "      f.close()\n",
    "\n",
    "%cd ..\n",
    "!rm -rf train_images/\n",
    "\"\"\""
   ]
  },
  {
   "cell_type": "code",
   "execution_count": 9,
   "id": "04e902fd",
   "metadata": {
    "execution": {
     "iopub.execute_input": "2022-02-05T08:00:55.917917Z",
     "iopub.status.busy": "2022-02-05T08:00:55.917151Z",
     "iopub.status.idle": "2022-02-05T08:00:55.919861Z",
     "shell.execute_reply": "2022-02-05T08:00:55.920385Z",
     "shell.execute_reply.started": "2022-02-05T07:57:42.101776Z"
    },
    "id": "wbvMlHd_QwMG",
    "outputId": "50453b58-4b1e-4f75-9895-20f78a36a203",
    "papermill": {
     "duration": 0.035244,
     "end_time": "2022-02-05T08:00:55.920567",
     "exception": false,
     "start_time": "2022-02-05T08:00:55.885323",
     "status": "completed"
    },
    "tags": []
   },
   "outputs": [
    {
     "data": {
      "text/plain": [
       "'\\n#!git clone https://github.com/ultralytics/yolov5  # clone\\n%cd yolov5\\n%pip install -r requirements.txt  # install\\n\\nimport torch\\nfrom yolov5 import utils\\n# display = utils.notebook_init()  # checks\\n'"
      ]
     },
     "execution_count": 9,
     "metadata": {},
     "output_type": "execute_result"
    }
   ],
   "source": [
    "\"\"\"\n",
    "#!git clone https://github.com/ultralytics/yolov5  # clone\n",
    "%cd yolov5\n",
    "%pip install -r requirements.txt  # install\n",
    "\n",
    "import torch\n",
    "from yolov5 import utils\n",
    "# display = utils.notebook_init()  # checks\n",
    "\"\"\""
   ]
  },
  {
   "cell_type": "markdown",
   "id": "594f19ae",
   "metadata": {
    "id": "W4SnuptqeYiA",
    "papermill": {
     "duration": 0.028279,
     "end_time": "2022-02-05T08:00:55.976421",
     "exception": false,
     "start_time": "2022-02-05T08:00:55.948142",
     "status": "completed"
    },
    "tags": []
   },
   "source": [
    "# Under /content/yolov5"
   ]
  },
  {
   "cell_type": "code",
   "execution_count": 10,
   "id": "78c9fb14",
   "metadata": {
    "execution": {
     "iopub.execute_input": "2022-02-05T08:00:56.048892Z",
     "iopub.status.busy": "2022-02-05T08:00:56.047935Z",
     "iopub.status.idle": "2022-02-05T08:00:56.051284Z",
     "shell.execute_reply": "2022-02-05T08:00:56.051992Z",
     "shell.execute_reply.started": "2022-02-05T07:57:42.120237Z"
    },
    "id": "KUO-ZP2gLdpT",
    "outputId": "627b7e3a-7c82-4c2e-a5e3-f48b94f66ee2",
    "papermill": {
     "duration": 0.043848,
     "end_time": "2022-02-05T08:00:56.052216",
     "exception": false,
     "start_time": "2022-02-05T08:00:56.008368",
     "status": "completed"
    },
    "tags": []
   },
   "outputs": [
    {
     "data": {
      "text/plain": [
       "'\\n# create yaml file and save to /data (your at /content/yolov5)\\n# https://drive.google.com/file/d/1BBrQ5_1urHvJdYOmYPR-HalMeF9dnK37/view?usp=sharing\\n!gdown --id 1BBrQ5_1urHvJdYOmYPR-HalMeF9dnK37 -O /content/yolov5/data/GBR.yaml\\n'"
      ]
     },
     "execution_count": 10,
     "metadata": {},
     "output_type": "execute_result"
    }
   ],
   "source": [
    "\"\"\"\n",
    "# create yaml file and save to /data (your at /content/yolov5)\n",
    "# https://drive.google.com/file/d/1BBrQ5_1urHvJdYOmYPR-HalMeF9dnK37/view?usp=sharing\n",
    "!gdown --id 1BBrQ5_1urHvJdYOmYPR-HalMeF9dnK37 -O /content/yolov5/data/GBR.yaml\n",
    "\"\"\""
   ]
  },
  {
   "cell_type": "code",
   "execution_count": 11,
   "id": "2dea97d1",
   "metadata": {
    "execution": {
     "iopub.execute_input": "2022-02-05T08:00:56.115749Z",
     "iopub.status.busy": "2022-02-05T08:00:56.114852Z",
     "iopub.status.idle": "2022-02-05T08:00:56.118226Z",
     "shell.execute_reply": "2022-02-05T08:00:56.118820Z",
     "shell.execute_reply.started": "2022-02-05T07:57:42.131393Z"
    },
    "id": "k47ZnEx4L8hF",
    "papermill": {
     "duration": 0.034518,
     "end_time": "2022-02-05T08:00:56.119029",
     "exception": false,
     "start_time": "2022-02-05T08:00:56.084511",
     "status": "completed"
    },
    "tags": []
   },
   "outputs": [],
   "source": [
    "# Train YOLOv5s on COCO128 for 3 epochs\n",
    "# --img : image size (size,size)\n",
    "# --batch : batch size\n",
    "# --epochs : epochs\n",
    "# --data : .yaml file name\n",
    "# --weights : pretrained weights ('' --cfg yolov5s.yaml if from scratch)\n",
    "# !python train.py --img 720 --batch 20 --epochs 12 --data GBR.yaml --weights yolov5m.pt"
   ]
  },
  {
   "cell_type": "markdown",
   "id": "f9f1bf77",
   "metadata": {
    "id": "Q_KfojRcfSUP",
    "papermill": {
     "duration": 0.026482,
     "end_time": "2022-02-05T08:00:56.172448",
     "exception": false,
     "start_time": "2022-02-05T08:00:56.145966",
     "status": "completed"
    },
    "tags": []
   },
   "source": [
    "# Visualization"
   ]
  },
  {
   "cell_type": "code",
   "execution_count": 12,
   "id": "e3c90cc9",
   "metadata": {
    "execution": {
     "iopub.execute_input": "2022-02-05T08:00:56.233452Z",
     "iopub.status.busy": "2022-02-05T08:00:56.232723Z",
     "iopub.status.idle": "2022-02-05T08:00:56.238131Z",
     "shell.execute_reply": "2022-02-05T08:00:56.238686Z",
     "shell.execute_reply.started": "2022-02-05T07:57:42.144491Z"
    },
    "id": "q2PShNdCSrMV",
    "papermill": {
     "duration": 0.03954,
     "end_time": "2022-02-05T08:00:56.238903",
     "exception": false,
     "start_time": "2022-02-05T08:00:56.199363",
     "status": "completed"
    },
    "tags": []
   },
   "outputs": [
    {
     "data": {
      "text/plain": [
       "'\\n%cd /content/yolov5\\n!python detect.py --img 640 --source ../Datasets/test/images --weights runs/train/exp2/weights/best.pt --data data/GBR.yaml --nosave --save-txt --save-conf --conf-thres 0.01 --iou-thres 0.3 --max-det 100\\n'"
      ]
     },
     "execution_count": 12,
     "metadata": {},
     "output_type": "execute_result"
    }
   ],
   "source": [
    "\"\"\"\n",
    "%cd /content/yolov5\n",
    "!python detect.py --img 640\\\n",
    " --source ../Datasets/test/images\\\n",
    " --weights runs/train/exp2/weights/best.pt\\\n",
    " --data data/GBR.yaml\\\n",
    " --nosave\\\n",
    " --save-txt\\\n",
    " --save-conf\\\n",
    " --conf-thres 0.01\\\n",
    " --iou-thres 0.3\\\n",
    " --max-det 100\n",
    "\"\"\""
   ]
  },
  {
   "cell_type": "code",
   "execution_count": 13,
   "id": "99f986fc",
   "metadata": {
    "execution": {
     "iopub.execute_input": "2022-02-05T08:00:56.295685Z",
     "iopub.status.busy": "2022-02-05T08:00:56.295078Z",
     "iopub.status.idle": "2022-02-05T08:00:56.299629Z",
     "shell.execute_reply": "2022-02-05T08:00:56.300654Z",
     "shell.execute_reply.started": "2022-02-05T07:57:42.163301Z"
    },
    "id": "xKNDhrelf9YI",
    "papermill": {
     "duration": 0.034835,
     "end_time": "2022-02-05T08:00:56.300957",
     "exception": false,
     "start_time": "2022-02-05T08:00:56.266122",
     "status": "completed"
    },
    "tags": []
   },
   "outputs": [
    {
     "data": {
      "text/plain": [
       "'\\n%cd /content/yolov5/runs/detect/exp2/labels\\n!zip /content/exp_pred_labels.zip *.txt\\n%cd /content/Datasets/test/labels\\n!zip /content/exp_true_labels.zip *.txt\\n%cd /content\\n'"
      ]
     },
     "execution_count": 13,
     "metadata": {},
     "output_type": "execute_result"
    }
   ],
   "source": [
    "\"\"\"\n",
    "%cd /content/yolov5/runs/detect/exp2/labels\n",
    "!zip /content/exp_pred_labels.zip *.txt\n",
    "%cd /content/Datasets/test/labels\n",
    "!zip /content/exp_true_labels.zip *.txt\n",
    "%cd /content\n",
    "\"\"\""
   ]
  },
  {
   "cell_type": "code",
   "execution_count": 14,
   "id": "c70a21ff",
   "metadata": {
    "execution": {
     "iopub.execute_input": "2022-02-05T08:00:56.359481Z",
     "iopub.status.busy": "2022-02-05T08:00:56.358786Z",
     "iopub.status.idle": "2022-02-05T08:00:56.363100Z",
     "shell.execute_reply": "2022-02-05T08:00:56.363681Z",
     "shell.execute_reply.started": "2022-02-05T07:57:42.183182Z"
    },
    "id": "zbmSxR7vPdf9",
    "papermill": {
     "duration": 0.035496,
     "end_time": "2022-02-05T08:00:56.363883",
     "exception": false,
     "start_time": "2022-02-05T08:00:56.328387",
     "status": "completed"
    },
    "tags": []
   },
   "outputs": [
    {
     "data": {
      "text/plain": [
       "\"\\n%cd /content/yolov5\\n# visualize\\nfrom utils.plots import plot_results \\nplot_results('./runs/train/exp2/results.csv')  # plot 'results.csv' as 'results.png'\\n\""
      ]
     },
     "execution_count": 14,
     "metadata": {},
     "output_type": "execute_result"
    }
   ],
   "source": [
    "\"\"\"\n",
    "%cd /content/yolov5\n",
    "# visualize\n",
    "from utils.plots import plot_results \n",
    "plot_results('./runs/train/exp2/results.csv')  # plot 'results.csv' as 'results.png'\n",
    "\"\"\""
   ]
  },
  {
   "cell_type": "code",
   "execution_count": 15,
   "id": "dbeac3d1",
   "metadata": {
    "execution": {
     "iopub.execute_input": "2022-02-05T08:00:56.424867Z",
     "iopub.status.busy": "2022-02-05T08:00:56.424160Z",
     "iopub.status.idle": "2022-02-05T08:00:56.428791Z",
     "shell.execute_reply": "2022-02-05T08:00:56.429355Z",
     "shell.execute_reply.started": "2022-02-05T07:57:42.200178Z"
    },
    "id": "nEbL6eJre3PK",
    "outputId": "cca9b36c-c7e2-4698-ecd6-fdf7757b72e5",
    "papermill": {
     "duration": 0.037346,
     "end_time": "2022-02-05T08:00:56.429616",
     "exception": false,
     "start_time": "2022-02-05T08:00:56.392270",
     "status": "completed"
    },
    "tags": []
   },
   "outputs": [
    {
     "data": {
      "text/plain": [
       "\"\\nimport cv2\\nfrom google.colab.patches import cv2_imshow\\ncv2_imshow(cv2.imread('./runs/train/exp2/results.png'))\\n\""
      ]
     },
     "execution_count": 15,
     "metadata": {},
     "output_type": "execute_result"
    }
   ],
   "source": [
    "\"\"\"\n",
    "import cv2\n",
    "from google.colab.patches import cv2_imshow\n",
    "cv2_imshow(cv2.imread('./runs/train/exp2/results.png'))\n",
    "\"\"\""
   ]
  },
  {
   "cell_type": "markdown",
   "id": "5e2ee0e7",
   "metadata": {
    "id": "0_cqT7bKx25g",
    "papermill": {
     "duration": 0.027983,
     "end_time": "2022-02-05T08:00:56.486665",
     "exception": false,
     "start_time": "2022-02-05T08:00:56.458682",
     "status": "completed"
    },
    "tags": []
   },
   "source": [
    "# Submit"
   ]
  },
  {
   "cell_type": "code",
   "execution_count": 16,
   "id": "6af04eac",
   "metadata": {
    "execution": {
     "iopub.execute_input": "2022-02-05T08:00:56.546301Z",
     "iopub.status.busy": "2022-02-05T08:00:56.545631Z",
     "iopub.status.idle": "2022-02-05T08:00:56.549761Z",
     "shell.execute_reply": "2022-02-05T08:00:56.550330Z",
     "shell.execute_reply.started": "2022-02-05T07:57:42.214298Z"
    },
    "id": "nAKkcSqpxwIH",
    "outputId": "1db0f795-4efb-4cb0-a309-e53e02507a3e",
    "papermill": {
     "duration": 0.035374,
     "end_time": "2022-02-05T08:00:56.550490",
     "exception": false,
     "start_time": "2022-02-05T08:00:56.515116",
     "status": "completed"
    },
    "tags": []
   },
   "outputs": [
    {
     "data": {
      "text/plain": [
       "'\\n# https://drive.google.com/file/d/1Koc5DW5obyZ5blVzdP5EHeaFDfmUNkE0/view?usp=sharing\\n# save custom detect.py to /content/yolov5/detect2.py\\n!gdown --id 1Koc5DW5obyZ5blVzdP5EHeaFDfmUNkE0 -O /content/yolov5/detect2.py\\n\\n# https://drive.google.com/file/d/1JMNnFYJOgKZTA1a0RGBMbRO2EFouZU4K/view?usp=sharing\\n# save custom datasets.py to /content/yolov5/utils/datasets.py\\n!gdown --id 1JMNnFYJOgKZTA1a0RGBMbRO2EFouZU4K -O /content/yolov5/utils/datasets.py\\n'"
      ]
     },
     "execution_count": 16,
     "metadata": {},
     "output_type": "execute_result"
    }
   ],
   "source": [
    "\"\"\"\n",
    "# https://drive.google.com/file/d/1Koc5DW5obyZ5blVzdP5EHeaFDfmUNkE0/view?usp=sharing\n",
    "# save custom detect.py to /content/yolov5/detect2.py\n",
    "!gdown --id 1Koc5DW5obyZ5blVzdP5EHeaFDfmUNkE0 -O /content/yolov5/detect2.py\n",
    "\n",
    "# https://drive.google.com/file/d/1JMNnFYJOgKZTA1a0RGBMbRO2EFouZU4K/view?usp=sharing\n",
    "# save custom datasets.py to /content/yolov5/utils/datasets.py\n",
    "!gdown --id 1JMNnFYJOgKZTA1a0RGBMbRO2EFouZU4K -O /content/yolov5/utils/datasets.py\n",
    "\"\"\""
   ]
  },
  {
   "cell_type": "code",
   "execution_count": 17,
   "id": "e0dd3fb0",
   "metadata": {
    "execution": {
     "iopub.execute_input": "2022-02-05T08:00:56.611084Z",
     "iopub.status.busy": "2022-02-05T08:00:56.610379Z",
     "iopub.status.idle": "2022-02-05T08:00:56.615238Z",
     "shell.execute_reply": "2022-02-05T08:00:56.615945Z",
     "shell.execute_reply.started": "2022-02-05T07:57:42.228253Z"
    },
    "papermill": {
     "duration": 0.037426,
     "end_time": "2022-02-05T08:00:56.616151",
     "exception": false,
     "start_time": "2022-02-05T08:00:56.578725",
     "status": "completed"
    },
    "tags": []
   },
   "outputs": [
    {
     "name": "stdout",
     "output_type": "stream",
     "text": [
      "[Errno 2] No such file or directory: './working'\n",
      "/kaggle/working\n"
     ]
    }
   ],
   "source": [
    "%cd ./working"
   ]
  },
  {
   "cell_type": "code",
   "execution_count": 18,
   "id": "33f2be25",
   "metadata": {
    "execution": {
     "iopub.execute_input": "2022-02-05T08:00:56.680010Z",
     "iopub.status.busy": "2022-02-05T08:00:56.679299Z",
     "iopub.status.idle": "2022-02-05T08:01:05.845943Z",
     "shell.execute_reply": "2022-02-05T08:01:05.844585Z",
     "shell.execute_reply.started": "2022-02-05T07:57:42.243071Z"
    },
    "id": "vR49Yu5bbkOO",
    "outputId": "42db54c0-eb3f-4267-e888-d9d9ede498c5",
    "papermill": {
     "duration": 9.198464,
     "end_time": "2022-02-05T08:01:05.846103",
     "exception": false,
     "start_time": "2022-02-05T08:00:56.647639",
     "status": "completed"
    },
    "tags": []
   },
   "outputs": [
    {
     "name": "stdout",
     "output_type": "stream",
     "text": [
      "/kaggle/input/yologithubrepoandsomecustom\n"
     ]
    },
    {
     "name": "stderr",
     "output_type": "stream",
     "text": [
      "Downloading https://ultralytics.com/assets/Arial.ttf to /root/.config/Ultralytics/Arial.ttf...\n"
     ]
    },
    {
     "name": "stdout",
     "output_type": "stream",
     "text": [
      "/kaggle/working\n",
      "__notebook__.ipynb\r\n"
     ]
    },
    {
     "name": "stderr",
     "output_type": "stream",
     "text": [
      "YOLOv5 🚀 v6.0-235-ge1a6a0b torch 1.9.1+cpu CPU\n",
      "\n",
      "Fusing layers... \n",
      "Model Summary: 290 layers, 20852934 parameters, 0 gradients\n",
      "WARNING: --img-size (640, 640) must be multiple of max stride 32, updating to [640, 640]\n"
     ]
    },
    {
     "name": "stdout",
     "output_type": "stream",
     "text": [
      "This version of the API is not optimized and should not be used to estimate the runtime of your code on the hidden test set.\n"
     ]
    }
   ],
   "source": [
    "# something like this...?\n",
    "import greatbarrierreef\n",
    "%cd ../input/yologithubrepoandsomecustom\n",
    "from yolov5.detect2 import run as detect2run\n",
    "%cd ../../working\n",
    "%ls\n",
    "\n",
    "detect2run(\n",
    "    weights='../input/yologithubrepoandsomecustom/yolov5/weights/best.pt',\n",
    "    data='../input/yologithubrepoandsomecustom/yolov5/data/GBR.yaml',\n",
    "    env=greatbarrierreef.make_env(),\n",
    "    conf_thres=0.01,\n",
    "    iou_thres=0.3,\n",
    "    max_det=100\n",
    ")"
   ]
  },
  {
   "cell_type": "code",
   "execution_count": 19,
   "id": "3d26b416",
   "metadata": {
    "execution": {
     "iopub.execute_input": "2022-02-05T08:01:05.894246Z",
     "iopub.status.busy": "2022-02-05T08:01:05.893490Z",
     "iopub.status.idle": "2022-02-05T08:01:05.906572Z",
     "shell.execute_reply": "2022-02-05T08:01:05.906132Z",
     "shell.execute_reply.started": "2022-02-05T07:59:35.860139Z"
    },
    "papermill": {
     "duration": 0.039146,
     "end_time": "2022-02-05T08:01:05.906704",
     "exception": false,
     "start_time": "2022-02-05T08:01:05.867558",
     "status": "completed"
    },
    "tags": []
   },
   "outputs": [
    {
     "data": {
      "text/html": [
       "<div>\n",
       "<style scoped>\n",
       "    .dataframe tbody tr th:only-of-type {\n",
       "        vertical-align: middle;\n",
       "    }\n",
       "\n",
       "    .dataframe tbody tr th {\n",
       "        vertical-align: top;\n",
       "    }\n",
       "\n",
       "    .dataframe thead th {\n",
       "        text-align: right;\n",
       "    }\n",
       "</style>\n",
       "<table border=\"1\" class=\"dataframe\">\n",
       "  <thead>\n",
       "    <tr style=\"text-align: right;\">\n",
       "      <th></th>\n",
       "      <th>index</th>\n",
       "      <th>annotations</th>\n",
       "    </tr>\n",
       "  </thead>\n",
       "  <tbody>\n",
       "    <tr>\n",
       "      <th>0</th>\n",
       "      <td>0</td>\n",
       "      <td>0.197906 265 255 40 30\\n</td>\n",
       "    </tr>\n",
       "    <tr>\n",
       "      <th>1</th>\n",
       "      <td>1</td>\n",
       "      <td>0.011626 261 260 37 28\\n0.011906 1234 667 45 50\\n</td>\n",
       "    </tr>\n",
       "    <tr>\n",
       "      <th>2</th>\n",
       "      <td>2</td>\n",
       "      <td>0.052807 257 260 40 30\\n</td>\n",
       "    </tr>\n",
       "  </tbody>\n",
       "</table>\n",
       "</div>"
      ],
      "text/plain": [
       "   index                                        annotations\n",
       "0      0                           0.197906 265 255 40 30\\n\n",
       "1      1  0.011626 261 260 37 28\\n0.011906 1234 667 45 50\\n\n",
       "2      2                           0.052807 257 260 40 30\\n"
      ]
     },
     "execution_count": 19,
     "metadata": {},
     "output_type": "execute_result"
    }
   ],
   "source": [
    "import pandas\n",
    "submission_df = pandas.read_csv('./submission.csv')\n",
    "submission_df"
   ]
  }
 ],
 "metadata": {
  "kernelspec": {
   "display_name": "Python 3",
   "language": "python",
   "name": "python3"
  },
  "language_info": {
   "codemirror_mode": {
    "name": "ipython",
    "version": 3
   },
   "file_extension": ".py",
   "mimetype": "text/x-python",
   "name": "python",
   "nbconvert_exporter": "python",
   "pygments_lexer": "ipython3",
   "version": "3.7.12"
  },
  "papermill": {
   "default_parameters": {},
   "duration": 20.782898,
   "end_time": "2022-02-05T08:01:07.241764",
   "environment_variables": {},
   "exception": null,
   "input_path": "__notebook__.ipynb",
   "output_path": "__notebook__.ipynb",
   "parameters": {},
   "start_time": "2022-02-05T08:00:46.458866",
   "version": "2.3.3"
  }
 },
 "nbformat": 4,
 "nbformat_minor": 5
}
