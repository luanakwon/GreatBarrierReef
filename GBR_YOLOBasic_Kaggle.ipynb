{
 "cells": [
  {
   "cell_type": "markdown",
   "id": "f794847d",
   "metadata": {
    "id": "view-in-github",
    "papermill": {
     "duration": 0.015855,
     "end_time": "2022-02-06T09:05:17.367559",
     "exception": false,
     "start_time": "2022-02-06T09:05:17.351704",
     "status": "completed"
    },
    "tags": []
   },
   "source": [
    "<a href=\"https://colab.research.google.com/github/luanakwon/GreatBarrierReef/blob/main/GBR_YOLOBasic.ipynb\" target=\"_parent\"><img src=\"https://colab.research.google.com/assets/colab-badge.svg\" alt=\"Open In Colab\"/></a>"
   ]
  },
  {
   "cell_type": "markdown",
   "id": "086832b6",
   "metadata": {
    "id": "Atikzzc0fL2v",
    "papermill": {
     "duration": 0.014097,
     "end_time": "2022-02-06T09:05:17.396771",
     "exception": false,
     "start_time": "2022-02-06T09:05:17.382674",
     "status": "completed"
    },
    "tags": []
   },
   "source": [
    "# Download dataset from kaggle api\n",
    "kaggle  \n",
    "https://www.kaggle.com/c/tensorflow-great-barrier-reef/data  \n",
    "\n",
    "kaggle API usage  \n",
    "https://colab.research.google.com/github/corrieann/kaggle/blob/master/kaggle_api_in_colab.ipynb"
   ]
  },
  {
   "cell_type": "code",
   "execution_count": 1,
   "id": "12a07652",
   "metadata": {
    "execution": {
     "iopub.execute_input": "2022-02-06T09:05:17.432907Z",
     "iopub.status.busy": "2022-02-06T09:05:17.432134Z",
     "iopub.status.idle": "2022-02-06T09:05:17.434104Z",
     "shell.execute_reply": "2022-02-06T09:05:17.434549Z",
     "shell.execute_reply.started": "2022-02-06T06:36:27.861014Z"
    },
    "id": "n-JPBh1fETGF",
    "outputId": "4f1205dc-f60f-4353-f9d6-e9ca749934dd",
    "papermill": {
     "duration": 0.023368,
     "end_time": "2022-02-06T09:05:17.434850",
     "exception": false,
     "start_time": "2022-02-06T09:05:17.411482",
     "status": "completed"
    },
    "tags": []
   },
   "outputs": [],
   "source": [
    "# !pip install kaggle\n",
    "# !pip install --upgrade --force-reinstall --no-deps kaggle"
   ]
  },
  {
   "cell_type": "code",
   "execution_count": 2,
   "id": "8d2bce27",
   "metadata": {
    "execution": {
     "iopub.execute_input": "2022-02-06T09:05:17.468108Z",
     "iopub.status.busy": "2022-02-06T09:05:17.467479Z",
     "iopub.status.idle": "2022-02-06T09:05:17.469781Z",
     "shell.execute_reply": "2022-02-06T09:05:17.469252Z",
     "shell.execute_reply.started": "2022-02-06T06:36:27.889922Z"
    },
    "id": "Z27ke3uEchVJ",
    "outputId": "1bc4d761-0381-495e-e513-3774c3679ee6",
    "papermill": {
     "duration": 0.020562,
     "end_time": "2022-02-06T09:05:17.469920",
     "exception": false,
     "start_time": "2022-02-06T09:05:17.449358",
     "status": "completed"
    },
    "tags": []
   },
   "outputs": [],
   "source": [
    "# from google.colab import files\n",
    "# \n",
    "# uploaded = files.upload()\n",
    "# \n",
    "# for fn in uploaded.keys():\n",
    "#   print('User uploaded file \"{name}\" with length {length} bytes'.format(\n",
    "#       name=fn, length=len(uploaded[fn])))\n",
    "#   \n",
    "# Then move kaggle.json into the folder where the API expects to find it.\n",
    "# !mkdir -p ~/.kaggle/ && mv kaggle.json ~/.kaggle/ && chmod 600 ~/.kaggle/kaggle.json"
   ]
  },
  {
   "cell_type": "code",
   "execution_count": 3,
   "id": "89767c22",
   "metadata": {
    "execution": {
     "iopub.execute_input": "2022-02-06T09:05:17.502467Z",
     "iopub.status.busy": "2022-02-06T09:05:17.501901Z",
     "iopub.status.idle": "2022-02-06T09:05:17.506019Z",
     "shell.execute_reply": "2022-02-06T09:05:17.506452Z",
     "shell.execute_reply.started": "2022-02-06T06:36:27.896174Z"
    },
    "id": "6JXwYXTxc8D4",
    "outputId": "ffa59142-86e1-4c2d-e270-fdacce817b9a",
    "papermill": {
     "duration": 0.022062,
     "end_time": "2022-02-06T09:05:17.506636",
     "exception": false,
     "start_time": "2022-02-06T09:05:17.484574",
     "status": "completed"
    },
    "tags": []
   },
   "outputs": [],
   "source": [
    "# !kaggle competitions download -c tensorflow-great-barrier-reef"
   ]
  },
  {
   "cell_type": "code",
   "execution_count": 4,
   "id": "6a6b6cc9",
   "metadata": {
    "execution": {
     "iopub.execute_input": "2022-02-06T09:05:17.538548Z",
     "iopub.status.busy": "2022-02-06T09:05:17.537975Z",
     "iopub.status.idle": "2022-02-06T09:05:17.541014Z",
     "shell.execute_reply": "2022-02-06T09:05:17.541483Z",
     "shell.execute_reply.started": "2022-02-06T06:36:27.913635Z"
    },
    "id": "D18RwmYWwO84",
    "papermill": {
     "duration": 0.02038,
     "end_time": "2022-02-06T09:05:17.541666",
     "exception": false,
     "start_time": "2022-02-06T09:05:17.521286",
     "status": "completed"
    },
    "tags": []
   },
   "outputs": [],
   "source": [
    "# !unzip -q /content/tensorflow-great-barrier-reef.zip "
   ]
  },
  {
   "cell_type": "markdown",
   "id": "69398d9b",
   "metadata": {
    "id": "woh5Odk0V7lU",
    "papermill": {
     "duration": 0.01393,
     "end_time": "2022-02-06T09:05:17.570077",
     "exception": false,
     "start_time": "2022-02-06T09:05:17.556147",
     "status": "completed"
    },
    "tags": []
   },
   "source": [
    "# Session 1\n",
    "---\n",
    "Useful links  \n",
    "- [YOLOv5 - Train Custom Data github](https://github.com/ultralytics/yolov5/wiki/Train-Custom-Data)  \n"
   ]
  },
  {
   "cell_type": "code",
   "execution_count": 5,
   "id": "c10202db",
   "metadata": {
    "execution": {
     "iopub.execute_input": "2022-02-06T09:05:17.601763Z",
     "iopub.status.busy": "2022-02-06T09:05:17.601186Z",
     "iopub.status.idle": "2022-02-06T09:05:17.610755Z",
     "shell.execute_reply": "2022-02-06T09:05:17.611281Z",
     "shell.execute_reply.started": "2022-02-06T06:36:27.927195Z"
    },
    "id": "acWPF0FJFpZ9",
    "papermill": {
     "duration": 0.027005,
     "end_time": "2022-02-06T09:05:17.611440",
     "exception": false,
     "start_time": "2022-02-06T09:05:17.584435",
     "status": "completed"
    },
    "tags": []
   },
   "outputs": [
    {
     "data": {
      "text/plain": [
       "\"\\n# create hierarchy\\nimport os\\n\\nfor f1 in 'train', 'val', 'test':\\n  for f2 in 'images', 'labels':\\n    os.makedirs(f'/content/Datasets/{f1}/{f2}')\\n    \\n\""
      ]
     },
     "execution_count": 5,
     "metadata": {},
     "output_type": "execute_result"
    }
   ],
   "source": [
    "\"\"\"\n",
    "# create hierarchy\n",
    "import os\n",
    "\n",
    "for f1 in 'train', 'val', 'test':\n",
    "  for f2 in 'images', 'labels':\n",
    "    os.makedirs(f'/content/Datasets/{f1}/{f2}')\n",
    "    \n",
    "\"\"\""
   ]
  },
  {
   "cell_type": "code",
   "execution_count": 6,
   "id": "84af2828",
   "metadata": {
    "execution": {
     "iopub.execute_input": "2022-02-06T09:05:17.643809Z",
     "iopub.status.busy": "2022-02-06T09:05:17.643242Z",
     "iopub.status.idle": "2022-02-06T09:05:17.647198Z",
     "shell.execute_reply": "2022-02-06T09:05:17.647695Z",
     "shell.execute_reply.started": "2022-02-06T06:36:27.94579Z"
    },
    "id": "rTz8Sn-rBrRs",
    "papermill": {
     "duration": 0.021406,
     "end_time": "2022-02-06T09:05:17.647854",
     "exception": false,
     "start_time": "2022-02-06T09:05:17.626448",
     "status": "completed"
    },
    "tags": []
   },
   "outputs": [
    {
     "data": {
      "text/plain": [
       "\"\\n# get train.csv\\nimport pandas as pd\\n\\ndf_train = pd.read_csv('train.csv')\\ndf_test = pd.read_csv('test.csv')\\ndf_train\\n\""
      ]
     },
     "execution_count": 6,
     "metadata": {},
     "output_type": "execute_result"
    }
   ],
   "source": [
    "\"\"\"\n",
    "# get train.csv\n",
    "import pandas as pd\n",
    "\n",
    "df_train = pd.read_csv('train.csv')\n",
    "df_test = pd.read_csv('test.csv')\n",
    "df_train\n",
    "\"\"\""
   ]
  },
  {
   "cell_type": "code",
   "execution_count": 7,
   "id": "a54bd53c",
   "metadata": {
    "execution": {
     "iopub.execute_input": "2022-02-06T09:05:17.680632Z",
     "iopub.status.busy": "2022-02-06T09:05:17.680019Z",
     "iopub.status.idle": "2022-02-06T09:05:17.684746Z",
     "shell.execute_reply": "2022-02-06T09:05:17.685282Z",
     "shell.execute_reply.started": "2022-02-06T06:36:27.961732Z"
    },
    "id": "baUKP2WntbEV",
    "papermill": {
     "duration": 0.022655,
     "end_time": "2022-02-06T09:05:17.685445",
     "exception": false,
     "start_time": "2022-02-06T09:05:17.662790",
     "status": "completed"
    },
    "tags": []
   },
   "outputs": [
    {
     "data": {
      "text/plain": [
       "'\\ndef annotation2YoloFormat(_annotation, width=1280, height=720):\\n  out = \\'\\'\\n  if isinstance(_annotation,str):\\n    a = _annotation\\n    while True:\\n      ix = a.find(\"\\'x\\': \")\\n      iy = a.find(\"\\'y\\': \")\\n      iw = a.find(\"\\'width\\': \")\\n      ih = a.find(\"\\'height\\': \")\\n      \\n      if ix < 0 or iy < 0 or iw < 0 or ih < 0:\\n        break\\n\\n      x = float(a[ix + len(\"\\'x\\': \"):a.find(\", \\'y\")])/width\\n      y = float(a[iy + len(\"\\'y\\': \"):a.find(\", \\'w\")])/height\\n      w = float(a[iw + len(\"\\'width\\': \"):a.find(\", \\'h\")])/width\\n      h = float(a[ih + len(\"\\'height\\': \"):a.find(\\'}\\')])/height\\n      \\n      \\n      out += \\'0 %.6f %.6f %.6f %.6f\\n\\'%(x+w/2, y+h/2, w, h)\\n      a = a[a.find(\\'}\\')+1:]\\n    \\n    out = out[:-1]\\n  return out\\n  '"
      ]
     },
     "execution_count": 7,
     "metadata": {},
     "output_type": "execute_result"
    }
   ],
   "source": [
    "\"\"\"\n",
    "def annotation2YoloFormat(_annotation, width=1280, height=720):\n",
    "  out = ''\n",
    "  if isinstance(_annotation,str):\n",
    "    a = _annotation\n",
    "    while True:\n",
    "      ix = a.find(\"'x': \")\n",
    "      iy = a.find(\"'y': \")\n",
    "      iw = a.find(\"'width': \")\n",
    "      ih = a.find(\"'height': \")\n",
    "      \n",
    "      if ix < 0 or iy < 0 or iw < 0 or ih < 0:\n",
    "        break\n",
    "\n",
    "      x = float(a[ix + len(\"'x': \"):a.find(\", 'y\")])/width\n",
    "      y = float(a[iy + len(\"'y': \"):a.find(\", 'w\")])/height\n",
    "      w = float(a[iw + len(\"'width': \"):a.find(\", 'h\")])/width\n",
    "      h = float(a[ih + len(\"'height': \"):a.find('}')])/height\n",
    "      \n",
    "      \n",
    "      out += '0 %.6f %.6f %.6f %.6f\\n'%(x+w/2, y+h/2, w, h)\n",
    "      a = a[a.find('}')+1:]\n",
    "    \n",
    "    out = out[:-1]\n",
    "  return out\n",
    "  \"\"\""
   ]
  },
  {
   "cell_type": "code",
   "execution_count": 8,
   "id": "606f2de5",
   "metadata": {
    "execution": {
     "iopub.execute_input": "2022-02-06T09:05:17.718804Z",
     "iopub.status.busy": "2022-02-06T09:05:17.718210Z",
     "iopub.status.idle": "2022-02-06T09:05:17.723111Z",
     "shell.execute_reply": "2022-02-06T09:05:17.723669Z",
     "shell.execute_reply.started": "2022-02-06T06:36:27.980123Z"
    },
    "id": "uqxZ_4iaW1Gg",
    "outputId": "93498d40-98f2-49b3-b333-23e792e581c4",
    "papermill": {
     "duration": 0.023149,
     "end_time": "2022-02-06T09:05:17.723828",
     "exception": false,
     "start_time": "2022-02-06T09:05:17.700679",
     "status": "completed"
    },
    "tags": []
   },
   "outputs": [
    {
     "data": {
      "text/plain": [
       "'\\n# read images from /content/train_images\\n# change name\\n# save the image to train | val | test. ratio = 0.64 : 0.16 : 0.2\\n# create corresponding txt file and save\\n\\n# change image name to image id\\n# split images by train:val:test = .64:.16:.2\\nimport shutil\\nimport os\\nimport random\\nrandom.seed(31415)\\n%cd train_images\\n\\nTEST_DIRECTORY = \"../Datasets/test\"\\nTRAIN_DIRECTORY = \"../Datasets/train\"\\nVAL_DIRECTORY = \"../Datasets/val\"\\n\\nfor dir in os.listdir():\\n  # print(dir)\\n  for image in os.listdir(dir):\\n    annot = df_train.loc[df_train[\\'image_id\\']==f\\'{dir[-1]}-{image[:-4]}\\', \\'annotations\\'].iloc[0]\\n    if annot != \\'[]\\':\\n      random_key = random.random()\\n      if random_key < 0.64:\\n        random_folder = TRAIN_DIRECTORY\\n      elif random_key < 0.8:\\n        random_folder = VAL_DIRECTORY\\n      else:\\n        random_folder = TEST_DIRECTORY\\n      shutil.move(f\\'{dir}/{image}\\', f\"../Datasets/{random_folder}/images/{dir[-1]}-{image}\")\\n\\n      # might add label as well while in iteration\\n      # as YOLO format [{xywh},{},...]\\n      f = open(f\"../Datasets/{random_folder}/labels/{dir[-1]}-{image[:-4]}.txt\", \\'w\\')\\n      f.write(annotation2YoloFormat(annot))\\n      f.close()\\n\\n%cd ..\\n!rm -rf train_images/\\n'"
      ]
     },
     "execution_count": 8,
     "metadata": {},
     "output_type": "execute_result"
    }
   ],
   "source": [
    "\"\"\"\n",
    "# read images from /content/train_images\n",
    "# change name\n",
    "# save the image to train | val | test. ratio = 0.64 : 0.16 : 0.2\n",
    "# create corresponding txt file and save\n",
    "\n",
    "# change image name to image id\n",
    "# split images by train:val:test = .64:.16:.2\n",
    "import shutil\n",
    "import os\n",
    "import random\n",
    "random.seed(31415)\n",
    "%cd train_images\n",
    "\n",
    "TEST_DIRECTORY = \"../Datasets/test\"\n",
    "TRAIN_DIRECTORY = \"../Datasets/train\"\n",
    "VAL_DIRECTORY = \"../Datasets/val\"\n",
    "\n",
    "for dir in os.listdir():\n",
    "  # print(dir)\n",
    "  for image in os.listdir(dir):\n",
    "    annot = df_train.loc[df_train['image_id']==f'{dir[-1]}-{image[:-4]}', 'annotations'].iloc[0]\n",
    "    if annot != '[]':\n",
    "      random_key = random.random()\n",
    "      if random_key < 0.64:\n",
    "        random_folder = TRAIN_DIRECTORY\n",
    "      elif random_key < 0.8:\n",
    "        random_folder = VAL_DIRECTORY\n",
    "      else:\n",
    "        random_folder = TEST_DIRECTORY\n",
    "      shutil.move(f'{dir}/{image}', f\"../Datasets/{random_folder}/images/{dir[-1]}-{image}\")\n",
    "\n",
    "      # might add label as well while in iteration\n",
    "      # as YOLO format [{xywh},{},...]\n",
    "      f = open(f\"../Datasets/{random_folder}/labels/{dir[-1]}-{image[:-4]}.txt\", 'w')\n",
    "      f.write(annotation2YoloFormat(annot))\n",
    "      f.close()\n",
    "\n",
    "%cd ..\n",
    "!rm -rf train_images/\n",
    "\"\"\""
   ]
  },
  {
   "cell_type": "code",
   "execution_count": 9,
   "id": "93e55e76",
   "metadata": {
    "execution": {
     "iopub.execute_input": "2022-02-06T09:05:17.757929Z",
     "iopub.status.busy": "2022-02-06T09:05:17.757350Z",
     "iopub.status.idle": "2022-02-06T09:05:17.761862Z",
     "shell.execute_reply": "2022-02-06T09:05:17.762385Z",
     "shell.execute_reply.started": "2022-02-06T06:36:27.998855Z"
    },
    "id": "wbvMlHd_QwMG",
    "outputId": "50453b58-4b1e-4f75-9895-20f78a36a203",
    "papermill": {
     "duration": 0.023458,
     "end_time": "2022-02-06T09:05:17.762559",
     "exception": false,
     "start_time": "2022-02-06T09:05:17.739101",
     "status": "completed"
    },
    "tags": []
   },
   "outputs": [
    {
     "data": {
      "text/plain": [
       "'\\n#!git clone https://github.com/ultralytics/yolov5  # clone\\n%cd yolov5\\n%pip install -r requirements.txt  # install\\n\\nimport torch\\nfrom yolov5 import utils\\n# display = utils.notebook_init()  # checks\\n'"
      ]
     },
     "execution_count": 9,
     "metadata": {},
     "output_type": "execute_result"
    }
   ],
   "source": [
    "\"\"\"\n",
    "#!git clone https://github.com/ultralytics/yolov5  # clone\n",
    "%cd yolov5\n",
    "%pip install -r requirements.txt  # install\n",
    "\n",
    "import torch\n",
    "from yolov5 import utils\n",
    "# display = utils.notebook_init()  # checks\n",
    "\"\"\""
   ]
  },
  {
   "cell_type": "markdown",
   "id": "0dfa459f",
   "metadata": {
    "id": "W4SnuptqeYiA",
    "papermill": {
     "duration": 0.015427,
     "end_time": "2022-02-06T09:05:17.793495",
     "exception": false,
     "start_time": "2022-02-06T09:05:17.778068",
     "status": "completed"
    },
    "tags": []
   },
   "source": [
    "# Under /content/yolov5"
   ]
  },
  {
   "cell_type": "code",
   "execution_count": 10,
   "id": "75308fb8",
   "metadata": {
    "execution": {
     "iopub.execute_input": "2022-02-06T09:05:17.828700Z",
     "iopub.status.busy": "2022-02-06T09:05:17.828048Z",
     "iopub.status.idle": "2022-02-06T09:05:17.833020Z",
     "shell.execute_reply": "2022-02-06T09:05:17.833414Z",
     "shell.execute_reply.started": "2022-02-06T06:36:28.021479Z"
    },
    "id": "KUO-ZP2gLdpT",
    "outputId": "627b7e3a-7c82-4c2e-a5e3-f48b94f66ee2",
    "papermill": {
     "duration": 0.024348,
     "end_time": "2022-02-06T09:05:17.833616",
     "exception": false,
     "start_time": "2022-02-06T09:05:17.809268",
     "status": "completed"
    },
    "tags": []
   },
   "outputs": [
    {
     "data": {
      "text/plain": [
       "'\\n# create yaml file and save to /data (your at /content/yolov5)\\n# https://drive.google.com/file/d/1BBrQ5_1urHvJdYOmYPR-HalMeF9dnK37/view?usp=sharing\\n!gdown --id 1BBrQ5_1urHvJdYOmYPR-HalMeF9dnK37 -O /content/yolov5/data/GBR.yaml\\n'"
      ]
     },
     "execution_count": 10,
     "metadata": {},
     "output_type": "execute_result"
    }
   ],
   "source": [
    "\"\"\"\n",
    "# create yaml file and save to /data (your at /content/yolov5)\n",
    "# https://drive.google.com/file/d/1BBrQ5_1urHvJdYOmYPR-HalMeF9dnK37/view?usp=sharing\n",
    "!gdown --id 1BBrQ5_1urHvJdYOmYPR-HalMeF9dnK37 -O /content/yolov5/data/GBR.yaml\n",
    "\"\"\""
   ]
  },
  {
   "cell_type": "code",
   "execution_count": 11,
   "id": "c09d8571",
   "metadata": {
    "execution": {
     "iopub.execute_input": "2022-02-06T09:05:17.869481Z",
     "iopub.status.busy": "2022-02-06T09:05:17.868887Z",
     "iopub.status.idle": "2022-02-06T09:05:17.870586Z",
     "shell.execute_reply": "2022-02-06T09:05:17.871041Z",
     "shell.execute_reply.started": "2022-02-06T06:36:28.037749Z"
    },
    "id": "k47ZnEx4L8hF",
    "papermill": {
     "duration": 0.021798,
     "end_time": "2022-02-06T09:05:17.871218",
     "exception": false,
     "start_time": "2022-02-06T09:05:17.849420",
     "status": "completed"
    },
    "tags": []
   },
   "outputs": [],
   "source": [
    "# Train YOLOv5s on COCO128 for 3 epochs\n",
    "# --img : image size (size,size)\n",
    "# --batch : batch size\n",
    "# --epochs : epochs\n",
    "# --data : .yaml file name\n",
    "# --weights : pretrained weights ('' --cfg yolov5s.yaml if from scratch)\n",
    "# !python train.py --img 720 --batch 20 --epochs 12 --data GBR.yaml --weights yolov5m.pt"
   ]
  },
  {
   "cell_type": "markdown",
   "id": "0d973f29",
   "metadata": {
    "id": "Q_KfojRcfSUP",
    "papermill": {
     "duration": 0.01577,
     "end_time": "2022-02-06T09:05:17.903100",
     "exception": false,
     "start_time": "2022-02-06T09:05:17.887330",
     "status": "completed"
    },
    "tags": []
   },
   "source": [
    "# Visualization"
   ]
  },
  {
   "cell_type": "code",
   "execution_count": 12,
   "id": "b285d3e9",
   "metadata": {
    "execution": {
     "iopub.execute_input": "2022-02-06T09:05:17.940384Z",
     "iopub.status.busy": "2022-02-06T09:05:17.939805Z",
     "iopub.status.idle": "2022-02-06T09:05:17.943969Z",
     "shell.execute_reply": "2022-02-06T09:05:17.944405Z",
     "shell.execute_reply.started": "2022-02-06T06:36:28.053358Z"
    },
    "id": "q2PShNdCSrMV",
    "papermill": {
     "duration": 0.025167,
     "end_time": "2022-02-06T09:05:17.944594",
     "exception": false,
     "start_time": "2022-02-06T09:05:17.919427",
     "status": "completed"
    },
    "tags": []
   },
   "outputs": [
    {
     "data": {
      "text/plain": [
       "'\\n%cd /content/yolov5\\n!python detect.py --img 640 --source ../Datasets/test/images --weights runs/train/exp2/weights/best.pt --data data/GBR.yaml --nosave --save-txt --save-conf --conf-thres 0.01 --iou-thres 0.3 --max-det 100\\n'"
      ]
     },
     "execution_count": 12,
     "metadata": {},
     "output_type": "execute_result"
    }
   ],
   "source": [
    "\"\"\"\n",
    "%cd /content/yolov5\n",
    "!python detect.py --img 640\\\n",
    " --source ../Datasets/test/images\\\n",
    " --weights runs/train/exp2/weights/best.pt\\\n",
    " --data data/GBR.yaml\\\n",
    " --nosave\\\n",
    " --save-txt\\\n",
    " --save-conf\\\n",
    " --conf-thres 0.01\\\n",
    " --iou-thres 0.3\\\n",
    " --max-det 100\n",
    "\"\"\""
   ]
  },
  {
   "cell_type": "code",
   "execution_count": 13,
   "id": "992e0339",
   "metadata": {
    "execution": {
     "iopub.execute_input": "2022-02-06T09:05:17.980727Z",
     "iopub.status.busy": "2022-02-06T09:05:17.980143Z",
     "iopub.status.idle": "2022-02-06T09:05:17.985088Z",
     "shell.execute_reply": "2022-02-06T09:05:17.984621Z",
     "shell.execute_reply.started": "2022-02-06T06:36:28.07041Z"
    },
    "id": "xKNDhrelf9YI",
    "papermill": {
     "duration": 0.024419,
     "end_time": "2022-02-06T09:05:17.985226",
     "exception": false,
     "start_time": "2022-02-06T09:05:17.960807",
     "status": "completed"
    },
    "tags": []
   },
   "outputs": [
    {
     "data": {
      "text/plain": [
       "'\\n%cd /content/yolov5/runs/detect/exp2/labels\\n!zip /content/exp_pred_labels.zip *.txt\\n%cd /content/Datasets/test/labels\\n!zip /content/exp_true_labels.zip *.txt\\n%cd /content\\n'"
      ]
     },
     "execution_count": 13,
     "metadata": {},
     "output_type": "execute_result"
    }
   ],
   "source": [
    "\"\"\"\n",
    "%cd /content/yolov5/runs/detect/exp2/labels\n",
    "!zip /content/exp_pred_labels.zip *.txt\n",
    "%cd /content/Datasets/test/labels\n",
    "!zip /content/exp_true_labels.zip *.txt\n",
    "%cd /content\n",
    "\"\"\""
   ]
  },
  {
   "cell_type": "code",
   "execution_count": 14,
   "id": "f1afe739",
   "metadata": {
    "execution": {
     "iopub.execute_input": "2022-02-06T09:05:18.021365Z",
     "iopub.status.busy": "2022-02-06T09:05:18.020784Z",
     "iopub.status.idle": "2022-02-06T09:05:18.025333Z",
     "shell.execute_reply": "2022-02-06T09:05:18.025781Z",
     "shell.execute_reply.started": "2022-02-06T06:36:28.092401Z"
    },
    "id": "zbmSxR7vPdf9",
    "papermill": {
     "duration": 0.024324,
     "end_time": "2022-02-06T09:05:18.025944",
     "exception": false,
     "start_time": "2022-02-06T09:05:18.001620",
     "status": "completed"
    },
    "tags": []
   },
   "outputs": [
    {
     "data": {
      "text/plain": [
       "\"\\n%cd /content/yolov5\\n# visualize\\nfrom utils.plots import plot_results \\nplot_results('./runs/train/exp2/results.csv')  # plot 'results.csv' as 'results.png'\\n\""
      ]
     },
     "execution_count": 14,
     "metadata": {},
     "output_type": "execute_result"
    }
   ],
   "source": [
    "\"\"\"\n",
    "%cd /content/yolov5\n",
    "# visualize\n",
    "from utils.plots import plot_results \n",
    "plot_results('./runs/train/exp2/results.csv')  # plot 'results.csv' as 'results.png'\n",
    "\"\"\""
   ]
  },
  {
   "cell_type": "code",
   "execution_count": 15,
   "id": "d04d87b9",
   "metadata": {
    "execution": {
     "iopub.execute_input": "2022-02-06T09:05:18.064913Z",
     "iopub.status.busy": "2022-02-06T09:05:18.064280Z",
     "iopub.status.idle": "2022-02-06T09:05:18.067203Z",
     "shell.execute_reply": "2022-02-06T09:05:18.067744Z",
     "shell.execute_reply.started": "2022-02-06T06:36:28.113798Z"
    },
    "id": "nEbL6eJre3PK",
    "outputId": "cca9b36c-c7e2-4698-ecd6-fdf7757b72e5",
    "papermill": {
     "duration": 0.025208,
     "end_time": "2022-02-06T09:05:18.067905",
     "exception": false,
     "start_time": "2022-02-06T09:05:18.042697",
     "status": "completed"
    },
    "tags": []
   },
   "outputs": [
    {
     "data": {
      "text/plain": [
       "\"\\nimport cv2\\nfrom google.colab.patches import cv2_imshow\\ncv2_imshow(cv2.imread('./runs/train/exp2/results.png'))\\n\""
      ]
     },
     "execution_count": 15,
     "metadata": {},
     "output_type": "execute_result"
    }
   ],
   "source": [
    "\"\"\"\n",
    "import cv2\n",
    "from google.colab.patches import cv2_imshow\n",
    "cv2_imshow(cv2.imread('./runs/train/exp2/results.png'))\n",
    "\"\"\""
   ]
  },
  {
   "cell_type": "markdown",
   "id": "5535c8e9",
   "metadata": {
    "id": "0_cqT7bKx25g",
    "papermill": {
     "duration": 0.016593,
     "end_time": "2022-02-06T09:05:18.101545",
     "exception": false,
     "start_time": "2022-02-06T09:05:18.084952",
     "status": "completed"
    },
    "tags": []
   },
   "source": [
    "# Submit"
   ]
  },
  {
   "cell_type": "code",
   "execution_count": 16,
   "id": "a4433541",
   "metadata": {
    "execution": {
     "iopub.execute_input": "2022-02-06T09:05:18.141179Z",
     "iopub.status.busy": "2022-02-06T09:05:18.140539Z",
     "iopub.status.idle": "2022-02-06T09:05:18.142923Z",
     "shell.execute_reply": "2022-02-06T09:05:18.143366Z",
     "shell.execute_reply.started": "2022-02-06T06:36:28.128524Z"
    },
    "id": "nAKkcSqpxwIH",
    "outputId": "1db0f795-4efb-4cb0-a309-e53e02507a3e",
    "papermill": {
     "duration": 0.025198,
     "end_time": "2022-02-06T09:05:18.143560",
     "exception": false,
     "start_time": "2022-02-06T09:05:18.118362",
     "status": "completed"
    },
    "tags": []
   },
   "outputs": [
    {
     "data": {
      "text/plain": [
       "'\\n# https://drive.google.com/file/d/1Koc5DW5obyZ5blVzdP5EHeaFDfmUNkE0/view?usp=sharing\\n# save custom detect.py to /content/yolov5/detect2.py\\n!gdown --id 1Koc5DW5obyZ5blVzdP5EHeaFDfmUNkE0 -O /content/yolov5/detect2.py\\n\\n# https://drive.google.com/file/d/1JMNnFYJOgKZTA1a0RGBMbRO2EFouZU4K/view?usp=sharing\\n# save custom datasets.py to /content/yolov5/utils/datasets.py\\n!gdown --id 1JMNnFYJOgKZTA1a0RGBMbRO2EFouZU4K -O /content/yolov5/utils/datasets.py\\n'"
      ]
     },
     "execution_count": 16,
     "metadata": {},
     "output_type": "execute_result"
    }
   ],
   "source": [
    "\"\"\"\n",
    "# https://drive.google.com/file/d/1Koc5DW5obyZ5blVzdP5EHeaFDfmUNkE0/view?usp=sharing\n",
    "# save custom detect.py to /content/yolov5/detect2.py\n",
    "!gdown --id 1Koc5DW5obyZ5blVzdP5EHeaFDfmUNkE0 -O /content/yolov5/detect2.py\n",
    "\n",
    "# https://drive.google.com/file/d/1JMNnFYJOgKZTA1a0RGBMbRO2EFouZU4K/view?usp=sharing\n",
    "# save custom datasets.py to /content/yolov5/utils/datasets.py\n",
    "!gdown --id 1JMNnFYJOgKZTA1a0RGBMbRO2EFouZU4K -O /content/yolov5/utils/datasets.py\n",
    "\"\"\""
   ]
  },
  {
   "cell_type": "code",
   "execution_count": 17,
   "id": "7ab76b31",
   "metadata": {
    "execution": {
     "iopub.execute_input": "2022-02-06T09:05:18.182586Z",
     "iopub.status.busy": "2022-02-06T09:05:18.181955Z",
     "iopub.status.idle": "2022-02-06T09:05:18.184370Z",
     "shell.execute_reply": "2022-02-06T09:05:18.184806Z",
     "shell.execute_reply.started": "2022-02-06T06:36:28.143103Z"
    },
    "papermill": {
     "duration": 0.0234,
     "end_time": "2022-02-06T09:05:18.184965",
     "exception": false,
     "start_time": "2022-02-06T09:05:18.161565",
     "status": "completed"
    },
    "tags": []
   },
   "outputs": [],
   "source": [
    "# %cd ./working"
   ]
  },
  {
   "cell_type": "code",
   "execution_count": 18,
   "id": "acfac970",
   "metadata": {
    "execution": {
     "iopub.execute_input": "2022-02-06T09:05:18.228691Z",
     "iopub.status.busy": "2022-02-06T09:05:18.227762Z",
     "iopub.status.idle": "2022-02-06T09:05:25.107568Z",
     "shell.execute_reply": "2022-02-06T09:05:25.106940Z",
     "shell.execute_reply.started": "2022-02-06T06:36:28.156335Z"
    },
    "id": "vR49Yu5bbkOO",
    "outputId": "42db54c0-eb3f-4267-e888-d9d9ede498c5",
    "papermill": {
     "duration": 6.905406,
     "end_time": "2022-02-06T09:05:25.107718",
     "exception": false,
     "start_time": "2022-02-06T09:05:18.202312",
     "status": "completed"
    },
    "tags": []
   },
   "outputs": [
    {
     "name": "stdout",
     "output_type": "stream",
     "text": [
      "/kaggle/input/yologithubrepoandsomecustom\n",
      "/kaggle/working\n",
      "__notebook__.ipynb\r\n"
     ]
    },
    {
     "name": "stderr",
     "output_type": "stream",
     "text": [
      "YOLOv5 🚀 v6.0-235-ge1a6a0b torch 1.9.1+cpu CPU\n",
      "\n",
      "Fusing layers... \n",
      "Model Summary: 290 layers, 20852934 parameters, 0 gradients\n",
      "WARNING: --img-size (640, 640) must be multiple of max stride 32, updating to [640, 640]\n"
     ]
    },
    {
     "name": "stdout",
     "output_type": "stream",
     "text": [
      "This version of the API is not optimized and should not be used to estimate the runtime of your code on the hidden test set.\n"
     ]
    }
   ],
   "source": [
    "# something like this...?\n",
    "import greatbarrierreef\n",
    "%cd ../input/yologithubrepoandsomecustom\n",
    "from yolov5.detect2 import run as detect2run\n",
    "%cd ../../working\n",
    "%ls\n",
    "\n",
    "detect2run(\n",
    "    weights='../input/yologithubrepoandsomecustom/yolov5/weights/best020601.pt',\n",
    "    data='../input/yologithubrepoandsomecustom/yolov5/data/GBR.yaml',\n",
    "    env=greatbarrierreef.make_env(),\n",
    "    conf_thres=0.591,\n",
    "    iou_thres=0.3,\n",
    "    max_det=100\n",
    ")"
   ]
  },
  {
   "cell_type": "code",
   "execution_count": 19,
   "id": "fd7a4f66",
   "metadata": {
    "execution": {
     "iopub.execute_input": "2022-02-06T09:05:25.152101Z",
     "iopub.status.busy": "2022-02-06T09:05:25.151329Z",
     "iopub.status.idle": "2022-02-06T09:05:25.164240Z",
     "shell.execute_reply": "2022-02-06T09:05:25.163739Z",
     "shell.execute_reply.started": "2022-02-06T06:36:35.337704Z"
    },
    "papermill": {
     "duration": 0.03732,
     "end_time": "2022-02-06T09:05:25.164377",
     "exception": false,
     "start_time": "2022-02-06T09:05:25.127057",
     "status": "completed"
    },
    "tags": []
   },
   "outputs": [
    {
     "data": {
      "text/html": [
       "<div>\n",
       "<style scoped>\n",
       "    .dataframe tbody tr th:only-of-type {\n",
       "        vertical-align: middle;\n",
       "    }\n",
       "\n",
       "    .dataframe tbody tr th {\n",
       "        vertical-align: top;\n",
       "    }\n",
       "\n",
       "    .dataframe thead th {\n",
       "        text-align: right;\n",
       "    }\n",
       "</style>\n",
       "<table border=\"1\" class=\"dataframe\">\n",
       "  <thead>\n",
       "    <tr style=\"text-align: right;\">\n",
       "      <th></th>\n",
       "      <th>index</th>\n",
       "      <th>annotations</th>\n",
       "    </tr>\n",
       "  </thead>\n",
       "  <tbody>\n",
       "    <tr>\n",
       "      <th>0</th>\n",
       "      <td>0</td>\n",
       "      <td>0.99 123 456 1 1</td>\n",
       "    </tr>\n",
       "    <tr>\n",
       "      <th>1</th>\n",
       "      <td>1</td>\n",
       "      <td>0.99 123 456 1 1</td>\n",
       "    </tr>\n",
       "    <tr>\n",
       "      <th>2</th>\n",
       "      <td>2</td>\n",
       "      <td>0.99 123 456 1 1</td>\n",
       "    </tr>\n",
       "  </tbody>\n",
       "</table>\n",
       "</div>"
      ],
      "text/plain": [
       "   index       annotations\n",
       "0      0  0.99 123 456 1 1\n",
       "1      1  0.99 123 456 1 1\n",
       "2      2  0.99 123 456 1 1"
      ]
     },
     "execution_count": 19,
     "metadata": {},
     "output_type": "execute_result"
    }
   ],
   "source": [
    "import pandas\n",
    "submission_df = pandas.read_csv('./submission.csv')\n",
    "submission_df"
   ]
  }
 ],
 "metadata": {
  "kernelspec": {
   "display_name": "Python 3",
   "language": "python",
   "name": "python3"
  },
  "language_info": {
   "codemirror_mode": {
    "name": "ipython",
    "version": 3
   },
   "file_extension": ".py",
   "mimetype": "text/x-python",
   "name": "python",
   "nbconvert_exporter": "python",
   "pygments_lexer": "ipython3",
   "version": "3.7.12"
  },
  "papermill": {
   "default_parameters": {},
   "duration": 17.400579,
   "end_time": "2022-02-06T09:05:26.096266",
   "environment_variables": {},
   "exception": null,
   "input_path": "__notebook__.ipynb",
   "output_path": "__notebook__.ipynb",
   "parameters": {},
   "start_time": "2022-02-06T09:05:08.695687",
   "version": "2.3.3"
  }
 },
 "nbformat": 4,
 "nbformat_minor": 5
}
