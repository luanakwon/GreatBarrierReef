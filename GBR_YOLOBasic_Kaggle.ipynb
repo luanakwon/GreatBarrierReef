{
 "cells": [
  {
   "cell_type": "markdown",
   "id": "7aed129e",
   "metadata": {
    "id": "view-in-github",
    "papermill": {
     "duration": 0.021134,
     "end_time": "2022-02-05T08:43:42.918167",
     "exception": false,
     "start_time": "2022-02-05T08:43:42.897033",
     "status": "completed"
    },
    "tags": []
   },
   "source": [
    "<a href=\"https://colab.research.google.com/github/luanakwon/GreatBarrierReef/blob/main/GBR_YOLOBasic.ipynb\" target=\"_parent\"><img src=\"https://colab.research.google.com/assets/colab-badge.svg\" alt=\"Open In Colab\"/></a>"
   ]
  },
  {
   "cell_type": "markdown",
   "id": "00fee665",
   "metadata": {
    "id": "Atikzzc0fL2v",
    "papermill": {
     "duration": 0.018911,
     "end_time": "2022-02-05T08:43:42.959230",
     "exception": false,
     "start_time": "2022-02-05T08:43:42.940319",
     "status": "completed"
    },
    "tags": []
   },
   "source": [
    "# Download dataset from kaggle api\n",
    "kaggle  \n",
    "https://www.kaggle.com/c/tensorflow-great-barrier-reef/data  \n",
    "\n",
    "kaggle API usage  \n",
    "https://colab.research.google.com/github/corrieann/kaggle/blob/master/kaggle_api_in_colab.ipynb"
   ]
  },
  {
   "cell_type": "code",
   "execution_count": 1,
   "id": "479498f2",
   "metadata": {
    "execution": {
     "iopub.execute_input": "2022-02-05T08:43:43.005568Z",
     "iopub.status.busy": "2022-02-05T08:43:43.003689Z",
     "iopub.status.idle": "2022-02-05T08:43:43.006750Z",
     "shell.execute_reply": "2022-02-05T08:43:43.007274Z",
     "shell.execute_reply.started": "2022-02-05T08:43:04.433434Z"
    },
    "id": "n-JPBh1fETGF",
    "outputId": "4f1205dc-f60f-4353-f9d6-e9ca749934dd",
    "papermill": {
     "duration": 0.028947,
     "end_time": "2022-02-05T08:43:43.007591",
     "exception": false,
     "start_time": "2022-02-05T08:43:42.978644",
     "status": "completed"
    },
    "tags": []
   },
   "outputs": [],
   "source": [
    "# !pip install kaggle\n",
    "# !pip install --upgrade --force-reinstall --no-deps kaggle"
   ]
  },
  {
   "cell_type": "code",
   "execution_count": 2,
   "id": "38dbac53",
   "metadata": {
    "execution": {
     "iopub.execute_input": "2022-02-05T08:43:43.050691Z",
     "iopub.status.busy": "2022-02-05T08:43:43.049697Z",
     "iopub.status.idle": "2022-02-05T08:43:43.053232Z",
     "shell.execute_reply": "2022-02-05T08:43:43.053752Z",
     "shell.execute_reply.started": "2022-02-05T08:43:04.455461Z"
    },
    "id": "Z27ke3uEchVJ",
    "outputId": "1bc4d761-0381-495e-e513-3774c3679ee6",
    "papermill": {
     "duration": 0.026538,
     "end_time": "2022-02-05T08:43:43.053941",
     "exception": false,
     "start_time": "2022-02-05T08:43:43.027403",
     "status": "completed"
    },
    "tags": []
   },
   "outputs": [],
   "source": [
    "# from google.colab import files\n",
    "# \n",
    "# uploaded = files.upload()\n",
    "# \n",
    "# for fn in uploaded.keys():\n",
    "#   print('User uploaded file \"{name}\" with length {length} bytes'.format(\n",
    "#       name=fn, length=len(uploaded[fn])))\n",
    "#   \n",
    "# Then move kaggle.json into the folder where the API expects to find it.\n",
    "# !mkdir -p ~/.kaggle/ && mv kaggle.json ~/.kaggle/ && chmod 600 ~/.kaggle/kaggle.json"
   ]
  },
  {
   "cell_type": "code",
   "execution_count": 3,
   "id": "ec9aa0a9",
   "metadata": {
    "execution": {
     "iopub.execute_input": "2022-02-05T08:43:43.097300Z",
     "iopub.status.busy": "2022-02-05T08:43:43.096607Z",
     "iopub.status.idle": "2022-02-05T08:43:43.099888Z",
     "shell.execute_reply": "2022-02-05T08:43:43.100448Z",
     "shell.execute_reply.started": "2022-02-05T08:43:04.461099Z"
    },
    "id": "6JXwYXTxc8D4",
    "outputId": "ffa59142-86e1-4c2d-e270-fdacce817b9a",
    "papermill": {
     "duration": 0.027084,
     "end_time": "2022-02-05T08:43:43.100617",
     "exception": false,
     "start_time": "2022-02-05T08:43:43.073533",
     "status": "completed"
    },
    "tags": []
   },
   "outputs": [],
   "source": [
    "# !kaggle competitions download -c tensorflow-great-barrier-reef"
   ]
  },
  {
   "cell_type": "code",
   "execution_count": 4,
   "id": "ff2cd9e2",
   "metadata": {
    "execution": {
     "iopub.execute_input": "2022-02-05T08:43:43.142626Z",
     "iopub.status.busy": "2022-02-05T08:43:43.142007Z",
     "iopub.status.idle": "2022-02-05T08:43:43.144705Z",
     "shell.execute_reply": "2022-02-05T08:43:43.145316Z",
     "shell.execute_reply.started": "2022-02-05T08:43:04.474350Z"
    },
    "id": "D18RwmYWwO84",
    "papermill": {
     "duration": 0.025164,
     "end_time": "2022-02-05T08:43:43.145479",
     "exception": false,
     "start_time": "2022-02-05T08:43:43.120315",
     "status": "completed"
    },
    "tags": []
   },
   "outputs": [],
   "source": [
    "# !unzip -q /content/tensorflow-great-barrier-reef.zip "
   ]
  },
  {
   "cell_type": "markdown",
   "id": "48040a78",
   "metadata": {
    "id": "woh5Odk0V7lU",
    "papermill": {
     "duration": 0.019316,
     "end_time": "2022-02-05T08:43:43.184335",
     "exception": false,
     "start_time": "2022-02-05T08:43:43.165019",
     "status": "completed"
    },
    "tags": []
   },
   "source": [
    "# Session 1\n",
    "---\n",
    "Useful links  \n",
    "- [YOLOv5 - Train Custom Data github](https://github.com/ultralytics/yolov5/wiki/Train-Custom-Data)  \n"
   ]
  },
  {
   "cell_type": "code",
   "execution_count": 5,
   "id": "4bb32377",
   "metadata": {
    "execution": {
     "iopub.execute_input": "2022-02-05T08:43:43.226492Z",
     "iopub.status.busy": "2022-02-05T08:43:43.225796Z",
     "iopub.status.idle": "2022-02-05T08:43:43.237201Z",
     "shell.execute_reply": "2022-02-05T08:43:43.237732Z",
     "shell.execute_reply.started": "2022-02-05T08:43:04.486588Z"
    },
    "id": "acWPF0FJFpZ9",
    "papermill": {
     "duration": 0.034034,
     "end_time": "2022-02-05T08:43:43.237920",
     "exception": false,
     "start_time": "2022-02-05T08:43:43.203886",
     "status": "completed"
    },
    "tags": []
   },
   "outputs": [
    {
     "data": {
      "text/plain": [
       "\"\\n# create hierarchy\\nimport os\\n\\nfor f1 in 'train', 'val', 'test':\\n  for f2 in 'images', 'labels':\\n    os.makedirs(f'/content/Datasets/{f1}/{f2}')\\n    \\n\""
      ]
     },
     "execution_count": 5,
     "metadata": {},
     "output_type": "execute_result"
    }
   ],
   "source": [
    "\"\"\"\n",
    "# create hierarchy\n",
    "import os\n",
    "\n",
    "for f1 in 'train', 'val', 'test':\n",
    "  for f2 in 'images', 'labels':\n",
    "    os.makedirs(f'/content/Datasets/{f1}/{f2}')\n",
    "    \n",
    "\"\"\""
   ]
  },
  {
   "cell_type": "code",
   "execution_count": 6,
   "id": "b914781e",
   "metadata": {
    "execution": {
     "iopub.execute_input": "2022-02-05T08:43:43.281415Z",
     "iopub.status.busy": "2022-02-05T08:43:43.280758Z",
     "iopub.status.idle": "2022-02-05T08:43:43.284829Z",
     "shell.execute_reply": "2022-02-05T08:43:43.285353Z",
     "shell.execute_reply.started": "2022-02-05T08:43:04.502414Z"
    },
    "id": "rTz8Sn-rBrRs",
    "papermill": {
     "duration": 0.026887,
     "end_time": "2022-02-05T08:43:43.285524",
     "exception": false,
     "start_time": "2022-02-05T08:43:43.258637",
     "status": "completed"
    },
    "tags": []
   },
   "outputs": [
    {
     "data": {
      "text/plain": [
       "\"\\n# get train.csv\\nimport pandas as pd\\n\\ndf_train = pd.read_csv('train.csv')\\ndf_test = pd.read_csv('test.csv')\\ndf_train\\n\""
      ]
     },
     "execution_count": 6,
     "metadata": {},
     "output_type": "execute_result"
    }
   ],
   "source": [
    "\"\"\"\n",
    "# get train.csv\n",
    "import pandas as pd\n",
    "\n",
    "df_train = pd.read_csv('train.csv')\n",
    "df_test = pd.read_csv('test.csv')\n",
    "df_train\n",
    "\"\"\""
   ]
  },
  {
   "cell_type": "code",
   "execution_count": 7,
   "id": "576df104",
   "metadata": {
    "execution": {
     "iopub.execute_input": "2022-02-05T08:43:43.331048Z",
     "iopub.status.busy": "2022-02-05T08:43:43.328136Z",
     "iopub.status.idle": "2022-02-05T08:43:43.333627Z",
     "shell.execute_reply": "2022-02-05T08:43:43.334230Z",
     "shell.execute_reply.started": "2022-02-05T08:43:04.515988Z"
    },
    "id": "baUKP2WntbEV",
    "papermill": {
     "duration": 0.028805,
     "end_time": "2022-02-05T08:43:43.334404",
     "exception": false,
     "start_time": "2022-02-05T08:43:43.305599",
     "status": "completed"
    },
    "tags": []
   },
   "outputs": [
    {
     "data": {
      "text/plain": [
       "'\\ndef annotation2YoloFormat(_annotation, width=1280, height=720):\\n  out = \\'\\'\\n  if isinstance(_annotation,str):\\n    a = _annotation\\n    while True:\\n      ix = a.find(\"\\'x\\': \")\\n      iy = a.find(\"\\'y\\': \")\\n      iw = a.find(\"\\'width\\': \")\\n      ih = a.find(\"\\'height\\': \")\\n      \\n      if ix < 0 or iy < 0 or iw < 0 or ih < 0:\\n        break\\n\\n      x = float(a[ix + len(\"\\'x\\': \"):a.find(\", \\'y\")])/width\\n      y = float(a[iy + len(\"\\'y\\': \"):a.find(\", \\'w\")])/height\\n      w = float(a[iw + len(\"\\'width\\': \"):a.find(\", \\'h\")])/width\\n      h = float(a[ih + len(\"\\'height\\': \"):a.find(\\'}\\')])/height\\n      \\n      \\n      out += \\'0 %.6f %.6f %.6f %.6f\\n\\'%(x+w/2, y+h/2, w, h)\\n      a = a[a.find(\\'}\\')+1:]\\n    \\n    out = out[:-1]\\n  return out\\n  '"
      ]
     },
     "execution_count": 7,
     "metadata": {},
     "output_type": "execute_result"
    }
   ],
   "source": [
    "\"\"\"\n",
    "def annotation2YoloFormat(_annotation, width=1280, height=720):\n",
    "  out = ''\n",
    "  if isinstance(_annotation,str):\n",
    "    a = _annotation\n",
    "    while True:\n",
    "      ix = a.find(\"'x': \")\n",
    "      iy = a.find(\"'y': \")\n",
    "      iw = a.find(\"'width': \")\n",
    "      ih = a.find(\"'height': \")\n",
    "      \n",
    "      if ix < 0 or iy < 0 or iw < 0 or ih < 0:\n",
    "        break\n",
    "\n",
    "      x = float(a[ix + len(\"'x': \"):a.find(\", 'y\")])/width\n",
    "      y = float(a[iy + len(\"'y': \"):a.find(\", 'w\")])/height\n",
    "      w = float(a[iw + len(\"'width': \"):a.find(\", 'h\")])/width\n",
    "      h = float(a[ih + len(\"'height': \"):a.find('}')])/height\n",
    "      \n",
    "      \n",
    "      out += '0 %.6f %.6f %.6f %.6f\\n'%(x+w/2, y+h/2, w, h)\n",
    "      a = a[a.find('}')+1:]\n",
    "    \n",
    "    out = out[:-1]\n",
    "  return out\n",
    "  \"\"\""
   ]
  },
  {
   "cell_type": "code",
   "execution_count": 8,
   "id": "f5a13071",
   "metadata": {
    "execution": {
     "iopub.execute_input": "2022-02-05T08:43:43.378661Z",
     "iopub.status.busy": "2022-02-05T08:43:43.377968Z",
     "iopub.status.idle": "2022-02-05T08:43:43.384135Z",
     "shell.execute_reply": "2022-02-05T08:43:43.384750Z",
     "shell.execute_reply.started": "2022-02-05T08:43:04.528461Z"
    },
    "id": "uqxZ_4iaW1Gg",
    "outputId": "93498d40-98f2-49b3-b333-23e792e581c4",
    "papermill": {
     "duration": 0.030286,
     "end_time": "2022-02-05T08:43:43.384915",
     "exception": false,
     "start_time": "2022-02-05T08:43:43.354629",
     "status": "completed"
    },
    "tags": []
   },
   "outputs": [
    {
     "data": {
      "text/plain": [
       "'\\n# read images from /content/train_images\\n# change name\\n# save the image to train | val | test. ratio = 0.64 : 0.16 : 0.2\\n# create corresponding txt file and save\\n\\n# change image name to image id\\n# split images by train:val:test = .64:.16:.2\\nimport shutil\\nimport os\\nimport random\\nrandom.seed(31415)\\n%cd train_images\\n\\nTEST_DIRECTORY = \"../Datasets/test\"\\nTRAIN_DIRECTORY = \"../Datasets/train\"\\nVAL_DIRECTORY = \"../Datasets/val\"\\n\\nfor dir in os.listdir():\\n  # print(dir)\\n  for image in os.listdir(dir):\\n    annot = df_train.loc[df_train[\\'image_id\\']==f\\'{dir[-1]}-{image[:-4]}\\', \\'annotations\\'].iloc[0]\\n    if annot != \\'[]\\':\\n      random_key = random.random()\\n      if random_key < 0.64:\\n        random_folder = TRAIN_DIRECTORY\\n      elif random_key < 0.8:\\n        random_folder = VAL_DIRECTORY\\n      else:\\n        random_folder = TEST_DIRECTORY\\n      shutil.move(f\\'{dir}/{image}\\', f\"../Datasets/{random_folder}/images/{dir[-1]}-{image}\")\\n\\n      # might add label as well while in iteration\\n      # as YOLO format [{xywh},{},...]\\n      f = open(f\"../Datasets/{random_folder}/labels/{dir[-1]}-{image[:-4]}.txt\", \\'w\\')\\n      f.write(annotation2YoloFormat(annot))\\n      f.close()\\n\\n%cd ..\\n!rm -rf train_images/\\n'"
      ]
     },
     "execution_count": 8,
     "metadata": {},
     "output_type": "execute_result"
    }
   ],
   "source": [
    "\"\"\"\n",
    "# read images from /content/train_images\n",
    "# change name\n",
    "# save the image to train | val | test. ratio = 0.64 : 0.16 : 0.2\n",
    "# create corresponding txt file and save\n",
    "\n",
    "# change image name to image id\n",
    "# split images by train:val:test = .64:.16:.2\n",
    "import shutil\n",
    "import os\n",
    "import random\n",
    "random.seed(31415)\n",
    "%cd train_images\n",
    "\n",
    "TEST_DIRECTORY = \"../Datasets/test\"\n",
    "TRAIN_DIRECTORY = \"../Datasets/train\"\n",
    "VAL_DIRECTORY = \"../Datasets/val\"\n",
    "\n",
    "for dir in os.listdir():\n",
    "  # print(dir)\n",
    "  for image in os.listdir(dir):\n",
    "    annot = df_train.loc[df_train['image_id']==f'{dir[-1]}-{image[:-4]}', 'annotations'].iloc[0]\n",
    "    if annot != '[]':\n",
    "      random_key = random.random()\n",
    "      if random_key < 0.64:\n",
    "        random_folder = TRAIN_DIRECTORY\n",
    "      elif random_key < 0.8:\n",
    "        random_folder = VAL_DIRECTORY\n",
    "      else:\n",
    "        random_folder = TEST_DIRECTORY\n",
    "      shutil.move(f'{dir}/{image}', f\"../Datasets/{random_folder}/images/{dir[-1]}-{image}\")\n",
    "\n",
    "      # might add label as well while in iteration\n",
    "      # as YOLO format [{xywh},{},...]\n",
    "      f = open(f\"../Datasets/{random_folder}/labels/{dir[-1]}-{image[:-4]}.txt\", 'w')\n",
    "      f.write(annotation2YoloFormat(annot))\n",
    "      f.close()\n",
    "\n",
    "%cd ..\n",
    "!rm -rf train_images/\n",
    "\"\"\""
   ]
  },
  {
   "cell_type": "code",
   "execution_count": 9,
   "id": "99e48d3f",
   "metadata": {
    "execution": {
     "iopub.execute_input": "2022-02-05T08:43:43.429592Z",
     "iopub.status.busy": "2022-02-05T08:43:43.428969Z",
     "iopub.status.idle": "2022-02-05T08:43:43.433679Z",
     "shell.execute_reply": "2022-02-05T08:43:43.434253Z",
     "shell.execute_reply.started": "2022-02-05T08:43:04.541619Z"
    },
    "id": "wbvMlHd_QwMG",
    "outputId": "50453b58-4b1e-4f75-9895-20f78a36a203",
    "papermill": {
     "duration": 0.02877,
     "end_time": "2022-02-05T08:43:43.434438",
     "exception": false,
     "start_time": "2022-02-05T08:43:43.405668",
     "status": "completed"
    },
    "tags": []
   },
   "outputs": [
    {
     "data": {
      "text/plain": [
       "'\\n#!git clone https://github.com/ultralytics/yolov5  # clone\\n%cd yolov5\\n%pip install -r requirements.txt  # install\\n\\nimport torch\\nfrom yolov5 import utils\\n# display = utils.notebook_init()  # checks\\n'"
      ]
     },
     "execution_count": 9,
     "metadata": {},
     "output_type": "execute_result"
    }
   ],
   "source": [
    "\"\"\"\n",
    "#!git clone https://github.com/ultralytics/yolov5  # clone\n",
    "%cd yolov5\n",
    "%pip install -r requirements.txt  # install\n",
    "\n",
    "import torch\n",
    "from yolov5 import utils\n",
    "# display = utils.notebook_init()  # checks\n",
    "\"\"\""
   ]
  },
  {
   "cell_type": "markdown",
   "id": "d66ee546",
   "metadata": {
    "id": "W4SnuptqeYiA",
    "papermill": {
     "duration": 0.020927,
     "end_time": "2022-02-05T08:43:43.476431",
     "exception": false,
     "start_time": "2022-02-05T08:43:43.455504",
     "status": "completed"
    },
    "tags": []
   },
   "source": [
    "# Under /content/yolov5"
   ]
  },
  {
   "cell_type": "code",
   "execution_count": 10,
   "id": "6c8a2835",
   "metadata": {
    "execution": {
     "iopub.execute_input": "2022-02-05T08:43:43.521562Z",
     "iopub.status.busy": "2022-02-05T08:43:43.520930Z",
     "iopub.status.idle": "2022-02-05T08:43:43.525418Z",
     "shell.execute_reply": "2022-02-05T08:43:43.525985Z",
     "shell.execute_reply.started": "2022-02-05T08:43:04.561320Z"
    },
    "id": "KUO-ZP2gLdpT",
    "outputId": "627b7e3a-7c82-4c2e-a5e3-f48b94f66ee2",
    "papermill": {
     "duration": 0.028611,
     "end_time": "2022-02-05T08:43:43.526141",
     "exception": false,
     "start_time": "2022-02-05T08:43:43.497530",
     "status": "completed"
    },
    "tags": []
   },
   "outputs": [
    {
     "data": {
      "text/plain": [
       "'\\n# create yaml file and save to /data (your at /content/yolov5)\\n# https://drive.google.com/file/d/1BBrQ5_1urHvJdYOmYPR-HalMeF9dnK37/view?usp=sharing\\n!gdown --id 1BBrQ5_1urHvJdYOmYPR-HalMeF9dnK37 -O /content/yolov5/data/GBR.yaml\\n'"
      ]
     },
     "execution_count": 10,
     "metadata": {},
     "output_type": "execute_result"
    }
   ],
   "source": [
    "\"\"\"\n",
    "# create yaml file and save to /data (your at /content/yolov5)\n",
    "# https://drive.google.com/file/d/1BBrQ5_1urHvJdYOmYPR-HalMeF9dnK37/view?usp=sharing\n",
    "!gdown --id 1BBrQ5_1urHvJdYOmYPR-HalMeF9dnK37 -O /content/yolov5/data/GBR.yaml\n",
    "\"\"\""
   ]
  },
  {
   "cell_type": "code",
   "execution_count": 11,
   "id": "4477a629",
   "metadata": {
    "execution": {
     "iopub.execute_input": "2022-02-05T08:43:43.573198Z",
     "iopub.status.busy": "2022-02-05T08:43:43.572598Z",
     "iopub.status.idle": "2022-02-05T08:43:43.575826Z",
     "shell.execute_reply": "2022-02-05T08:43:43.576384Z",
     "shell.execute_reply.started": "2022-02-05T08:43:04.573906Z"
    },
    "id": "k47ZnEx4L8hF",
    "papermill": {
     "duration": 0.028418,
     "end_time": "2022-02-05T08:43:43.576544",
     "exception": false,
     "start_time": "2022-02-05T08:43:43.548126",
     "status": "completed"
    },
    "tags": []
   },
   "outputs": [],
   "source": [
    "# Train YOLOv5s on COCO128 for 3 epochs\n",
    "# --img : image size (size,size)\n",
    "# --batch : batch size\n",
    "# --epochs : epochs\n",
    "# --data : .yaml file name\n",
    "# --weights : pretrained weights ('' --cfg yolov5s.yaml if from scratch)\n",
    "# !python train.py --img 720 --batch 20 --epochs 12 --data GBR.yaml --weights yolov5m.pt"
   ]
  },
  {
   "cell_type": "markdown",
   "id": "c0325cd1",
   "metadata": {
    "id": "Q_KfojRcfSUP",
    "papermill": {
     "duration": 0.021175,
     "end_time": "2022-02-05T08:43:43.619101",
     "exception": false,
     "start_time": "2022-02-05T08:43:43.597926",
     "status": "completed"
    },
    "tags": []
   },
   "source": [
    "# Visualization"
   ]
  },
  {
   "cell_type": "code",
   "execution_count": 12,
   "id": "c75bf1dc",
   "metadata": {
    "execution": {
     "iopub.execute_input": "2022-02-05T08:43:43.669995Z",
     "iopub.status.busy": "2022-02-05T08:43:43.669112Z",
     "iopub.status.idle": "2022-02-05T08:43:43.672182Z",
     "shell.execute_reply": "2022-02-05T08:43:43.672678Z",
     "shell.execute_reply.started": "2022-02-05T08:43:04.583000Z"
    },
    "id": "q2PShNdCSrMV",
    "papermill": {
     "duration": 0.032006,
     "end_time": "2022-02-05T08:43:43.672847",
     "exception": false,
     "start_time": "2022-02-05T08:43:43.640841",
     "status": "completed"
    },
    "tags": []
   },
   "outputs": [
    {
     "data": {
      "text/plain": [
       "'\\n%cd /content/yolov5\\n!python detect.py --img 640 --source ../Datasets/test/images --weights runs/train/exp2/weights/best.pt --data data/GBR.yaml --nosave --save-txt --save-conf --conf-thres 0.01 --iou-thres 0.3 --max-det 100\\n'"
      ]
     },
     "execution_count": 12,
     "metadata": {},
     "output_type": "execute_result"
    }
   ],
   "source": [
    "\"\"\"\n",
    "%cd /content/yolov5\n",
    "!python detect.py --img 640\\\n",
    " --source ../Datasets/test/images\\\n",
    " --weights runs/train/exp2/weights/best.pt\\\n",
    " --data data/GBR.yaml\\\n",
    " --nosave\\\n",
    " --save-txt\\\n",
    " --save-conf\\\n",
    " --conf-thres 0.01\\\n",
    " --iou-thres 0.3\\\n",
    " --max-det 100\n",
    "\"\"\""
   ]
  },
  {
   "cell_type": "code",
   "execution_count": 13,
   "id": "c5693ade",
   "metadata": {
    "execution": {
     "iopub.execute_input": "2022-02-05T08:43:43.721649Z",
     "iopub.status.busy": "2022-02-05T08:43:43.720943Z",
     "iopub.status.idle": "2022-02-05T08:43:43.723516Z",
     "shell.execute_reply": "2022-02-05T08:43:43.724023Z",
     "shell.execute_reply.started": "2022-02-05T08:43:04.597691Z"
    },
    "id": "xKNDhrelf9YI",
    "papermill": {
     "duration": 0.029546,
     "end_time": "2022-02-05T08:43:43.724183",
     "exception": false,
     "start_time": "2022-02-05T08:43:43.694637",
     "status": "completed"
    },
    "tags": []
   },
   "outputs": [
    {
     "data": {
      "text/plain": [
       "'\\n%cd /content/yolov5/runs/detect/exp2/labels\\n!zip /content/exp_pred_labels.zip *.txt\\n%cd /content/Datasets/test/labels\\n!zip /content/exp_true_labels.zip *.txt\\n%cd /content\\n'"
      ]
     },
     "execution_count": 13,
     "metadata": {},
     "output_type": "execute_result"
    }
   ],
   "source": [
    "\"\"\"\n",
    "%cd /content/yolov5/runs/detect/exp2/labels\n",
    "!zip /content/exp_pred_labels.zip *.txt\n",
    "%cd /content/Datasets/test/labels\n",
    "!zip /content/exp_true_labels.zip *.txt\n",
    "%cd /content\n",
    "\"\"\""
   ]
  },
  {
   "cell_type": "code",
   "execution_count": 14,
   "id": "2d49a0f8",
   "metadata": {
    "execution": {
     "iopub.execute_input": "2022-02-05T08:43:43.771377Z",
     "iopub.status.busy": "2022-02-05T08:43:43.770734Z",
     "iopub.status.idle": "2022-02-05T08:43:43.774951Z",
     "shell.execute_reply": "2022-02-05T08:43:43.775650Z",
     "shell.execute_reply.started": "2022-02-05T08:43:04.614672Z"
    },
    "id": "zbmSxR7vPdf9",
    "papermill": {
     "duration": 0.029639,
     "end_time": "2022-02-05T08:43:43.775820",
     "exception": false,
     "start_time": "2022-02-05T08:43:43.746181",
     "status": "completed"
    },
    "tags": []
   },
   "outputs": [
    {
     "data": {
      "text/plain": [
       "\"\\n%cd /content/yolov5\\n# visualize\\nfrom utils.plots import plot_results \\nplot_results('./runs/train/exp2/results.csv')  # plot 'results.csv' as 'results.png'\\n\""
      ]
     },
     "execution_count": 14,
     "metadata": {},
     "output_type": "execute_result"
    }
   ],
   "source": [
    "\"\"\"\n",
    "%cd /content/yolov5\n",
    "# visualize\n",
    "from utils.plots import plot_results \n",
    "plot_results('./runs/train/exp2/results.csv')  # plot 'results.csv' as 'results.png'\n",
    "\"\"\""
   ]
  },
  {
   "cell_type": "code",
   "execution_count": 15,
   "id": "240cb205",
   "metadata": {
    "execution": {
     "iopub.execute_input": "2022-02-05T08:43:43.823499Z",
     "iopub.status.busy": "2022-02-05T08:43:43.822888Z",
     "iopub.status.idle": "2022-02-05T08:43:43.826945Z",
     "shell.execute_reply": "2022-02-05T08:43:43.827528Z",
     "shell.execute_reply.started": "2022-02-05T08:43:04.625595Z"
    },
    "id": "nEbL6eJre3PK",
    "outputId": "cca9b36c-c7e2-4698-ecd6-fdf7757b72e5",
    "papermill": {
     "duration": 0.029493,
     "end_time": "2022-02-05T08:43:43.827681",
     "exception": false,
     "start_time": "2022-02-05T08:43:43.798188",
     "status": "completed"
    },
    "tags": []
   },
   "outputs": [
    {
     "data": {
      "text/plain": [
       "\"\\nimport cv2\\nfrom google.colab.patches import cv2_imshow\\ncv2_imshow(cv2.imread('./runs/train/exp2/results.png'))\\n\""
      ]
     },
     "execution_count": 15,
     "metadata": {},
     "output_type": "execute_result"
    }
   ],
   "source": [
    "\"\"\"\n",
    "import cv2\n",
    "from google.colab.patches import cv2_imshow\n",
    "cv2_imshow(cv2.imread('./runs/train/exp2/results.png'))\n",
    "\"\"\""
   ]
  },
  {
   "cell_type": "markdown",
   "id": "5bec055c",
   "metadata": {
    "id": "0_cqT7bKx25g",
    "papermill": {
     "duration": 0.02227,
     "end_time": "2022-02-05T08:43:43.872765",
     "exception": false,
     "start_time": "2022-02-05T08:43:43.850495",
     "status": "completed"
    },
    "tags": []
   },
   "source": [
    "# Submit"
   ]
  },
  {
   "cell_type": "code",
   "execution_count": 16,
   "id": "b5fb44dc",
   "metadata": {
    "execution": {
     "iopub.execute_input": "2022-02-05T08:43:43.921176Z",
     "iopub.status.busy": "2022-02-05T08:43:43.920531Z",
     "iopub.status.idle": "2022-02-05T08:43:43.925230Z",
     "shell.execute_reply": "2022-02-05T08:43:43.925812Z",
     "shell.execute_reply.started": "2022-02-05T08:43:04.640962Z"
    },
    "id": "nAKkcSqpxwIH",
    "outputId": "1db0f795-4efb-4cb0-a309-e53e02507a3e",
    "papermill": {
     "duration": 0.030517,
     "end_time": "2022-02-05T08:43:43.925965",
     "exception": false,
     "start_time": "2022-02-05T08:43:43.895448",
     "status": "completed"
    },
    "tags": []
   },
   "outputs": [
    {
     "data": {
      "text/plain": [
       "'\\n# https://drive.google.com/file/d/1Koc5DW5obyZ5blVzdP5EHeaFDfmUNkE0/view?usp=sharing\\n# save custom detect.py to /content/yolov5/detect2.py\\n!gdown --id 1Koc5DW5obyZ5blVzdP5EHeaFDfmUNkE0 -O /content/yolov5/detect2.py\\n\\n# https://drive.google.com/file/d/1JMNnFYJOgKZTA1a0RGBMbRO2EFouZU4K/view?usp=sharing\\n# save custom datasets.py to /content/yolov5/utils/datasets.py\\n!gdown --id 1JMNnFYJOgKZTA1a0RGBMbRO2EFouZU4K -O /content/yolov5/utils/datasets.py\\n'"
      ]
     },
     "execution_count": 16,
     "metadata": {},
     "output_type": "execute_result"
    }
   ],
   "source": [
    "\"\"\"\n",
    "# https://drive.google.com/file/d/1Koc5DW5obyZ5blVzdP5EHeaFDfmUNkE0/view?usp=sharing\n",
    "# save custom detect.py to /content/yolov5/detect2.py\n",
    "!gdown --id 1Koc5DW5obyZ5blVzdP5EHeaFDfmUNkE0 -O /content/yolov5/detect2.py\n",
    "\n",
    "# https://drive.google.com/file/d/1JMNnFYJOgKZTA1a0RGBMbRO2EFouZU4K/view?usp=sharing\n",
    "# save custom datasets.py to /content/yolov5/utils/datasets.py\n",
    "!gdown --id 1JMNnFYJOgKZTA1a0RGBMbRO2EFouZU4K -O /content/yolov5/utils/datasets.py\n",
    "\"\"\""
   ]
  },
  {
   "cell_type": "code",
   "execution_count": 17,
   "id": "dec57525",
   "metadata": {
    "execution": {
     "iopub.execute_input": "2022-02-05T08:43:43.976190Z",
     "iopub.status.busy": "2022-02-05T08:43:43.975482Z",
     "iopub.status.idle": "2022-02-05T08:43:43.981658Z",
     "shell.execute_reply": "2022-02-05T08:43:43.981131Z",
     "shell.execute_reply.started": "2022-02-05T08:43:04.652488Z"
    },
    "papermill": {
     "duration": 0.03231,
     "end_time": "2022-02-05T08:43:43.981796",
     "exception": false,
     "start_time": "2022-02-05T08:43:43.949486",
     "status": "completed"
    },
    "tags": []
   },
   "outputs": [
    {
     "name": "stdout",
     "output_type": "stream",
     "text": [
      "[Errno 2] No such file or directory: './working'\n",
      "/kaggle/working\n"
     ]
    }
   ],
   "source": [
    "%cd ./working"
   ]
  },
  {
   "cell_type": "code",
   "execution_count": 18,
   "id": "6e318be6",
   "metadata": {
    "execution": {
     "iopub.execute_input": "2022-02-05T08:43:44.040270Z",
     "iopub.status.busy": "2022-02-05T08:43:44.038267Z",
     "iopub.status.idle": "2022-02-05T08:43:51.127929Z",
     "shell.execute_reply": "2022-02-05T08:43:51.128576Z",
     "shell.execute_reply.started": "2022-02-05T08:43:04.667863Z"
    },
    "id": "vR49Yu5bbkOO",
    "outputId": "42db54c0-eb3f-4267-e888-d9d9ede498c5",
    "papermill": {
     "duration": 7.122986,
     "end_time": "2022-02-05T08:43:51.128776",
     "exception": false,
     "start_time": "2022-02-05T08:43:44.005790",
     "status": "completed"
    },
    "tags": []
   },
   "outputs": [
    {
     "name": "stdout",
     "output_type": "stream",
     "text": [
      "/kaggle/input/yologithubrepoandsomecustom\n",
      "/kaggle/working\n",
      "__notebook__.ipynb\r\n"
     ]
    },
    {
     "name": "stderr",
     "output_type": "stream",
     "text": [
      "YOLOv5 🚀 v6.0-235-ge1a6a0b torch 1.9.1+cpu CPU\n",
      "\n",
      "Fusing layers... \n",
      "Model Summary: 290 layers, 20852934 parameters, 0 gradients\n",
      "WARNING: --img-size (640, 640) must be multiple of max stride 32, updating to [640, 640]\n"
     ]
    },
    {
     "name": "stdout",
     "output_type": "stream",
     "text": [
      "This version of the API is not optimized and should not be used to estimate the runtime of your code on the hidden test set.\n"
     ]
    }
   ],
   "source": [
    "# something like this...?\n",
    "import greatbarrierreef\n",
    "%cd ../input/yologithubrepoandsomecustom\n",
    "from yolov5.detect2 import run as detect2run\n",
    "%cd ../../working\n",
    "%ls\n",
    "\n",
    "detect2run(\n",
    "    weights='../input/yologithubrepoandsomecustom/yolov5/weights/best.pt',\n",
    "    data='../input/yologithubrepoandsomecustom/yolov5/data/GBR.yaml',\n",
    "    env=greatbarrierreef.make_env(),\n",
    "    conf_thres=0.01,\n",
    "    iou_thres=0.3,\n",
    "    max_det=100\n",
    ")"
   ]
  },
  {
   "cell_type": "code",
   "execution_count": 19,
   "id": "62971a6a",
   "metadata": {
    "execution": {
     "iopub.execute_input": "2022-02-05T08:43:51.187487Z",
     "iopub.status.busy": "2022-02-05T08:43:51.185866Z",
     "iopub.status.idle": "2022-02-05T08:43:51.198635Z",
     "shell.execute_reply": "2022-02-05T08:43:51.199234Z",
     "shell.execute_reply.started": "2022-02-05T08:43:11.902610Z"
    },
    "papermill": {
     "duration": 0.043454,
     "end_time": "2022-02-05T08:43:51.199416",
     "exception": false,
     "start_time": "2022-02-05T08:43:51.155962",
     "status": "completed"
    },
    "tags": []
   },
   "outputs": [
    {
     "data": {
      "text/html": [
       "<div>\n",
       "<style scoped>\n",
       "    .dataframe tbody tr th:only-of-type {\n",
       "        vertical-align: middle;\n",
       "    }\n",
       "\n",
       "    .dataframe tbody tr th {\n",
       "        vertical-align: top;\n",
       "    }\n",
       "\n",
       "    .dataframe thead th {\n",
       "        text-align: right;\n",
       "    }\n",
       "</style>\n",
       "<table border=\"1\" class=\"dataframe\">\n",
       "  <thead>\n",
       "    <tr style=\"text-align: right;\">\n",
       "      <th></th>\n",
       "      <th>index</th>\n",
       "      <th>annotations</th>\n",
       "    </tr>\n",
       "  </thead>\n",
       "  <tbody>\n",
       "    <tr>\n",
       "      <th>0</th>\n",
       "      <td>0</td>\n",
       "      <td>0.197906 265 255 40 30</td>\n",
       "    </tr>\n",
       "    <tr>\n",
       "      <th>1</th>\n",
       "      <td>1</td>\n",
       "      <td>0.011626 261 260 37 28 0.011906 1234 667 45 50</td>\n",
       "    </tr>\n",
       "    <tr>\n",
       "      <th>2</th>\n",
       "      <td>2</td>\n",
       "      <td>0.052808 257 260 40 30</td>\n",
       "    </tr>\n",
       "  </tbody>\n",
       "</table>\n",
       "</div>"
      ],
      "text/plain": [
       "   index                                      annotations\n",
       "0      0                          0.197906 265 255 40 30 \n",
       "1      1  0.011626 261 260 37 28 0.011906 1234 667 45 50 \n",
       "2      2                          0.052808 257 260 40 30 "
      ]
     },
     "execution_count": 19,
     "metadata": {},
     "output_type": "execute_result"
    }
   ],
   "source": [
    "import pandas\n",
    "submission_df = pandas.read_csv('./submission.csv')\n",
    "submission_df"
   ]
  }
 ],
 "metadata": {
  "kernelspec": {
   "display_name": "Python 3",
   "language": "python",
   "name": "python3"
  },
  "language_info": {
   "codemirror_mode": {
    "name": "ipython",
    "version": 3
   },
   "file_extension": ".py",
   "mimetype": "text/x-python",
   "name": "python",
   "nbconvert_exporter": "python",
   "pygments_lexer": "ipython3",
   "version": "3.7.12"
  },
  "papermill": {
   "default_parameters": {},
   "duration": 18.780916,
   "end_time": "2022-02-05T08:43:52.139328",
   "environment_variables": {},
   "exception": null,
   "input_path": "__notebook__.ipynb",
   "output_path": "__notebook__.ipynb",
   "parameters": {},
   "start_time": "2022-02-05T08:43:33.358412",
   "version": "2.3.3"
  }
 },
 "nbformat": 4,
 "nbformat_minor": 5
}
