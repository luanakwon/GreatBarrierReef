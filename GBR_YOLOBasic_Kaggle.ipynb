{
 "cells": [
  {
   "cell_type": "markdown",
   "id": "65d2273f",
   "metadata": {
    "id": "view-in-github",
    "papermill": {
     "duration": 0.015238,
     "end_time": "2022-02-05T07:54:58.022150",
     "exception": false,
     "start_time": "2022-02-05T07:54:58.006912",
     "status": "completed"
    },
    "tags": []
   },
   "source": [
    "<a href=\"https://colab.research.google.com/github/luanakwon/GreatBarrierReef/blob/main/GBR_YOLOBasic.ipynb\" target=\"_parent\"><img src=\"https://colab.research.google.com/assets/colab-badge.svg\" alt=\"Open In Colab\"/></a>"
   ]
  },
  {
   "cell_type": "markdown",
   "id": "812f13fe",
   "metadata": {
    "id": "Atikzzc0fL2v",
    "papermill": {
     "duration": 0.01346,
     "end_time": "2022-02-05T07:54:58.049907",
     "exception": false,
     "start_time": "2022-02-05T07:54:58.036447",
     "status": "completed"
    },
    "tags": []
   },
   "source": [
    "# Download dataset from kaggle api\n",
    "kaggle  \n",
    "https://www.kaggle.com/c/tensorflow-great-barrier-reef/data  \n",
    "\n",
    "kaggle API usage  \n",
    "https://colab.research.google.com/github/corrieann/kaggle/blob/master/kaggle_api_in_colab.ipynb"
   ]
  },
  {
   "cell_type": "code",
   "execution_count": 1,
   "id": "b11c549b",
   "metadata": {
    "execution": {
     "iopub.execute_input": "2022-02-05T07:54:58.085813Z",
     "iopub.status.busy": "2022-02-05T07:54:58.084203Z",
     "iopub.status.idle": "2022-02-05T07:54:58.087493Z",
     "shell.execute_reply": "2022-02-05T07:54:58.086699Z",
     "shell.execute_reply.started": "2022-02-05T07:53:44.562987Z"
    },
    "id": "n-JPBh1fETGF",
    "outputId": "4f1205dc-f60f-4353-f9d6-e9ca749934dd",
    "papermill": {
     "duration": 0.023973,
     "end_time": "2022-02-05T07:54:58.087663",
     "exception": false,
     "start_time": "2022-02-05T07:54:58.063690",
     "status": "completed"
    },
    "tags": []
   },
   "outputs": [],
   "source": [
    "# !pip install kaggle\n",
    "# !pip install --upgrade --force-reinstall --no-deps kaggle"
   ]
  },
  {
   "cell_type": "code",
   "execution_count": 2,
   "id": "cff02a2b",
   "metadata": {
    "execution": {
     "iopub.execute_input": "2022-02-05T07:54:58.120766Z",
     "iopub.status.busy": "2022-02-05T07:54:58.120097Z",
     "iopub.status.idle": "2022-02-05T07:54:58.122608Z",
     "shell.execute_reply": "2022-02-05T07:54:58.122044Z",
     "shell.execute_reply.started": "2022-02-05T07:53:44.586086Z"
    },
    "id": "Z27ke3uEchVJ",
    "outputId": "1bc4d761-0381-495e-e513-3774c3679ee6",
    "papermill": {
     "duration": 0.020954,
     "end_time": "2022-02-05T07:54:58.122752",
     "exception": false,
     "start_time": "2022-02-05T07:54:58.101798",
     "status": "completed"
    },
    "tags": []
   },
   "outputs": [],
   "source": [
    "# from google.colab import files\n",
    "# \n",
    "# uploaded = files.upload()\n",
    "# \n",
    "# for fn in uploaded.keys():\n",
    "#   print('User uploaded file \"{name}\" with length {length} bytes'.format(\n",
    "#       name=fn, length=len(uploaded[fn])))\n",
    "#   \n",
    "# Then move kaggle.json into the folder where the API expects to find it.\n",
    "# !mkdir -p ~/.kaggle/ && mv kaggle.json ~/.kaggle/ && chmod 600 ~/.kaggle/kaggle.json"
   ]
  },
  {
   "cell_type": "code",
   "execution_count": 3,
   "id": "ad4b0490",
   "metadata": {
    "execution": {
     "iopub.execute_input": "2022-02-05T07:54:58.155955Z",
     "iopub.status.busy": "2022-02-05T07:54:58.155252Z",
     "iopub.status.idle": "2022-02-05T07:54:58.158022Z",
     "shell.execute_reply": "2022-02-05T07:54:58.158559Z",
     "shell.execute_reply.started": "2022-02-05T07:53:44.591109Z"
    },
    "id": "6JXwYXTxc8D4",
    "outputId": "ffa59142-86e1-4c2d-e270-fdacce817b9a",
    "papermill": {
     "duration": 0.021536,
     "end_time": "2022-02-05T07:54:58.158730",
     "exception": false,
     "start_time": "2022-02-05T07:54:58.137194",
     "status": "completed"
    },
    "tags": []
   },
   "outputs": [],
   "source": [
    "# !kaggle competitions download -c tensorflow-great-barrier-reef"
   ]
  },
  {
   "cell_type": "code",
   "execution_count": 4,
   "id": "9bdf7d81",
   "metadata": {
    "execution": {
     "iopub.execute_input": "2022-02-05T07:54:58.190773Z",
     "iopub.status.busy": "2022-02-05T07:54:58.190191Z",
     "iopub.status.idle": "2022-02-05T07:54:58.191997Z",
     "shell.execute_reply": "2022-02-05T07:54:58.192522Z",
     "shell.execute_reply.started": "2022-02-05T07:53:44.604748Z"
    },
    "id": "D18RwmYWwO84",
    "papermill": {
     "duration": 0.01973,
     "end_time": "2022-02-05T07:54:58.192681",
     "exception": false,
     "start_time": "2022-02-05T07:54:58.172951",
     "status": "completed"
    },
    "tags": []
   },
   "outputs": [],
   "source": [
    "# !unzip -q /content/tensorflow-great-barrier-reef.zip "
   ]
  },
  {
   "cell_type": "markdown",
   "id": "4410043d",
   "metadata": {
    "id": "woh5Odk0V7lU",
    "papermill": {
     "duration": 0.013704,
     "end_time": "2022-02-05T07:54:58.220322",
     "exception": false,
     "start_time": "2022-02-05T07:54:58.206618",
     "status": "completed"
    },
    "tags": []
   },
   "source": [
    "# Session 1\n",
    "---\n",
    "Useful links  \n",
    "- [YOLOv5 - Train Custom Data github](https://github.com/ultralytics/yolov5/wiki/Train-Custom-Data)  \n"
   ]
  },
  {
   "cell_type": "code",
   "execution_count": 5,
   "id": "63c37d76",
   "metadata": {
    "execution": {
     "iopub.execute_input": "2022-02-05T07:54:58.251775Z",
     "iopub.status.busy": "2022-02-05T07:54:58.251199Z",
     "iopub.status.idle": "2022-02-05T07:54:58.260680Z",
     "shell.execute_reply": "2022-02-05T07:54:58.261215Z",
     "shell.execute_reply.started": "2022-02-05T07:53:44.616131Z"
    },
    "id": "acWPF0FJFpZ9",
    "papermill": {
     "duration": 0.026603,
     "end_time": "2022-02-05T07:54:58.261396",
     "exception": false,
     "start_time": "2022-02-05T07:54:58.234793",
     "status": "completed"
    },
    "tags": []
   },
   "outputs": [
    {
     "data": {
      "text/plain": [
       "\"\\n# create hierarchy\\nimport os\\n\\nfor f1 in 'train', 'val', 'test':\\n  for f2 in 'images', 'labels':\\n    os.makedirs(f'/content/Datasets/{f1}/{f2}')\\n    \\n\""
      ]
     },
     "execution_count": 5,
     "metadata": {},
     "output_type": "execute_result"
    }
   ],
   "source": [
    "\"\"\"\n",
    "# create hierarchy\n",
    "import os\n",
    "\n",
    "for f1 in 'train', 'val', 'test':\n",
    "  for f2 in 'images', 'labels':\n",
    "    os.makedirs(f'/content/Datasets/{f1}/{f2}')\n",
    "    \n",
    "\"\"\""
   ]
  },
  {
   "cell_type": "code",
   "execution_count": 6,
   "id": "bc2c592f",
   "metadata": {
    "execution": {
     "iopub.execute_input": "2022-02-05T07:54:58.293368Z",
     "iopub.status.busy": "2022-02-05T07:54:58.292771Z",
     "iopub.status.idle": "2022-02-05T07:54:58.296720Z",
     "shell.execute_reply": "2022-02-05T07:54:58.297174Z",
     "shell.execute_reply.started": "2022-02-05T07:53:44.631772Z"
    },
    "id": "rTz8Sn-rBrRs",
    "papermill": {
     "duration": 0.021403,
     "end_time": "2022-02-05T07:54:58.297349",
     "exception": false,
     "start_time": "2022-02-05T07:54:58.275946",
     "status": "completed"
    },
    "tags": []
   },
   "outputs": [
    {
     "data": {
      "text/plain": [
       "\"\\n# get train.csv\\nimport pandas as pd\\n\\ndf_train = pd.read_csv('train.csv')\\ndf_test = pd.read_csv('test.csv')\\ndf_train\\n\""
      ]
     },
     "execution_count": 6,
     "metadata": {},
     "output_type": "execute_result"
    }
   ],
   "source": [
    "\"\"\"\n",
    "# get train.csv\n",
    "import pandas as pd\n",
    "\n",
    "df_train = pd.read_csv('train.csv')\n",
    "df_test = pd.read_csv('test.csv')\n",
    "df_train\n",
    "\"\"\""
   ]
  },
  {
   "cell_type": "code",
   "execution_count": 7,
   "id": "3d4eed79",
   "metadata": {
    "execution": {
     "iopub.execute_input": "2022-02-05T07:54:58.330557Z",
     "iopub.status.busy": "2022-02-05T07:54:58.329932Z",
     "iopub.status.idle": "2022-02-05T07:54:58.335058Z",
     "shell.execute_reply": "2022-02-05T07:54:58.335572Z",
     "shell.execute_reply.started": "2022-02-05T07:53:44.645817Z"
    },
    "id": "baUKP2WntbEV",
    "papermill": {
     "duration": 0.023752,
     "end_time": "2022-02-05T07:54:58.335746",
     "exception": false,
     "start_time": "2022-02-05T07:54:58.311994",
     "status": "completed"
    },
    "tags": []
   },
   "outputs": [
    {
     "data": {
      "text/plain": [
       "'\\ndef annotation2YoloFormat(_annotation, width=1280, height=720):\\n  out = \\'\\'\\n  if isinstance(_annotation,str):\\n    a = _annotation\\n    while True:\\n      ix = a.find(\"\\'x\\': \")\\n      iy = a.find(\"\\'y\\': \")\\n      iw = a.find(\"\\'width\\': \")\\n      ih = a.find(\"\\'height\\': \")\\n      \\n      if ix < 0 or iy < 0 or iw < 0 or ih < 0:\\n        break\\n\\n      x = float(a[ix + len(\"\\'x\\': \"):a.find(\", \\'y\")])/width\\n      y = float(a[iy + len(\"\\'y\\': \"):a.find(\", \\'w\")])/height\\n      w = float(a[iw + len(\"\\'width\\': \"):a.find(\", \\'h\")])/width\\n      h = float(a[ih + len(\"\\'height\\': \"):a.find(\\'}\\')])/height\\n      \\n      \\n      out += \\'0 %.6f %.6f %.6f %.6f\\n\\'%(x+w/2, y+h/2, w, h)\\n      a = a[a.find(\\'}\\')+1:]\\n    \\n    out = out[:-1]\\n  return out\\n  '"
      ]
     },
     "execution_count": 7,
     "metadata": {},
     "output_type": "execute_result"
    }
   ],
   "source": [
    "\"\"\"\n",
    "def annotation2YoloFormat(_annotation, width=1280, height=720):\n",
    "  out = ''\n",
    "  if isinstance(_annotation,str):\n",
    "    a = _annotation\n",
    "    while True:\n",
    "      ix = a.find(\"'x': \")\n",
    "      iy = a.find(\"'y': \")\n",
    "      iw = a.find(\"'width': \")\n",
    "      ih = a.find(\"'height': \")\n",
    "      \n",
    "      if ix < 0 or iy < 0 or iw < 0 or ih < 0:\n",
    "        break\n",
    "\n",
    "      x = float(a[ix + len(\"'x': \"):a.find(\", 'y\")])/width\n",
    "      y = float(a[iy + len(\"'y': \"):a.find(\", 'w\")])/height\n",
    "      w = float(a[iw + len(\"'width': \"):a.find(\", 'h\")])/width\n",
    "      h = float(a[ih + len(\"'height': \"):a.find('}')])/height\n",
    "      \n",
    "      \n",
    "      out += '0 %.6f %.6f %.6f %.6f\\n'%(x+w/2, y+h/2, w, h)\n",
    "      a = a[a.find('}')+1:]\n",
    "    \n",
    "    out = out[:-1]\n",
    "  return out\n",
    "  \"\"\""
   ]
  },
  {
   "cell_type": "code",
   "execution_count": 8,
   "id": "84f7dea1",
   "metadata": {
    "execution": {
     "iopub.execute_input": "2022-02-05T07:54:58.369155Z",
     "iopub.status.busy": "2022-02-05T07:54:58.368582Z",
     "iopub.status.idle": "2022-02-05T07:54:58.373637Z",
     "shell.execute_reply": "2022-02-05T07:54:58.374165Z",
     "shell.execute_reply.started": "2022-02-05T07:53:44.657324Z"
    },
    "id": "uqxZ_4iaW1Gg",
    "outputId": "93498d40-98f2-49b3-b333-23e792e581c4",
    "papermill": {
     "duration": 0.022924,
     "end_time": "2022-02-05T07:54:58.374353",
     "exception": false,
     "start_time": "2022-02-05T07:54:58.351429",
     "status": "completed"
    },
    "tags": []
   },
   "outputs": [
    {
     "data": {
      "text/plain": [
       "'\\n# read images from /content/train_images\\n# change name\\n# save the image to train | val | test. ratio = 0.64 : 0.16 : 0.2\\n# create corresponding txt file and save\\n\\n# change image name to image id\\n# split images by train:val:test = .64:.16:.2\\nimport shutil\\nimport os\\nimport random\\nrandom.seed(31415)\\n%cd train_images\\n\\nTEST_DIRECTORY = \"../Datasets/test\"\\nTRAIN_DIRECTORY = \"../Datasets/train\"\\nVAL_DIRECTORY = \"../Datasets/val\"\\n\\nfor dir in os.listdir():\\n  # print(dir)\\n  for image in os.listdir(dir):\\n    annot = df_train.loc[df_train[\\'image_id\\']==f\\'{dir[-1]}-{image[:-4]}\\', \\'annotations\\'].iloc[0]\\n    if annot != \\'[]\\':\\n      random_key = random.random()\\n      if random_key < 0.64:\\n        random_folder = TRAIN_DIRECTORY\\n      elif random_key < 0.8:\\n        random_folder = VAL_DIRECTORY\\n      else:\\n        random_folder = TEST_DIRECTORY\\n      shutil.move(f\\'{dir}/{image}\\', f\"../Datasets/{random_folder}/images/{dir[-1]}-{image}\")\\n\\n      # might add label as well while in iteration\\n      # as YOLO format [{xywh},{},...]\\n      f = open(f\"../Datasets/{random_folder}/labels/{dir[-1]}-{image[:-4]}.txt\", \\'w\\')\\n      f.write(annotation2YoloFormat(annot))\\n      f.close()\\n\\n%cd ..\\n!rm -rf train_images/\\n'"
      ]
     },
     "execution_count": 8,
     "metadata": {},
     "output_type": "execute_result"
    }
   ],
   "source": [
    "\"\"\"\n",
    "# read images from /content/train_images\n",
    "# change name\n",
    "# save the image to train | val | test. ratio = 0.64 : 0.16 : 0.2\n",
    "# create corresponding txt file and save\n",
    "\n",
    "# change image name to image id\n",
    "# split images by train:val:test = .64:.16:.2\n",
    "import shutil\n",
    "import os\n",
    "import random\n",
    "random.seed(31415)\n",
    "%cd train_images\n",
    "\n",
    "TEST_DIRECTORY = \"../Datasets/test\"\n",
    "TRAIN_DIRECTORY = \"../Datasets/train\"\n",
    "VAL_DIRECTORY = \"../Datasets/val\"\n",
    "\n",
    "for dir in os.listdir():\n",
    "  # print(dir)\n",
    "  for image in os.listdir(dir):\n",
    "    annot = df_train.loc[df_train['image_id']==f'{dir[-1]}-{image[:-4]}', 'annotations'].iloc[0]\n",
    "    if annot != '[]':\n",
    "      random_key = random.random()\n",
    "      if random_key < 0.64:\n",
    "        random_folder = TRAIN_DIRECTORY\n",
    "      elif random_key < 0.8:\n",
    "        random_folder = VAL_DIRECTORY\n",
    "      else:\n",
    "        random_folder = TEST_DIRECTORY\n",
    "      shutil.move(f'{dir}/{image}', f\"../Datasets/{random_folder}/images/{dir[-1]}-{image}\")\n",
    "\n",
    "      # might add label as well while in iteration\n",
    "      # as YOLO format [{xywh},{},...]\n",
    "      f = open(f\"../Datasets/{random_folder}/labels/{dir[-1]}-{image[:-4]}.txt\", 'w')\n",
    "      f.write(annotation2YoloFormat(annot))\n",
    "      f.close()\n",
    "\n",
    "%cd ..\n",
    "!rm -rf train_images/\n",
    "\"\"\""
   ]
  },
  {
   "cell_type": "code",
   "execution_count": 9,
   "id": "1e2d3feb",
   "metadata": {
    "execution": {
     "iopub.execute_input": "2022-02-05T07:54:58.407783Z",
     "iopub.status.busy": "2022-02-05T07:54:58.407115Z",
     "iopub.status.idle": "2022-02-05T07:54:58.411836Z",
     "shell.execute_reply": "2022-02-05T07:54:58.412404Z",
     "shell.execute_reply.started": "2022-02-05T07:53:44.673569Z"
    },
    "id": "wbvMlHd_QwMG",
    "outputId": "50453b58-4b1e-4f75-9895-20f78a36a203",
    "papermill": {
     "duration": 0.02303,
     "end_time": "2022-02-05T07:54:58.412581",
     "exception": false,
     "start_time": "2022-02-05T07:54:58.389551",
     "status": "completed"
    },
    "tags": []
   },
   "outputs": [
    {
     "data": {
      "text/plain": [
       "'\\n#!git clone https://github.com/ultralytics/yolov5  # clone\\n%cd yolov5\\n%pip install -r requirements.txt  # install\\n\\nimport torch\\nfrom yolov5 import utils\\n# display = utils.notebook_init()  # checks\\n'"
      ]
     },
     "execution_count": 9,
     "metadata": {},
     "output_type": "execute_result"
    }
   ],
   "source": [
    "\"\"\"\n",
    "#!git clone https://github.com/ultralytics/yolov5  # clone\n",
    "%cd yolov5\n",
    "%pip install -r requirements.txt  # install\n",
    "\n",
    "import torch\n",
    "from yolov5 import utils\n",
    "# display = utils.notebook_init()  # checks\n",
    "\"\"\""
   ]
  },
  {
   "cell_type": "markdown",
   "id": "74ea1af5",
   "metadata": {
    "id": "W4SnuptqeYiA",
    "papermill": {
     "duration": 0.014984,
     "end_time": "2022-02-05T07:54:58.443894",
     "exception": false,
     "start_time": "2022-02-05T07:54:58.428910",
     "status": "completed"
    },
    "tags": []
   },
   "source": [
    "# Under /content/yolov5"
   ]
  },
  {
   "cell_type": "code",
   "execution_count": 10,
   "id": "19cf6453",
   "metadata": {
    "execution": {
     "iopub.execute_input": "2022-02-05T07:54:58.477202Z",
     "iopub.status.busy": "2022-02-05T07:54:58.476576Z",
     "iopub.status.idle": "2022-02-05T07:54:58.480940Z",
     "shell.execute_reply": "2022-02-05T07:54:58.481519Z",
     "shell.execute_reply.started": "2022-02-05T07:53:44.689991Z"
    },
    "id": "KUO-ZP2gLdpT",
    "outputId": "627b7e3a-7c82-4c2e-a5e3-f48b94f66ee2",
    "papermill": {
     "duration": 0.022755,
     "end_time": "2022-02-05T07:54:58.481688",
     "exception": false,
     "start_time": "2022-02-05T07:54:58.458933",
     "status": "completed"
    },
    "tags": []
   },
   "outputs": [
    {
     "data": {
      "text/plain": [
       "'\\n# create yaml file and save to /data (your at /content/yolov5)\\n# https://drive.google.com/file/d/1BBrQ5_1urHvJdYOmYPR-HalMeF9dnK37/view?usp=sharing\\n!gdown --id 1BBrQ5_1urHvJdYOmYPR-HalMeF9dnK37 -O /content/yolov5/data/GBR.yaml\\n'"
      ]
     },
     "execution_count": 10,
     "metadata": {},
     "output_type": "execute_result"
    }
   ],
   "source": [
    "\"\"\"\n",
    "# create yaml file and save to /data (your at /content/yolov5)\n",
    "# https://drive.google.com/file/d/1BBrQ5_1urHvJdYOmYPR-HalMeF9dnK37/view?usp=sharing\n",
    "!gdown --id 1BBrQ5_1urHvJdYOmYPR-HalMeF9dnK37 -O /content/yolov5/data/GBR.yaml\n",
    "\"\"\""
   ]
  },
  {
   "cell_type": "code",
   "execution_count": 11,
   "id": "8c02a821",
   "metadata": {
    "execution": {
     "iopub.execute_input": "2022-02-05T07:54:58.517480Z",
     "iopub.status.busy": "2022-02-05T07:54:58.516821Z",
     "iopub.status.idle": "2022-02-05T07:54:58.519792Z",
     "shell.execute_reply": "2022-02-05T07:54:58.520303Z",
     "shell.execute_reply.started": "2022-02-05T07:53:44.699597Z"
    },
    "id": "k47ZnEx4L8hF",
    "papermill": {
     "duration": 0.022429,
     "end_time": "2022-02-05T07:54:58.520476",
     "exception": false,
     "start_time": "2022-02-05T07:54:58.498047",
     "status": "completed"
    },
    "tags": []
   },
   "outputs": [],
   "source": [
    "# Train YOLOv5s on COCO128 for 3 epochs\n",
    "# --img : image size (size,size)\n",
    "# --batch : batch size\n",
    "# --epochs : epochs\n",
    "# --data : .yaml file name\n",
    "# --weights : pretrained weights ('' --cfg yolov5s.yaml if from scratch)\n",
    "# !python train.py --img 720 --batch 20 --epochs 12 --data GBR.yaml --weights yolov5m.pt"
   ]
  },
  {
   "cell_type": "markdown",
   "id": "7f0c07a0",
   "metadata": {
    "id": "Q_KfojRcfSUP",
    "papermill": {
     "duration": 0.016328,
     "end_time": "2022-02-05T07:54:58.552355",
     "exception": false,
     "start_time": "2022-02-05T07:54:58.536027",
     "status": "completed"
    },
    "tags": []
   },
   "source": [
    "# Visualization"
   ]
  },
  {
   "cell_type": "code",
   "execution_count": 12,
   "id": "42fec1e7",
   "metadata": {
    "execution": {
     "iopub.execute_input": "2022-02-05T07:54:58.588419Z",
     "iopub.status.busy": "2022-02-05T07:54:58.587756Z",
     "iopub.status.idle": "2022-02-05T07:54:58.591895Z",
     "shell.execute_reply": "2022-02-05T07:54:58.592457Z",
     "shell.execute_reply.started": "2022-02-05T07:53:44.709572Z"
    },
    "id": "q2PShNdCSrMV",
    "papermill": {
     "duration": 0.023709,
     "end_time": "2022-02-05T07:54:58.592631",
     "exception": false,
     "start_time": "2022-02-05T07:54:58.568922",
     "status": "completed"
    },
    "tags": []
   },
   "outputs": [
    {
     "data": {
      "text/plain": [
       "'\\n%cd /content/yolov5\\n!python detect.py --img 640 --source ../Datasets/test/images --weights runs/train/exp2/weights/best.pt --data data/GBR.yaml --nosave --save-txt --save-conf --conf-thres 0.01 --iou-thres 0.3 --max-det 100\\n'"
      ]
     },
     "execution_count": 12,
     "metadata": {},
     "output_type": "execute_result"
    }
   ],
   "source": [
    "\"\"\"\n",
    "%cd /content/yolov5\n",
    "!python detect.py --img 640\\\n",
    " --source ../Datasets/test/images\\\n",
    " --weights runs/train/exp2/weights/best.pt\\\n",
    " --data data/GBR.yaml\\\n",
    " --nosave\\\n",
    " --save-txt\\\n",
    " --save-conf\\\n",
    " --conf-thres 0.01\\\n",
    " --iou-thres 0.3\\\n",
    " --max-det 100\n",
    "\"\"\""
   ]
  },
  {
   "cell_type": "code",
   "execution_count": 13,
   "id": "2c2cb5ff",
   "metadata": {
    "execution": {
     "iopub.execute_input": "2022-02-05T07:54:58.629355Z",
     "iopub.status.busy": "2022-02-05T07:54:58.628707Z",
     "iopub.status.idle": "2022-02-05T07:54:58.632922Z",
     "shell.execute_reply": "2022-02-05T07:54:58.633512Z",
     "shell.execute_reply.started": "2022-02-05T07:53:44.723234Z"
    },
    "id": "xKNDhrelf9YI",
    "papermill": {
     "duration": 0.02468,
     "end_time": "2022-02-05T07:54:58.633689",
     "exception": false,
     "start_time": "2022-02-05T07:54:58.609009",
     "status": "completed"
    },
    "tags": []
   },
   "outputs": [
    {
     "data": {
      "text/plain": [
       "'\\n%cd /content/yolov5/runs/detect/exp2/labels\\n!zip /content/exp_pred_labels.zip *.txt\\n%cd /content/Datasets/test/labels\\n!zip /content/exp_true_labels.zip *.txt\\n%cd /content\\n'"
      ]
     },
     "execution_count": 13,
     "metadata": {},
     "output_type": "execute_result"
    }
   ],
   "source": [
    "\"\"\"\n",
    "%cd /content/yolov5/runs/detect/exp2/labels\n",
    "!zip /content/exp_pred_labels.zip *.txt\n",
    "%cd /content/Datasets/test/labels\n",
    "!zip /content/exp_true_labels.zip *.txt\n",
    "%cd /content\n",
    "\"\"\""
   ]
  },
  {
   "cell_type": "code",
   "execution_count": 14,
   "id": "02b5c027",
   "metadata": {
    "execution": {
     "iopub.execute_input": "2022-02-05T07:54:58.668783Z",
     "iopub.status.busy": "2022-02-05T07:54:58.668216Z",
     "iopub.status.idle": "2022-02-05T07:54:58.672386Z",
     "shell.execute_reply": "2022-02-05T07:54:58.672900Z",
     "shell.execute_reply.started": "2022-02-05T07:53:44.739671Z"
    },
    "id": "zbmSxR7vPdf9",
    "papermill": {
     "duration": 0.023095,
     "end_time": "2022-02-05T07:54:58.673069",
     "exception": false,
     "start_time": "2022-02-05T07:54:58.649974",
     "status": "completed"
    },
    "tags": []
   },
   "outputs": [
    {
     "data": {
      "text/plain": [
       "\"\\n%cd /content/yolov5\\n# visualize\\nfrom utils.plots import plot_results \\nplot_results('./runs/train/exp2/results.csv')  # plot 'results.csv' as 'results.png'\\n\""
      ]
     },
     "execution_count": 14,
     "metadata": {},
     "output_type": "execute_result"
    }
   ],
   "source": [
    "\"\"\"\n",
    "%cd /content/yolov5\n",
    "# visualize\n",
    "from utils.plots import plot_results \n",
    "plot_results('./runs/train/exp2/results.csv')  # plot 'results.csv' as 'results.png'\n",
    "\"\"\""
   ]
  },
  {
   "cell_type": "code",
   "execution_count": 15,
   "id": "8f812716",
   "metadata": {
    "execution": {
     "iopub.execute_input": "2022-02-05T07:54:58.708415Z",
     "iopub.status.busy": "2022-02-05T07:54:58.707826Z",
     "iopub.status.idle": "2022-02-05T07:54:58.711824Z",
     "shell.execute_reply": "2022-02-05T07:54:58.712355Z",
     "shell.execute_reply.started": "2022-02-05T07:53:44.750491Z"
    },
    "id": "nEbL6eJre3PK",
    "outputId": "cca9b36c-c7e2-4698-ecd6-fdf7757b72e5",
    "papermill": {
     "duration": 0.023361,
     "end_time": "2022-02-05T07:54:58.712515",
     "exception": false,
     "start_time": "2022-02-05T07:54:58.689154",
     "status": "completed"
    },
    "tags": []
   },
   "outputs": [
    {
     "data": {
      "text/plain": [
       "\"\\nimport cv2\\nfrom google.colab.patches import cv2_imshow\\ncv2_imshow(cv2.imread('./runs/train/exp2/results.png'))\\n\""
      ]
     },
     "execution_count": 15,
     "metadata": {},
     "output_type": "execute_result"
    }
   ],
   "source": [
    "\"\"\"\n",
    "import cv2\n",
    "from google.colab.patches import cv2_imshow\n",
    "cv2_imshow(cv2.imread('./runs/train/exp2/results.png'))\n",
    "\"\"\""
   ]
  },
  {
   "cell_type": "markdown",
   "id": "56c6a3cd",
   "metadata": {
    "id": "0_cqT7bKx25g",
    "papermill": {
     "duration": 0.016253,
     "end_time": "2022-02-05T07:54:58.745334",
     "exception": false,
     "start_time": "2022-02-05T07:54:58.729081",
     "status": "completed"
    },
    "tags": []
   },
   "source": [
    "# Submit"
   ]
  },
  {
   "cell_type": "code",
   "execution_count": 16,
   "id": "7dfc39a9",
   "metadata": {
    "execution": {
     "iopub.execute_input": "2022-02-05T07:54:58.781339Z",
     "iopub.status.busy": "2022-02-05T07:54:58.780752Z",
     "iopub.status.idle": "2022-02-05T07:54:58.785202Z",
     "shell.execute_reply": "2022-02-05T07:54:58.785664Z",
     "shell.execute_reply.started": "2022-02-05T07:53:44.762869Z"
    },
    "id": "nAKkcSqpxwIH",
    "outputId": "1db0f795-4efb-4cb0-a309-e53e02507a3e",
    "papermill": {
     "duration": 0.02403,
     "end_time": "2022-02-05T07:54:58.785832",
     "exception": false,
     "start_time": "2022-02-05T07:54:58.761802",
     "status": "completed"
    },
    "tags": []
   },
   "outputs": [
    {
     "data": {
      "text/plain": [
       "'\\n# https://drive.google.com/file/d/1Koc5DW5obyZ5blVzdP5EHeaFDfmUNkE0/view?usp=sharing\\n# save custom detect.py to /content/yolov5/detect2.py\\n!gdown --id 1Koc5DW5obyZ5blVzdP5EHeaFDfmUNkE0 -O /content/yolov5/detect2.py\\n\\n# https://drive.google.com/file/d/1JMNnFYJOgKZTA1a0RGBMbRO2EFouZU4K/view?usp=sharing\\n# save custom datasets.py to /content/yolov5/utils/datasets.py\\n!gdown --id 1JMNnFYJOgKZTA1a0RGBMbRO2EFouZU4K -O /content/yolov5/utils/datasets.py\\n'"
      ]
     },
     "execution_count": 16,
     "metadata": {},
     "output_type": "execute_result"
    }
   ],
   "source": [
    "\"\"\"\n",
    "# https://drive.google.com/file/d/1Koc5DW5obyZ5blVzdP5EHeaFDfmUNkE0/view?usp=sharing\n",
    "# save custom detect.py to /content/yolov5/detect2.py\n",
    "!gdown --id 1Koc5DW5obyZ5blVzdP5EHeaFDfmUNkE0 -O /content/yolov5/detect2.py\n",
    "\n",
    "# https://drive.google.com/file/d/1JMNnFYJOgKZTA1a0RGBMbRO2EFouZU4K/view?usp=sharing\n",
    "# save custom datasets.py to /content/yolov5/utils/datasets.py\n",
    "!gdown --id 1JMNnFYJOgKZTA1a0RGBMbRO2EFouZU4K -O /content/yolov5/utils/datasets.py\n",
    "\"\"\""
   ]
  },
  {
   "cell_type": "code",
   "execution_count": 17,
   "id": "1902d5ba",
   "metadata": {
    "execution": {
     "iopub.execute_input": "2022-02-05T07:54:58.822373Z",
     "iopub.status.busy": "2022-02-05T07:54:58.821749Z",
     "iopub.status.idle": "2022-02-05T07:54:58.826645Z",
     "shell.execute_reply": "2022-02-05T07:54:58.827033Z",
     "shell.execute_reply.started": "2022-02-05T07:53:44.774000Z"
    },
    "papermill": {
     "duration": 0.02471,
     "end_time": "2022-02-05T07:54:58.827225",
     "exception": false,
     "start_time": "2022-02-05T07:54:58.802515",
     "status": "completed"
    },
    "tags": []
   },
   "outputs": [
    {
     "name": "stdout",
     "output_type": "stream",
     "text": [
      "[Errno 2] No such file or directory: './working'\n",
      "/kaggle/working\n"
     ]
    }
   ],
   "source": [
    "%cd ./working"
   ]
  },
  {
   "cell_type": "code",
   "execution_count": 18,
   "id": "51ddf25d",
   "metadata": {
    "execution": {
     "iopub.execute_input": "2022-02-05T07:54:58.866669Z",
     "iopub.status.busy": "2022-02-05T07:54:58.865638Z",
     "iopub.status.idle": "2022-02-05T07:55:05.849558Z",
     "shell.execute_reply": "2022-02-05T07:55:05.848872Z",
     "shell.execute_reply.started": "2022-02-05T07:53:44.784527Z"
    },
    "id": "vR49Yu5bbkOO",
    "outputId": "42db54c0-eb3f-4267-e888-d9d9ede498c5",
    "papermill": {
     "duration": 7.005346,
     "end_time": "2022-02-05T07:55:05.849696",
     "exception": false,
     "start_time": "2022-02-05T07:54:58.844350",
     "status": "completed"
    },
    "tags": []
   },
   "outputs": [
    {
     "name": "stdout",
     "output_type": "stream",
     "text": [
      "/kaggle/input/yologithubrepoandsomecustom\n"
     ]
    },
    {
     "name": "stderr",
     "output_type": "stream",
     "text": [
      "Downloading https://ultralytics.com/assets/Arial.ttf to /root/.config/Ultralytics/Arial.ttf...\n"
     ]
    },
    {
     "name": "stdout",
     "output_type": "stream",
     "text": [
      "/kaggle/working\n",
      "__notebook__.ipynb\r\n"
     ]
    },
    {
     "name": "stderr",
     "output_type": "stream",
     "text": [
      "YOLOv5 🚀 v6.0-235-ge1a6a0b torch 1.9.1+cpu CPU\n",
      "\n",
      "Fusing layers... \n",
      "Model Summary: 290 layers, 20852934 parameters, 0 gradients\n",
      "WARNING: --img-size (640, 640) must be multiple of max stride 32, updating to [640, 640]\n"
     ]
    },
    {
     "name": "stdout",
     "output_type": "stream",
     "text": [
      "This version of the API is not optimized and should not be used to estimate the runtime of your code on the hidden test set.\n"
     ]
    }
   ],
   "source": [
    "# something like this...?\n",
    "import greatbarrierreef\n",
    "%cd ../input/yologithubrepoandsomecustom\n",
    "from yolov5.detect2 import run as detect2run\n",
    "%cd ../../working\n",
    "%ls\n",
    "\n",
    "detect2run(\n",
    "    weights='../input/yologithubrepoandsomecustom/yolov5/weights/best.pt',\n",
    "    data='../input/yologithubrepoandsomecustom/yolov5/data/GBR.yaml',\n",
    "    env=greatbarrierreef.make_env(),\n",
    "    conf_thres=0.01,\n",
    "    iou_thres=0.3,\n",
    "    max_det=100\n",
    ")"
   ]
  }
 ],
 "metadata": {
  "kernelspec": {
   "display_name": "Python 3",
   "language": "python",
   "name": "python3"
  },
  "language_info": {
   "codemirror_mode": {
    "name": "ipython",
    "version": 3
   },
   "file_extension": ".py",
   "mimetype": "text/x-python",
   "name": "python",
   "nbconvert_exporter": "python",
   "pygments_lexer": "ipython3",
   "version": "3.7.12"
  },
  "papermill": {
   "default_parameters": {},
   "duration": 17.440937,
   "end_time": "2022-02-05T07:55:06.780376",
   "environment_variables": {},
   "exception": null,
   "input_path": "__notebook__.ipynb",
   "output_path": "__notebook__.ipynb",
   "parameters": {},
   "start_time": "2022-02-05T07:54:49.339439",
   "version": "2.3.3"
  }
 },
 "nbformat": 4,
 "nbformat_minor": 5
}
