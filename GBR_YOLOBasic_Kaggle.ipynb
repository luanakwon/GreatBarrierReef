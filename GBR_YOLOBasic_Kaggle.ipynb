{
 "cells": [
  {
   "cell_type": "markdown",
   "id": "b69940ed",
   "metadata": {
    "id": "view-in-github",
    "papermill": {
     "duration": 0.026439,
     "end_time": "2022-02-08T07:52:13.870941",
     "exception": false,
     "start_time": "2022-02-08T07:52:13.844502",
     "status": "completed"
    },
    "tags": []
   },
   "source": [
    "<a href=\"https://colab.research.google.com/github/luanakwon/GreatBarrierReef/blob/main/GBR_YOLOBasic.ipynb\" target=\"_parent\"><img src=\"https://colab.research.google.com/assets/colab-badge.svg\" alt=\"Open In Colab\"/></a>"
   ]
  },
  {
   "cell_type": "markdown",
   "id": "f937e496",
   "metadata": {
    "id": "Atikzzc0fL2v",
    "papermill": {
     "duration": 0.018452,
     "end_time": "2022-02-08T07:52:13.910329",
     "exception": false,
     "start_time": "2022-02-08T07:52:13.891877",
     "status": "completed"
    },
    "tags": []
   },
   "source": [
    "# Download dataset from kaggle api\n",
    "kaggle  \n",
    "https://www.kaggle.com/c/tensorflow-great-barrier-reef/data  \n",
    "\n",
    "kaggle API usage  \n",
    "https://colab.research.google.com/github/corrieann/kaggle/blob/master/kaggle_api_in_colab.ipynb"
   ]
  },
  {
   "cell_type": "code",
   "execution_count": 1,
   "id": "160f9972",
   "metadata": {
    "execution": {
     "iopub.execute_input": "2022-02-08T07:52:13.953987Z",
     "iopub.status.busy": "2022-02-08T07:52:13.952618Z",
     "iopub.status.idle": "2022-02-08T07:52:13.955661Z",
     "shell.execute_reply": "2022-02-08T07:52:13.956074Z",
     "shell.execute_reply.started": "2022-02-08T07:50:12.090359Z"
    },
    "id": "n-JPBh1fETGF",
    "outputId": "4f1205dc-f60f-4353-f9d6-e9ca749934dd",
    "papermill": {
     "duration": 0.027264,
     "end_time": "2022-02-08T07:52:13.956294",
     "exception": false,
     "start_time": "2022-02-08T07:52:13.929030",
     "status": "completed"
    },
    "tags": []
   },
   "outputs": [],
   "source": [
    "# !pip install kaggle\n",
    "# !pip install --upgrade --force-reinstall --no-deps kaggle"
   ]
  },
  {
   "cell_type": "code",
   "execution_count": 2,
   "id": "92bbcdaf",
   "metadata": {
    "execution": {
     "iopub.execute_input": "2022-02-08T07:52:13.997732Z",
     "iopub.status.busy": "2022-02-08T07:52:13.997044Z",
     "iopub.status.idle": "2022-02-08T07:52:13.999709Z",
     "shell.execute_reply": "2022-02-08T07:52:13.999251Z",
     "shell.execute_reply.started": "2022-02-08T07:50:12.113840Z"
    },
    "id": "Z27ke3uEchVJ",
    "outputId": "1bc4d761-0381-495e-e513-3774c3679ee6",
    "papermill": {
     "duration": 0.02454,
     "end_time": "2022-02-08T07:52:13.999811",
     "exception": false,
     "start_time": "2022-02-08T07:52:13.975271",
     "status": "completed"
    },
    "tags": []
   },
   "outputs": [],
   "source": [
    "# from google.colab import files\n",
    "# \n",
    "# uploaded = files.upload()\n",
    "# \n",
    "# for fn in uploaded.keys():\n",
    "#   print('User uploaded file \"{name}\" with length {length} bytes'.format(\n",
    "#       name=fn, length=len(uploaded[fn])))\n",
    "#   \n",
    "# Then move kaggle.json into the folder where the API expects to find it.\n",
    "# !mkdir -p ~/.kaggle/ && mv kaggle.json ~/.kaggle/ && chmod 600 ~/.kaggle/kaggle.json"
   ]
  },
  {
   "cell_type": "code",
   "execution_count": 3,
   "id": "b0763c1f",
   "metadata": {
    "execution": {
     "iopub.execute_input": "2022-02-08T07:52:14.068613Z",
     "iopub.status.busy": "2022-02-08T07:52:14.067759Z",
     "iopub.status.idle": "2022-02-08T07:52:14.072091Z",
     "shell.execute_reply": "2022-02-08T07:52:14.072807Z",
     "shell.execute_reply.started": "2022-02-08T07:50:12.121979Z"
    },
    "id": "6JXwYXTxc8D4",
    "outputId": "ffa59142-86e1-4c2d-e270-fdacce817b9a",
    "papermill": {
     "duration": 0.046252,
     "end_time": "2022-02-08T07:52:14.073051",
     "exception": false,
     "start_time": "2022-02-08T07:52:14.026799",
     "status": "completed"
    },
    "tags": []
   },
   "outputs": [],
   "source": [
    "# !kaggle competitions download -c tensorflow-great-barrier-reef"
   ]
  },
  {
   "cell_type": "code",
   "execution_count": 4,
   "id": "5d8b8f21",
   "metadata": {
    "execution": {
     "iopub.execute_input": "2022-02-08T07:52:14.131072Z",
     "iopub.status.busy": "2022-02-08T07:52:14.130292Z",
     "iopub.status.idle": "2022-02-08T07:52:14.132101Z",
     "shell.execute_reply": "2022-02-08T07:52:14.132697Z",
     "shell.execute_reply.started": "2022-02-08T07:50:12.136061Z"
    },
    "id": "D18RwmYWwO84",
    "papermill": {
     "duration": 0.030607,
     "end_time": "2022-02-08T07:52:14.132841",
     "exception": false,
     "start_time": "2022-02-08T07:52:14.102234",
     "status": "completed"
    },
    "tags": []
   },
   "outputs": [],
   "source": [
    "# !unzip -q /content/tensorflow-great-barrier-reef.zip "
   ]
  },
  {
   "cell_type": "markdown",
   "id": "54f5e683",
   "metadata": {
    "id": "woh5Odk0V7lU",
    "papermill": {
     "duration": 0.018511,
     "end_time": "2022-02-08T07:52:14.169841",
     "exception": false,
     "start_time": "2022-02-08T07:52:14.151330",
     "status": "completed"
    },
    "tags": []
   },
   "source": [
    "# Session 1\n",
    "---\n",
    "Useful links  \n",
    "- [YOLOv5 - Train Custom Data github](https://github.com/ultralytics/yolov5/wiki/Train-Custom-Data)  \n"
   ]
  },
  {
   "cell_type": "code",
   "execution_count": 5,
   "id": "8ac75713",
   "metadata": {
    "execution": {
     "iopub.execute_input": "2022-02-08T07:52:14.217662Z",
     "iopub.status.busy": "2022-02-08T07:52:14.216980Z",
     "iopub.status.idle": "2022-02-08T07:52:14.220167Z",
     "shell.execute_reply": "2022-02-08T07:52:14.220581Z",
     "shell.execute_reply.started": "2022-02-08T07:50:12.147724Z"
    },
    "id": "acWPF0FJFpZ9",
    "papermill": {
     "duration": 0.032124,
     "end_time": "2022-02-08T07:52:14.220700",
     "exception": false,
     "start_time": "2022-02-08T07:52:14.188576",
     "status": "completed"
    },
    "tags": []
   },
   "outputs": [
    {
     "data": {
      "text/plain": [
       "\"\\n# create hierarchy\\nimport os\\n\\nfor f1 in 'train', 'val', 'test':\\n  for f2 in 'images', 'labels':\\n    os.makedirs(f'/content/Datasets/{f1}/{f2}')\\n    \\n\""
      ]
     },
     "execution_count": 5,
     "metadata": {},
     "output_type": "execute_result"
    }
   ],
   "source": [
    "\"\"\"\n",
    "# create hierarchy\n",
    "import os\n",
    "\n",
    "for f1 in 'train', 'val', 'test':\n",
    "  for f2 in 'images', 'labels':\n",
    "    os.makedirs(f'/content/Datasets/{f1}/{f2}')\n",
    "    \n",
    "\"\"\""
   ]
  },
  {
   "cell_type": "code",
   "execution_count": 6,
   "id": "924f5286",
   "metadata": {
    "execution": {
     "iopub.execute_input": "2022-02-08T07:52:14.263990Z",
     "iopub.status.busy": "2022-02-08T07:52:14.262822Z",
     "iopub.status.idle": "2022-02-08T07:52:14.275472Z",
     "shell.execute_reply": "2022-02-08T07:52:14.276142Z",
     "shell.execute_reply.started": "2022-02-08T07:50:12.164675Z"
    },
    "id": "rTz8Sn-rBrRs",
    "papermill": {
     "duration": 0.035196,
     "end_time": "2022-02-08T07:52:14.276353",
     "exception": false,
     "start_time": "2022-02-08T07:52:14.241157",
     "status": "completed"
    },
    "tags": []
   },
   "outputs": [
    {
     "data": {
      "text/plain": [
       "\"\\n# get train.csv\\nimport pandas as pd\\n\\ndf_train = pd.read_csv('train.csv')\\ndf_test = pd.read_csv('test.csv')\\ndf_train\\n\""
      ]
     },
     "execution_count": 6,
     "metadata": {},
     "output_type": "execute_result"
    }
   ],
   "source": [
    "\"\"\"\n",
    "# get train.csv\n",
    "import pandas as pd\n",
    "\n",
    "df_train = pd.read_csv('train.csv')\n",
    "df_test = pd.read_csv('test.csv')\n",
    "df_train\n",
    "\"\"\""
   ]
  },
  {
   "cell_type": "code",
   "execution_count": 7,
   "id": "78ba0b90",
   "metadata": {
    "execution": {
     "iopub.execute_input": "2022-02-08T07:52:14.352236Z",
     "iopub.status.busy": "2022-02-08T07:52:14.351168Z",
     "iopub.status.idle": "2022-02-08T07:52:14.355026Z",
     "shell.execute_reply": "2022-02-08T07:52:14.353160Z",
     "shell.execute_reply.started": "2022-02-08T07:50:12.179955Z"
    },
    "id": "baUKP2WntbEV",
    "papermill": {
     "duration": 0.042985,
     "end_time": "2022-02-08T07:52:14.355170",
     "exception": false,
     "start_time": "2022-02-08T07:52:14.312185",
     "status": "completed"
    },
    "tags": []
   },
   "outputs": [
    {
     "data": {
      "text/plain": [
       "'\\ndef annotation2YoloFormat(_annotation, width=1280, height=720):\\n  out = \\'\\'\\n  if isinstance(_annotation,str):\\n    a = _annotation\\n    while True:\\n      ix = a.find(\"\\'x\\': \")\\n      iy = a.find(\"\\'y\\': \")\\n      iw = a.find(\"\\'width\\': \")\\n      ih = a.find(\"\\'height\\': \")\\n      \\n      if ix < 0 or iy < 0 or iw < 0 or ih < 0:\\n        break\\n\\n      x = float(a[ix + len(\"\\'x\\': \"):a.find(\", \\'y\")])/width\\n      y = float(a[iy + len(\"\\'y\\': \"):a.find(\", \\'w\")])/height\\n      w = float(a[iw + len(\"\\'width\\': \"):a.find(\", \\'h\")])/width\\n      h = float(a[ih + len(\"\\'height\\': \"):a.find(\\'}\\')])/height\\n      \\n      \\n      out += \\'0 %.6f %.6f %.6f %.6f\\n\\'%(x+w/2, y+h/2, w, h)\\n      a = a[a.find(\\'}\\')+1:]\\n    \\n    out = out[:-1]\\n  return out\\n  '"
      ]
     },
     "execution_count": 7,
     "metadata": {},
     "output_type": "execute_result"
    }
   ],
   "source": [
    "\"\"\"\n",
    "def annotation2YoloFormat(_annotation, width=1280, height=720):\n",
    "  out = ''\n",
    "  if isinstance(_annotation,str):\n",
    "    a = _annotation\n",
    "    while True:\n",
    "      ix = a.find(\"'x': \")\n",
    "      iy = a.find(\"'y': \")\n",
    "      iw = a.find(\"'width': \")\n",
    "      ih = a.find(\"'height': \")\n",
    "      \n",
    "      if ix < 0 or iy < 0 or iw < 0 or ih < 0:\n",
    "        break\n",
    "\n",
    "      x = float(a[ix + len(\"'x': \"):a.find(\", 'y\")])/width\n",
    "      y = float(a[iy + len(\"'y': \"):a.find(\", 'w\")])/height\n",
    "      w = float(a[iw + len(\"'width': \"):a.find(\", 'h\")])/width\n",
    "      h = float(a[ih + len(\"'height': \"):a.find('}')])/height\n",
    "      \n",
    "      \n",
    "      out += '0 %.6f %.6f %.6f %.6f\\n'%(x+w/2, y+h/2, w, h)\n",
    "      a = a[a.find('}')+1:]\n",
    "    \n",
    "    out = out[:-1]\n",
    "  return out\n",
    "  \"\"\""
   ]
  },
  {
   "cell_type": "code",
   "execution_count": 8,
   "id": "799cf144",
   "metadata": {
    "execution": {
     "iopub.execute_input": "2022-02-08T07:52:14.406958Z",
     "iopub.status.busy": "2022-02-08T07:52:14.405983Z",
     "iopub.status.idle": "2022-02-08T07:52:14.410192Z",
     "shell.execute_reply": "2022-02-08T07:52:14.409731Z",
     "shell.execute_reply.started": "2022-02-08T07:50:12.194883Z"
    },
    "id": "uqxZ_4iaW1Gg",
    "outputId": "93498d40-98f2-49b3-b333-23e792e581c4",
    "papermill": {
     "duration": 0.031546,
     "end_time": "2022-02-08T07:52:14.410334",
     "exception": false,
     "start_time": "2022-02-08T07:52:14.378788",
     "status": "completed"
    },
    "tags": []
   },
   "outputs": [
    {
     "data": {
      "text/plain": [
       "'\\n# read images from /content/train_images\\n# change name\\n# save the image to train | val | test. ratio = 0.64 : 0.16 : 0.2\\n# create corresponding txt file and save\\n\\n# change image name to image id\\n# split images by train:val:test = .64:.16:.2\\nimport shutil\\nimport os\\nimport random\\nrandom.seed(31415)\\n%cd train_images\\n\\nTEST_DIRECTORY = \"../Datasets/test\"\\nTRAIN_DIRECTORY = \"../Datasets/train\"\\nVAL_DIRECTORY = \"../Datasets/val\"\\n\\nfor dir in os.listdir():\\n  # print(dir)\\n  for image in os.listdir(dir):\\n    annot = df_train.loc[df_train[\\'image_id\\']==f\\'{dir[-1]}-{image[:-4]}\\', \\'annotations\\'].iloc[0]\\n    if annot != \\'[]\\':\\n      random_key = random.random()\\n      if random_key < 0.64:\\n        random_folder = TRAIN_DIRECTORY\\n      elif random_key < 0.8:\\n        random_folder = VAL_DIRECTORY\\n      else:\\n        random_folder = TEST_DIRECTORY\\n      shutil.move(f\\'{dir}/{image}\\', f\"../Datasets/{random_folder}/images/{dir[-1]}-{image}\")\\n\\n      # might add label as well while in iteration\\n      # as YOLO format [{xywh},{},...]\\n      f = open(f\"../Datasets/{random_folder}/labels/{dir[-1]}-{image[:-4]}.txt\", \\'w\\')\\n      f.write(annotation2YoloFormat(annot))\\n      f.close()\\n\\n%cd ..\\n!rm -rf train_images/\\n'"
      ]
     },
     "execution_count": 8,
     "metadata": {},
     "output_type": "execute_result"
    }
   ],
   "source": [
    "\"\"\"\n",
    "# read images from /content/train_images\n",
    "# change name\n",
    "# save the image to train | val | test. ratio = 0.64 : 0.16 : 0.2\n",
    "# create corresponding txt file and save\n",
    "\n",
    "# change image name to image id\n",
    "# split images by train:val:test = .64:.16:.2\n",
    "import shutil\n",
    "import os\n",
    "import random\n",
    "random.seed(31415)\n",
    "%cd train_images\n",
    "\n",
    "TEST_DIRECTORY = \"../Datasets/test\"\n",
    "TRAIN_DIRECTORY = \"../Datasets/train\"\n",
    "VAL_DIRECTORY = \"../Datasets/val\"\n",
    "\n",
    "for dir in os.listdir():\n",
    "  # print(dir)\n",
    "  for image in os.listdir(dir):\n",
    "    annot = df_train.loc[df_train['image_id']==f'{dir[-1]}-{image[:-4]}', 'annotations'].iloc[0]\n",
    "    if annot != '[]':\n",
    "      random_key = random.random()\n",
    "      if random_key < 0.64:\n",
    "        random_folder = TRAIN_DIRECTORY\n",
    "      elif random_key < 0.8:\n",
    "        random_folder = VAL_DIRECTORY\n",
    "      else:\n",
    "        random_folder = TEST_DIRECTORY\n",
    "      shutil.move(f'{dir}/{image}', f\"../Datasets/{random_folder}/images/{dir[-1]}-{image}\")\n",
    "\n",
    "      # might add label as well while in iteration\n",
    "      # as YOLO format [{xywh},{},...]\n",
    "      f = open(f\"../Datasets/{random_folder}/labels/{dir[-1]}-{image[:-4]}.txt\", 'w')\n",
    "      f.write(annotation2YoloFormat(annot))\n",
    "      f.close()\n",
    "\n",
    "%cd ..\n",
    "!rm -rf train_images/\n",
    "\"\"\""
   ]
  },
  {
   "cell_type": "code",
   "execution_count": 9,
   "id": "d13ae5ab",
   "metadata": {
    "execution": {
     "iopub.execute_input": "2022-02-08T07:52:14.454632Z",
     "iopub.status.busy": "2022-02-08T07:52:14.453931Z",
     "iopub.status.idle": "2022-02-08T07:52:14.456528Z",
     "shell.execute_reply": "2022-02-08T07:52:14.456925Z",
     "shell.execute_reply.started": "2022-02-08T07:50:12.209806Z"
    },
    "id": "wbvMlHd_QwMG",
    "outputId": "50453b58-4b1e-4f75-9895-20f78a36a203",
    "papermill": {
     "duration": 0.026561,
     "end_time": "2022-02-08T07:52:14.457037",
     "exception": false,
     "start_time": "2022-02-08T07:52:14.430476",
     "status": "completed"
    },
    "tags": []
   },
   "outputs": [
    {
     "data": {
      "text/plain": [
       "'\\n#!git clone https://github.com/ultralytics/yolov5  # clone\\n%cd yolov5\\n%pip install -r requirements.txt  # install\\n\\nimport torch\\nfrom yolov5 import utils\\n# display = utils.notebook_init()  # checks\\n'"
      ]
     },
     "execution_count": 9,
     "metadata": {},
     "output_type": "execute_result"
    }
   ],
   "source": [
    "\"\"\"\n",
    "#!git clone https://github.com/ultralytics/yolov5  # clone\n",
    "%cd yolov5\n",
    "%pip install -r requirements.txt  # install\n",
    "\n",
    "import torch\n",
    "from yolov5 import utils\n",
    "# display = utils.notebook_init()  # checks\n",
    "\"\"\""
   ]
  },
  {
   "cell_type": "markdown",
   "id": "9bdc69b8",
   "metadata": {
    "id": "W4SnuptqeYiA",
    "papermill": {
     "duration": 0.020154,
     "end_time": "2022-02-08T07:52:14.497103",
     "exception": false,
     "start_time": "2022-02-08T07:52:14.476949",
     "status": "completed"
    },
    "tags": []
   },
   "source": [
    "# Under /content/yolov5"
   ]
  },
  {
   "cell_type": "code",
   "execution_count": 10,
   "id": "438b8f88",
   "metadata": {
    "execution": {
     "iopub.execute_input": "2022-02-08T07:52:14.541768Z",
     "iopub.status.busy": "2022-02-08T07:52:14.541150Z",
     "iopub.status.idle": "2022-02-08T07:52:14.543783Z",
     "shell.execute_reply": "2022-02-08T07:52:14.544295Z",
     "shell.execute_reply.started": "2022-02-08T07:50:12.226965Z"
    },
    "id": "KUO-ZP2gLdpT",
    "outputId": "627b7e3a-7c82-4c2e-a5e3-f48b94f66ee2",
    "papermill": {
     "duration": 0.027015,
     "end_time": "2022-02-08T07:52:14.544416",
     "exception": false,
     "start_time": "2022-02-08T07:52:14.517401",
     "status": "completed"
    },
    "tags": []
   },
   "outputs": [
    {
     "data": {
      "text/plain": [
       "'\\n# create yaml file and save to /data (your at /content/yolov5)\\n# https://drive.google.com/file/d/1BBrQ5_1urHvJdYOmYPR-HalMeF9dnK37/view?usp=sharing\\n!gdown --id 1BBrQ5_1urHvJdYOmYPR-HalMeF9dnK37 -O /content/yolov5/data/GBR.yaml\\n'"
      ]
     },
     "execution_count": 10,
     "metadata": {},
     "output_type": "execute_result"
    }
   ],
   "source": [
    "\"\"\"\n",
    "# create yaml file and save to /data (your at /content/yolov5)\n",
    "# https://drive.google.com/file/d/1BBrQ5_1urHvJdYOmYPR-HalMeF9dnK37/view?usp=sharing\n",
    "!gdown --id 1BBrQ5_1urHvJdYOmYPR-HalMeF9dnK37 -O /content/yolov5/data/GBR.yaml\n",
    "\"\"\""
   ]
  },
  {
   "cell_type": "code",
   "execution_count": 11,
   "id": "02a810bd",
   "metadata": {
    "execution": {
     "iopub.execute_input": "2022-02-08T07:52:14.589029Z",
     "iopub.status.busy": "2022-02-08T07:52:14.588255Z",
     "iopub.status.idle": "2022-02-08T07:52:14.590106Z",
     "shell.execute_reply": "2022-02-08T07:52:14.590521Z",
     "shell.execute_reply.started": "2022-02-08T07:50:12.240557Z"
    },
    "id": "k47ZnEx4L8hF",
    "papermill": {
     "duration": 0.025928,
     "end_time": "2022-02-08T07:52:14.590637",
     "exception": false,
     "start_time": "2022-02-08T07:52:14.564709",
     "status": "completed"
    },
    "tags": []
   },
   "outputs": [],
   "source": [
    "# Train YOLOv5s on COCO128 for 3 epochs\n",
    "# --img : image size (size,size)\n",
    "# --batch : batch size\n",
    "# --epochs : epochs\n",
    "# --data : .yaml file name\n",
    "# --weights : pretrained weights ('' --cfg yolov5s.yaml if from scratch)\n",
    "# !python train.py --img 720 --batch 20 --epochs 12 --data GBR.yaml --weights yolov5m.pt"
   ]
  },
  {
   "cell_type": "markdown",
   "id": "b6f2b527",
   "metadata": {
    "id": "Q_KfojRcfSUP",
    "papermill": {
     "duration": 0.020106,
     "end_time": "2022-02-08T07:52:14.630981",
     "exception": false,
     "start_time": "2022-02-08T07:52:14.610875",
     "status": "completed"
    },
    "tags": []
   },
   "source": [
    "# Visualization"
   ]
  },
  {
   "cell_type": "code",
   "execution_count": 12,
   "id": "64eda1f9",
   "metadata": {
    "execution": {
     "iopub.execute_input": "2022-02-08T07:52:14.675863Z",
     "iopub.status.busy": "2022-02-08T07:52:14.675155Z",
     "iopub.status.idle": "2022-02-08T07:52:14.677941Z",
     "shell.execute_reply": "2022-02-08T07:52:14.678411Z",
     "shell.execute_reply.started": "2022-02-08T07:50:12.251302Z"
    },
    "id": "q2PShNdCSrMV",
    "papermill": {
     "duration": 0.02741,
     "end_time": "2022-02-08T07:52:14.678543",
     "exception": false,
     "start_time": "2022-02-08T07:52:14.651133",
     "status": "completed"
    },
    "tags": []
   },
   "outputs": [
    {
     "data": {
      "text/plain": [
       "'\\n%cd /content/yolov5\\n!python detect.py --img 640 --source ../Datasets/test/images --weights runs/train/exp2/weights/best.pt --data data/GBR.yaml --nosave --save-txt --save-conf --conf-thres 0.01 --iou-thres 0.3 --max-det 100\\n'"
      ]
     },
     "execution_count": 12,
     "metadata": {},
     "output_type": "execute_result"
    }
   ],
   "source": [
    "\"\"\"\n",
    "%cd /content/yolov5\n",
    "!python detect.py --img 640\\\n",
    " --source ../Datasets/test/images\\\n",
    " --weights runs/train/exp2/weights/best.pt\\\n",
    " --data data/GBR.yaml\\\n",
    " --nosave\\\n",
    " --save-txt\\\n",
    " --save-conf\\\n",
    " --conf-thres 0.01\\\n",
    " --iou-thres 0.3\\\n",
    " --max-det 100\n",
    "\"\"\""
   ]
  },
  {
   "cell_type": "code",
   "execution_count": 13,
   "id": "27cd04ad",
   "metadata": {
    "execution": {
     "iopub.execute_input": "2022-02-08T07:52:14.724403Z",
     "iopub.status.busy": "2022-02-08T07:52:14.723727Z",
     "iopub.status.idle": "2022-02-08T07:52:14.726214Z",
     "shell.execute_reply": "2022-02-08T07:52:14.726681Z",
     "shell.execute_reply.started": "2022-02-08T07:50:12.265944Z"
    },
    "id": "xKNDhrelf9YI",
    "papermill": {
     "duration": 0.027519,
     "end_time": "2022-02-08T07:52:14.726797",
     "exception": false,
     "start_time": "2022-02-08T07:52:14.699278",
     "status": "completed"
    },
    "tags": []
   },
   "outputs": [
    {
     "data": {
      "text/plain": [
       "'\\n%cd /content/yolov5/runs/detect/exp2/labels\\n!zip /content/exp_pred_labels.zip *.txt\\n%cd /content/Datasets/test/labels\\n!zip /content/exp_true_labels.zip *.txt\\n%cd /content\\n'"
      ]
     },
     "execution_count": 13,
     "metadata": {},
     "output_type": "execute_result"
    }
   ],
   "source": [
    "\"\"\"\n",
    "%cd /content/yolov5/runs/detect/exp2/labels\n",
    "!zip /content/exp_pred_labels.zip *.txt\n",
    "%cd /content/Datasets/test/labels\n",
    "!zip /content/exp_true_labels.zip *.txt\n",
    "%cd /content\n",
    "\"\"\""
   ]
  },
  {
   "cell_type": "code",
   "execution_count": 14,
   "id": "6159c8b8",
   "metadata": {
    "execution": {
     "iopub.execute_input": "2022-02-08T07:52:14.773382Z",
     "iopub.status.busy": "2022-02-08T07:52:14.772625Z",
     "iopub.status.idle": "2022-02-08T07:52:14.775209Z",
     "shell.execute_reply": "2022-02-08T07:52:14.775676Z",
     "shell.execute_reply.started": "2022-02-08T07:50:12.282594Z"
    },
    "id": "zbmSxR7vPdf9",
    "papermill": {
     "duration": 0.027989,
     "end_time": "2022-02-08T07:52:14.775798",
     "exception": false,
     "start_time": "2022-02-08T07:52:14.747809",
     "status": "completed"
    },
    "tags": []
   },
   "outputs": [
    {
     "data": {
      "text/plain": [
       "\"\\n%cd /content/yolov5\\n# visualize\\nfrom utils.plots import plot_results \\nplot_results('./runs/train/exp2/results.csv')  # plot 'results.csv' as 'results.png'\\n\""
      ]
     },
     "execution_count": 14,
     "metadata": {},
     "output_type": "execute_result"
    }
   ],
   "source": [
    "\"\"\"\n",
    "%cd /content/yolov5\n",
    "# visualize\n",
    "from utils.plots import plot_results \n",
    "plot_results('./runs/train/exp2/results.csv')  # plot 'results.csv' as 'results.png'\n",
    "\"\"\""
   ]
  },
  {
   "cell_type": "code",
   "execution_count": 15,
   "id": "94f71d77",
   "metadata": {
    "execution": {
     "iopub.execute_input": "2022-02-08T07:52:14.825168Z",
     "iopub.status.busy": "2022-02-08T07:52:14.824448Z",
     "iopub.status.idle": "2022-02-08T07:52:14.827238Z",
     "shell.execute_reply": "2022-02-08T07:52:14.827696Z",
     "shell.execute_reply.started": "2022-02-08T07:50:12.296072Z"
    },
    "id": "nEbL6eJre3PK",
    "outputId": "cca9b36c-c7e2-4698-ecd6-fdf7757b72e5",
    "papermill": {
     "duration": 0.028706,
     "end_time": "2022-02-08T07:52:14.827817",
     "exception": false,
     "start_time": "2022-02-08T07:52:14.799111",
     "status": "completed"
    },
    "tags": []
   },
   "outputs": [
    {
     "data": {
      "text/plain": [
       "\"\\nimport cv2\\nfrom google.colab.patches import cv2_imshow\\ncv2_imshow(cv2.imread('./runs/train/exp2/results.png'))\\n\""
      ]
     },
     "execution_count": 15,
     "metadata": {},
     "output_type": "execute_result"
    }
   ],
   "source": [
    "\"\"\"\n",
    "import cv2\n",
    "from google.colab.patches import cv2_imshow\n",
    "cv2_imshow(cv2.imread('./runs/train/exp2/results.png'))\n",
    "\"\"\""
   ]
  },
  {
   "cell_type": "markdown",
   "id": "1e6ed39c",
   "metadata": {
    "id": "0_cqT7bKx25g",
    "papermill": {
     "duration": 0.021691,
     "end_time": "2022-02-08T07:52:14.870858",
     "exception": false,
     "start_time": "2022-02-08T07:52:14.849167",
     "status": "completed"
    },
    "tags": []
   },
   "source": [
    "# Submit"
   ]
  },
  {
   "cell_type": "code",
   "execution_count": 16,
   "id": "b9bb459f",
   "metadata": {
    "execution": {
     "iopub.execute_input": "2022-02-08T07:52:14.918279Z",
     "iopub.status.busy": "2022-02-08T07:52:14.916113Z",
     "iopub.status.idle": "2022-02-08T07:52:14.920892Z",
     "shell.execute_reply": "2022-02-08T07:52:14.921335Z",
     "shell.execute_reply.started": "2022-02-08T07:50:12.308200Z"
    },
    "id": "nAKkcSqpxwIH",
    "outputId": "1db0f795-4efb-4cb0-a309-e53e02507a3e",
    "papermill": {
     "duration": 0.029265,
     "end_time": "2022-02-08T07:52:14.921459",
     "exception": false,
     "start_time": "2022-02-08T07:52:14.892194",
     "status": "completed"
    },
    "tags": []
   },
   "outputs": [
    {
     "data": {
      "text/plain": [
       "'\\n# https://drive.google.com/file/d/1Koc5DW5obyZ5blVzdP5EHeaFDfmUNkE0/view?usp=sharing\\n# save custom detect.py to /content/yolov5/detect2.py\\n!gdown --id 1Koc5DW5obyZ5blVzdP5EHeaFDfmUNkE0 -O /content/yolov5/detect2.py\\n\\n# https://drive.google.com/file/d/1JMNnFYJOgKZTA1a0RGBMbRO2EFouZU4K/view?usp=sharing\\n# save custom datasets.py to /content/yolov5/utils/datasets.py\\n!gdown --id 1JMNnFYJOgKZTA1a0RGBMbRO2EFouZU4K -O /content/yolov5/utils/datasets.py\\n'"
      ]
     },
     "execution_count": 16,
     "metadata": {},
     "output_type": "execute_result"
    }
   ],
   "source": [
    "\"\"\"\n",
    "# https://drive.google.com/file/d/1Koc5DW5obyZ5blVzdP5EHeaFDfmUNkE0/view?usp=sharing\n",
    "# save custom detect.py to /content/yolov5/detect2.py\n",
    "!gdown --id 1Koc5DW5obyZ5blVzdP5EHeaFDfmUNkE0 -O /content/yolov5/detect2.py\n",
    "\n",
    "# https://drive.google.com/file/d/1JMNnFYJOgKZTA1a0RGBMbRO2EFouZU4K/view?usp=sharing\n",
    "# save custom datasets.py to /content/yolov5/utils/datasets.py\n",
    "!gdown --id 1JMNnFYJOgKZTA1a0RGBMbRO2EFouZU4K -O /content/yolov5/utils/datasets.py\n",
    "\"\"\""
   ]
  },
  {
   "cell_type": "code",
   "execution_count": 17,
   "id": "00575856",
   "metadata": {
    "execution": {
     "iopub.execute_input": "2022-02-08T07:52:14.969151Z",
     "iopub.status.busy": "2022-02-08T07:52:14.968397Z",
     "iopub.status.idle": "2022-02-08T07:52:14.970754Z",
     "shell.execute_reply": "2022-02-08T07:52:14.970238Z",
     "shell.execute_reply.started": "2022-02-08T07:50:12.321975Z"
    },
    "papermill": {
     "duration": 0.027518,
     "end_time": "2022-02-08T07:52:14.970857",
     "exception": false,
     "start_time": "2022-02-08T07:52:14.943339",
     "status": "completed"
    },
    "tags": []
   },
   "outputs": [],
   "source": [
    "# %cd ./working"
   ]
  },
  {
   "cell_type": "code",
   "execution_count": 18,
   "id": "e0c4dddd",
   "metadata": {
    "execution": {
     "iopub.execute_input": "2022-02-08T07:52:15.019044Z",
     "iopub.status.busy": "2022-02-08T07:52:15.018538Z",
     "iopub.status.idle": "2022-02-08T07:52:16.822194Z",
     "shell.execute_reply": "2022-02-08T07:52:16.823102Z",
     "shell.execute_reply.started": "2022-02-08T07:50:12.333651Z"
    },
    "papermill": {
     "duration": 1.830553,
     "end_time": "2022-02-08T07:52:16.823328",
     "exception": false,
     "start_time": "2022-02-08T07:52:14.992775",
     "status": "completed"
    },
    "tags": []
   },
   "outputs": [],
   "source": [
    "import torch\n",
    "import cv2\n",
    "import numpy as np"
   ]
  },
  {
   "cell_type": "code",
   "execution_count": 19,
   "id": "5707352f",
   "metadata": {
    "execution": {
     "iopub.execute_input": "2022-02-08T07:52:16.876294Z",
     "iopub.status.busy": "2022-02-08T07:52:16.875529Z",
     "iopub.status.idle": "2022-02-08T07:52:18.216251Z",
     "shell.execute_reply": "2022-02-08T07:52:18.215786Z",
     "shell.execute_reply.started": "2022-02-08T07:50:13.891818Z"
    },
    "papermill": {
     "duration": 1.370449,
     "end_time": "2022-02-08T07:52:18.216410",
     "exception": false,
     "start_time": "2022-02-08T07:52:16.845961",
     "status": "completed"
    },
    "tags": []
   },
   "outputs": [],
   "source": [
    "!mkdir -p /root/.config/Ultralytics\n",
    "!cp /kaggle/input/yolov5-font/Arial.ttf /root/.config/Ultralytics/"
   ]
  },
  {
   "cell_type": "code",
   "execution_count": 20,
   "id": "c3ddbf46",
   "metadata": {
    "execution": {
     "iopub.execute_input": "2022-02-08T07:52:18.266924Z",
     "iopub.status.busy": "2022-02-08T07:52:18.266402Z",
     "iopub.status.idle": "2022-02-08T07:52:18.278417Z",
     "shell.execute_reply": "2022-02-08T07:52:18.277933Z",
     "shell.execute_reply.started": "2022-02-08T07:50:15.426415Z"
    },
    "papermill": {
     "duration": 0.040049,
     "end_time": "2022-02-08T07:52:18.278527",
     "exception": false,
     "start_time": "2022-02-08T07:52:18.238478",
     "status": "completed"
    },
    "tags": []
   },
   "outputs": [],
   "source": [
    "kernelx = cv2.getGaussianKernel(181,30)\n",
    "kernely = cv2.getGaussianKernel(91,30)\n",
    "\n",
    "def balance_ambient(src):\n",
    "    ambient = cv2.sepFilter2D(src,-1,kernelx,kernely)\n",
    "    balanced = (src.astype(np.float32)-(ambient*0.5))\n",
    "    balanced = balanced*(balanced > 0)*(255/np.max(balanced))\n",
    "    return balanced.astype(np.uint8)"
   ]
  },
  {
   "cell_type": "code",
   "execution_count": 21,
   "id": "b604ec5c",
   "metadata": {
    "execution": {
     "iopub.execute_input": "2022-02-08T07:52:18.332977Z",
     "iopub.status.busy": "2022-02-08T07:52:18.329712Z",
     "iopub.status.idle": "2022-02-08T07:52:18.336118Z",
     "shell.execute_reply": "2022-02-08T07:52:18.335713Z",
     "shell.execute_reply.started": "2022-02-08T07:50:15.442958Z"
    },
    "id": "vR49Yu5bbkOO",
    "outputId": "42db54c0-eb3f-4267-e888-d9d9ede498c5",
    "papermill": {
     "duration": 0.035995,
     "end_time": "2022-02-08T07:52:18.336225",
     "exception": false,
     "start_time": "2022-02-08T07:52:18.300230",
     "status": "completed"
    },
    "tags": []
   },
   "outputs": [],
   "source": [
    "def load_model(ckpt_path, conf=0.25, iou=0.30):\n",
    "    model = torch.hub.load('../input/yolov5-lib-ds',\n",
    "                           'custom',\n",
    "                           path=ckpt_path,\n",
    "                           source='local',\n",
    "                           force_reload=True)  # local repo\n",
    "    model.conf = conf  # NMS confidence threshold\n",
    "    model.iou  = iou  # NMS IoU threshold\n",
    "    model.classes = None   # (optional list) filter by class, i.e. = [0, 15, 16] for persons, cats and dogs\n",
    "    model.multi_label = False  # NMS multiple labels per box\n",
    "    model.max_det = 100  # maximum number of detections per image\n",
    "    return model\n",
    "\n",
    "def predict(model, img, size=1280, augment=False):\n",
    "    height, width = img.shape[:2]\n",
    "    results = model(img, size=size, augment=augment)\n",
    "    preds   = results.pandas().xyxy[0]\n",
    "    bboxes  = preds[['xmin','ymin','xmax','ymax']].values\n",
    "    if len(bboxes):\n",
    "        bboxes[:,2:] -= bboxes[:,:2]\n",
    "        bboxes[:,0] *= width/size\n",
    "        bboxes[:,1] *= height/size\n",
    "        bboxes[:,2] *= width/size\n",
    "        bboxes[:,3] *= height/size\n",
    "        bboxes = bboxes.astype(np.int32)\n",
    "        confs = preds.confidence.values\n",
    "        return bboxes, confs\n",
    "    else:\n",
    "        return [],[]\n",
    "\n",
    "def format_prediction(bboxes, confs):\n",
    "    annot = ''\n",
    "    if len(bboxes)>0:\n",
    "        for idx in range(len(bboxes)):\n",
    "            xmin, ymin, w, h = bboxes[idx]\n",
    "            conf             = confs[idx]\n",
    "            annot += '%.6f %d %d %d %d'%(conf,xmin,ymin,w,h)\n",
    "            annot +=' '\n",
    "        annot = annot.strip(' ')\n",
    "    return annot\n"
   ]
  },
  {
   "cell_type": "code",
   "execution_count": 22,
   "id": "2af3b647",
   "metadata": {
    "execution": {
     "iopub.execute_input": "2022-02-08T07:52:18.390222Z",
     "iopub.status.busy": "2022-02-08T07:52:18.389718Z",
     "iopub.status.idle": "2022-02-08T07:52:31.450778Z",
     "shell.execute_reply": "2022-02-08T07:52:31.450105Z",
     "shell.execute_reply.started": "2022-02-08T07:50:15.457854Z"
    },
    "papermill": {
     "duration": 13.093102,
     "end_time": "2022-02-08T07:52:31.450932",
     "exception": false,
     "start_time": "2022-02-08T07:52:18.357830",
     "status": "completed"
    },
    "tags": []
   },
   "outputs": [
    {
     "name": "stdout",
     "output_type": "stream",
     "text": [
      "/kaggle/input/tensorflow-great-barrier-reef\n",
      "/kaggle/working\n"
     ]
    },
    {
     "name": "stderr",
     "output_type": "stream",
     "text": [
      "YOLOv5 🚀 2022-2-5 torch 1.9.1 CUDA:0 (Tesla P100-PCIE-16GB, 16281MiB)\n",
      "\n",
      "Fusing layers... \n",
      "Model Summary: 290 layers, 20852934 parameters, 0 gradients\n",
      "Adding AutoShape... \n"
     ]
    },
    {
     "name": "stdout",
     "output_type": "stream",
     "text": [
      "This version of the API is not optimized and should not be used to estimate the runtime of your code on the hidden test set.\n"
     ]
    }
   ],
   "source": [
    "# kaggle submission code\n",
    "%cd ../input/tensorflow-great-barrier-reef\n",
    "import greatbarrierreef\n",
    "%cd ../../working\n",
    "\n",
    "env = greatbarrierreef.make_env()\n",
    "iter_test = env.iter_test()\n",
    "\n",
    "model = load_model('../input/yolov5-gbr-model-ckpts/best020717.pt',conf=0.303,iou=0.3)\n",
    "\n",
    "for pixel_array, sample_pred_df in iter_test:\n",
    "    bal_src = balance_ambient(pixel_array)\n",
    "    bboxes, confs = predict(model,bal_src,size=1280,augment=True)\n",
    "    annot = format_prediction(bboxes, confs)\n",
    "    sample_pred_df['annotations'] = annot\n",
    "    env.predict(sample_pred_df)"
   ]
  },
  {
   "cell_type": "code",
   "execution_count": 23,
   "id": "7c61ebe3",
   "metadata": {
    "execution": {
     "iopub.execute_input": "2022-02-08T07:52:31.505645Z",
     "iopub.status.busy": "2022-02-08T07:52:31.504889Z",
     "iopub.status.idle": "2022-02-08T07:52:31.513994Z",
     "shell.execute_reply": "2022-02-08T07:52:31.514518Z",
     "shell.execute_reply.started": "2022-02-08T07:50:28.544057Z"
    },
    "papermill": {
     "duration": 0.039779,
     "end_time": "2022-02-08T07:52:31.514677",
     "exception": false,
     "start_time": "2022-02-08T07:52:31.474898",
     "status": "completed"
    },
    "tags": []
   },
   "outputs": [
    {
     "data": {
      "text/html": [
       "<div>\n",
       "<style scoped>\n",
       "    .dataframe tbody tr th:only-of-type {\n",
       "        vertical-align: middle;\n",
       "    }\n",
       "\n",
       "    .dataframe tbody tr th {\n",
       "        vertical-align: top;\n",
       "    }\n",
       "\n",
       "    .dataframe thead th {\n",
       "        text-align: right;\n",
       "    }\n",
       "</style>\n",
       "<table border=\"1\" class=\"dataframe\">\n",
       "  <thead>\n",
       "    <tr style=\"text-align: right;\">\n",
       "      <th></th>\n",
       "      <th>index</th>\n",
       "      <th>annotations</th>\n",
       "    </tr>\n",
       "  </thead>\n",
       "  <tbody>\n",
       "    <tr>\n",
       "      <th>0</th>\n",
       "      <td>0</td>\n",
       "      <td>NaN</td>\n",
       "    </tr>\n",
       "    <tr>\n",
       "      <th>1</th>\n",
       "      <td>1</td>\n",
       "      <td>NaN</td>\n",
       "    </tr>\n",
       "    <tr>\n",
       "      <th>2</th>\n",
       "      <td>2</td>\n",
       "      <td>NaN</td>\n",
       "    </tr>\n",
       "  </tbody>\n",
       "</table>\n",
       "</div>"
      ],
      "text/plain": [
       "   index  annotations\n",
       "0      0          NaN\n",
       "1      1          NaN\n",
       "2      2          NaN"
      ]
     },
     "execution_count": 23,
     "metadata": {},
     "output_type": "execute_result"
    }
   ],
   "source": [
    "import pandas\n",
    "submission_df = pandas.read_csv('./submission.csv')\n",
    "submission_df"
   ]
  }
 ],
 "metadata": {
  "kernelspec": {
   "display_name": "Python 3",
   "language": "python",
   "name": "python3"
  },
  "language_info": {
   "codemirror_mode": {
    "name": "ipython",
    "version": 3
   },
   "file_extension": ".py",
   "mimetype": "text/x-python",
   "name": "python",
   "nbconvert_exporter": "python",
   "pygments_lexer": "ipython3",
   "version": "3.7.12"
  },
  "papermill": {
   "default_parameters": {},
   "duration": 27.137964,
   "end_time": "2022-02-08T07:52:32.849086",
   "environment_variables": {},
   "exception": null,
   "input_path": "__notebook__.ipynb",
   "output_path": "__notebook__.ipynb",
   "parameters": {},
   "start_time": "2022-02-08T07:52:05.711122",
   "version": "2.3.3"
  }
 },
 "nbformat": 4,
 "nbformat_minor": 5
}
