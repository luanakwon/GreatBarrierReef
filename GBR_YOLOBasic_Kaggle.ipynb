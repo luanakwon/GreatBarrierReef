{
 "cells": [
  {
   "cell_type": "markdown",
   "id": "6046132c",
   "metadata": {
    "id": "view-in-github",
    "papermill": {
     "duration": 0.015425,
     "end_time": "2022-02-07T08:50:32.612556",
     "exception": false,
     "start_time": "2022-02-07T08:50:32.597131",
     "status": "completed"
    },
    "tags": []
   },
   "source": [
    "<a href=\"https://colab.research.google.com/github/luanakwon/GreatBarrierReef/blob/main/GBR_YOLOBasic.ipynb\" target=\"_parent\"><img src=\"https://colab.research.google.com/assets/colab-badge.svg\" alt=\"Open In Colab\"/></a>"
   ]
  },
  {
   "cell_type": "markdown",
   "id": "4aa6a2ae",
   "metadata": {
    "id": "Atikzzc0fL2v",
    "papermill": {
     "duration": 0.014065,
     "end_time": "2022-02-07T08:50:32.643638",
     "exception": false,
     "start_time": "2022-02-07T08:50:32.629573",
     "status": "completed"
    },
    "tags": []
   },
   "source": [
    "# Download dataset from kaggle api\n",
    "kaggle  \n",
    "https://www.kaggle.com/c/tensorflow-great-barrier-reef/data  \n",
    "\n",
    "kaggle API usage  \n",
    "https://colab.research.google.com/github/corrieann/kaggle/blob/master/kaggle_api_in_colab.ipynb"
   ]
  },
  {
   "cell_type": "code",
   "execution_count": 1,
   "id": "2010c375",
   "metadata": {
    "execution": {
     "iopub.execute_input": "2022-02-07T08:50:32.677222Z",
     "iopub.status.busy": "2022-02-07T08:50:32.676675Z",
     "iopub.status.idle": "2022-02-07T08:50:32.678291Z",
     "shell.execute_reply": "2022-02-07T08:50:32.678903Z",
     "shell.execute_reply.started": "2022-02-06T09:20:07.743556Z"
    },
    "id": "n-JPBh1fETGF",
    "outputId": "4f1205dc-f60f-4353-f9d6-e9ca749934dd",
    "papermill": {
     "duration": 0.021252,
     "end_time": "2022-02-07T08:50:32.679179",
     "exception": false,
     "start_time": "2022-02-07T08:50:32.657927",
     "status": "completed"
    },
    "tags": []
   },
   "outputs": [],
   "source": [
    "# !pip install kaggle\n",
    "# !pip install --upgrade --force-reinstall --no-deps kaggle"
   ]
  },
  {
   "cell_type": "code",
   "execution_count": 2,
   "id": "d71c088e",
   "metadata": {
    "execution": {
     "iopub.execute_input": "2022-02-07T08:50:32.710953Z",
     "iopub.status.busy": "2022-02-07T08:50:32.710347Z",
     "iopub.status.idle": "2022-02-07T08:50:32.713161Z",
     "shell.execute_reply": "2022-02-07T08:50:32.714008Z",
     "shell.execute_reply.started": "2022-02-06T09:20:07.765987Z"
    },
    "id": "Z27ke3uEchVJ",
    "outputId": "1bc4d761-0381-495e-e513-3774c3679ee6",
    "papermill": {
     "duration": 0.02063,
     "end_time": "2022-02-07T08:50:32.714262",
     "exception": false,
     "start_time": "2022-02-07T08:50:32.693632",
     "status": "completed"
    },
    "tags": []
   },
   "outputs": [],
   "source": [
    "# from google.colab import files\n",
    "# \n",
    "# uploaded = files.upload()\n",
    "# \n",
    "# for fn in uploaded.keys():\n",
    "#   print('User uploaded file \"{name}\" with length {length} bytes'.format(\n",
    "#       name=fn, length=len(uploaded[fn])))\n",
    "#   \n",
    "# Then move kaggle.json into the folder where the API expects to find it.\n",
    "# !mkdir -p ~/.kaggle/ && mv kaggle.json ~/.kaggle/ && chmod 600 ~/.kaggle/kaggle.json"
   ]
  },
  {
   "cell_type": "code",
   "execution_count": 3,
   "id": "d212657f",
   "metadata": {
    "execution": {
     "iopub.execute_input": "2022-02-07T08:50:32.747642Z",
     "iopub.status.busy": "2022-02-07T08:50:32.746984Z",
     "iopub.status.idle": "2022-02-07T08:50:32.748810Z",
     "shell.execute_reply": "2022-02-07T08:50:32.749296Z",
     "shell.execute_reply.started": "2022-02-06T09:20:07.771626Z"
    },
    "id": "6JXwYXTxc8D4",
    "outputId": "ffa59142-86e1-4c2d-e270-fdacce817b9a",
    "papermill": {
     "duration": 0.020797,
     "end_time": "2022-02-07T08:50:32.749478",
     "exception": false,
     "start_time": "2022-02-07T08:50:32.728681",
     "status": "completed"
    },
    "tags": []
   },
   "outputs": [],
   "source": [
    "# !kaggle competitions download -c tensorflow-great-barrier-reef"
   ]
  },
  {
   "cell_type": "code",
   "execution_count": 4,
   "id": "e5b7bf9a",
   "metadata": {
    "execution": {
     "iopub.execute_input": "2022-02-07T08:50:32.782295Z",
     "iopub.status.busy": "2022-02-07T08:50:32.780790Z",
     "iopub.status.idle": "2022-02-07T08:50:32.784857Z",
     "shell.execute_reply": "2022-02-07T08:50:32.784375Z",
     "shell.execute_reply.started": "2022-02-06T09:20:07.782785Z"
    },
    "id": "D18RwmYWwO84",
    "papermill": {
     "duration": 0.02087,
     "end_time": "2022-02-07T08:50:32.784994",
     "exception": false,
     "start_time": "2022-02-07T08:50:32.764124",
     "status": "completed"
    },
    "tags": []
   },
   "outputs": [],
   "source": [
    "# !unzip -q /content/tensorflow-great-barrier-reef.zip "
   ]
  },
  {
   "cell_type": "markdown",
   "id": "73218de7",
   "metadata": {
    "id": "woh5Odk0V7lU",
    "papermill": {
     "duration": 0.014623,
     "end_time": "2022-02-07T08:50:32.814347",
     "exception": false,
     "start_time": "2022-02-07T08:50:32.799724",
     "status": "completed"
    },
    "tags": []
   },
   "source": [
    "# Session 1\n",
    "---\n",
    "Useful links  \n",
    "- [YOLOv5 - Train Custom Data github](https://github.com/ultralytics/yolov5/wiki/Train-Custom-Data)  \n"
   ]
  },
  {
   "cell_type": "code",
   "execution_count": 5,
   "id": "fe2bf802",
   "metadata": {
    "execution": {
     "iopub.execute_input": "2022-02-07T08:50:32.855176Z",
     "iopub.status.busy": "2022-02-07T08:50:32.854508Z",
     "iopub.status.idle": "2022-02-07T08:50:32.868175Z",
     "shell.execute_reply": "2022-02-07T08:50:32.868767Z",
     "shell.execute_reply.started": "2022-02-06T09:20:07.790945Z"
    },
    "id": "acWPF0FJFpZ9",
    "papermill": {
     "duration": 0.034514,
     "end_time": "2022-02-07T08:50:32.868993",
     "exception": false,
     "start_time": "2022-02-07T08:50:32.834479",
     "status": "completed"
    },
    "tags": []
   },
   "outputs": [
    {
     "data": {
      "text/plain": [
       "\"\\n# create hierarchy\\nimport os\\n\\nfor f1 in 'train', 'val', 'test':\\n  for f2 in 'images', 'labels':\\n    os.makedirs(f'/content/Datasets/{f1}/{f2}')\\n    \\n\""
      ]
     },
     "execution_count": 5,
     "metadata": {},
     "output_type": "execute_result"
    }
   ],
   "source": [
    "\"\"\"\n",
    "# create hierarchy\n",
    "import os\n",
    "\n",
    "for f1 in 'train', 'val', 'test':\n",
    "  for f2 in 'images', 'labels':\n",
    "    os.makedirs(f'/content/Datasets/{f1}/{f2}')\n",
    "    \n",
    "\"\"\""
   ]
  },
  {
   "cell_type": "code",
   "execution_count": 6,
   "id": "dbdc5905",
   "metadata": {
    "execution": {
     "iopub.execute_input": "2022-02-07T08:50:32.906358Z",
     "iopub.status.busy": "2022-02-07T08:50:32.905393Z",
     "iopub.status.idle": "2022-02-07T08:50:32.911655Z",
     "shell.execute_reply": "2022-02-07T08:50:32.911131Z",
     "shell.execute_reply.started": "2022-02-06T09:20:07.804407Z"
    },
    "id": "rTz8Sn-rBrRs",
    "papermill": {
     "duration": 0.025471,
     "end_time": "2022-02-07T08:50:32.911807",
     "exception": false,
     "start_time": "2022-02-07T08:50:32.886336",
     "status": "completed"
    },
    "tags": []
   },
   "outputs": [
    {
     "data": {
      "text/plain": [
       "\"\\n# get train.csv\\nimport pandas as pd\\n\\ndf_train = pd.read_csv('train.csv')\\ndf_test = pd.read_csv('test.csv')\\ndf_train\\n\""
      ]
     },
     "execution_count": 6,
     "metadata": {},
     "output_type": "execute_result"
    }
   ],
   "source": [
    "\"\"\"\n",
    "# get train.csv\n",
    "import pandas as pd\n",
    "\n",
    "df_train = pd.read_csv('train.csv')\n",
    "df_test = pd.read_csv('test.csv')\n",
    "df_train\n",
    "\"\"\""
   ]
  },
  {
   "cell_type": "code",
   "execution_count": 7,
   "id": "31b9b8ef",
   "metadata": {
    "execution": {
     "iopub.execute_input": "2022-02-07T08:50:32.948626Z",
     "iopub.status.busy": "2022-02-07T08:50:32.948006Z",
     "iopub.status.idle": "2022-02-07T08:50:32.954086Z",
     "shell.execute_reply": "2022-02-07T08:50:32.953487Z",
     "shell.execute_reply.started": "2022-02-06T09:20:07.817396Z"
    },
    "id": "baUKP2WntbEV",
    "papermill": {
     "duration": 0.023544,
     "end_time": "2022-02-07T08:50:32.954220",
     "exception": false,
     "start_time": "2022-02-07T08:50:32.930676",
     "status": "completed"
    },
    "tags": []
   },
   "outputs": [
    {
     "data": {
      "text/plain": [
       "'\\ndef annotation2YoloFormat(_annotation, width=1280, height=720):\\n  out = \\'\\'\\n  if isinstance(_annotation,str):\\n    a = _annotation\\n    while True:\\n      ix = a.find(\"\\'x\\': \")\\n      iy = a.find(\"\\'y\\': \")\\n      iw = a.find(\"\\'width\\': \")\\n      ih = a.find(\"\\'height\\': \")\\n      \\n      if ix < 0 or iy < 0 or iw < 0 or ih < 0:\\n        break\\n\\n      x = float(a[ix + len(\"\\'x\\': \"):a.find(\", \\'y\")])/width\\n      y = float(a[iy + len(\"\\'y\\': \"):a.find(\", \\'w\")])/height\\n      w = float(a[iw + len(\"\\'width\\': \"):a.find(\", \\'h\")])/width\\n      h = float(a[ih + len(\"\\'height\\': \"):a.find(\\'}\\')])/height\\n      \\n      \\n      out += \\'0 %.6f %.6f %.6f %.6f\\n\\'%(x+w/2, y+h/2, w, h)\\n      a = a[a.find(\\'}\\')+1:]\\n    \\n    out = out[:-1]\\n  return out\\n  '"
      ]
     },
     "execution_count": 7,
     "metadata": {},
     "output_type": "execute_result"
    }
   ],
   "source": [
    "\"\"\"\n",
    "def annotation2YoloFormat(_annotation, width=1280, height=720):\n",
    "  out = ''\n",
    "  if isinstance(_annotation,str):\n",
    "    a = _annotation\n",
    "    while True:\n",
    "      ix = a.find(\"'x': \")\n",
    "      iy = a.find(\"'y': \")\n",
    "      iw = a.find(\"'width': \")\n",
    "      ih = a.find(\"'height': \")\n",
    "      \n",
    "      if ix < 0 or iy < 0 or iw < 0 or ih < 0:\n",
    "        break\n",
    "\n",
    "      x = float(a[ix + len(\"'x': \"):a.find(\", 'y\")])/width\n",
    "      y = float(a[iy + len(\"'y': \"):a.find(\", 'w\")])/height\n",
    "      w = float(a[iw + len(\"'width': \"):a.find(\", 'h\")])/width\n",
    "      h = float(a[ih + len(\"'height': \"):a.find('}')])/height\n",
    "      \n",
    "      \n",
    "      out += '0 %.6f %.6f %.6f %.6f\\n'%(x+w/2, y+h/2, w, h)\n",
    "      a = a[a.find('}')+1:]\n",
    "    \n",
    "    out = out[:-1]\n",
    "  return out\n",
    "  \"\"\""
   ]
  },
  {
   "cell_type": "code",
   "execution_count": 8,
   "id": "6e461bb2",
   "metadata": {
    "execution": {
     "iopub.execute_input": "2022-02-07T08:50:32.990229Z",
     "iopub.status.busy": "2022-02-07T08:50:32.989620Z",
     "iopub.status.idle": "2022-02-07T08:50:32.992681Z",
     "shell.execute_reply": "2022-02-07T08:50:32.993076Z",
     "shell.execute_reply.started": "2022-02-06T09:20:07.827666Z"
    },
    "id": "uqxZ_4iaW1Gg",
    "outputId": "93498d40-98f2-49b3-b333-23e792e581c4",
    "papermill": {
     "duration": 0.023827,
     "end_time": "2022-02-07T08:50:32.993237",
     "exception": false,
     "start_time": "2022-02-07T08:50:32.969410",
     "status": "completed"
    },
    "tags": []
   },
   "outputs": [
    {
     "data": {
      "text/plain": [
       "'\\n# read images from /content/train_images\\n# change name\\n# save the image to train | val | test. ratio = 0.64 : 0.16 : 0.2\\n# create corresponding txt file and save\\n\\n# change image name to image id\\n# split images by train:val:test = .64:.16:.2\\nimport shutil\\nimport os\\nimport random\\nrandom.seed(31415)\\n%cd train_images\\n\\nTEST_DIRECTORY = \"../Datasets/test\"\\nTRAIN_DIRECTORY = \"../Datasets/train\"\\nVAL_DIRECTORY = \"../Datasets/val\"\\n\\nfor dir in os.listdir():\\n  # print(dir)\\n  for image in os.listdir(dir):\\n    annot = df_train.loc[df_train[\\'image_id\\']==f\\'{dir[-1]}-{image[:-4]}\\', \\'annotations\\'].iloc[0]\\n    if annot != \\'[]\\':\\n      random_key = random.random()\\n      if random_key < 0.64:\\n        random_folder = TRAIN_DIRECTORY\\n      elif random_key < 0.8:\\n        random_folder = VAL_DIRECTORY\\n      else:\\n        random_folder = TEST_DIRECTORY\\n      shutil.move(f\\'{dir}/{image}\\', f\"../Datasets/{random_folder}/images/{dir[-1]}-{image}\")\\n\\n      # might add label as well while in iteration\\n      # as YOLO format [{xywh},{},...]\\n      f = open(f\"../Datasets/{random_folder}/labels/{dir[-1]}-{image[:-4]}.txt\", \\'w\\')\\n      f.write(annotation2YoloFormat(annot))\\n      f.close()\\n\\n%cd ..\\n!rm -rf train_images/\\n'"
      ]
     },
     "execution_count": 8,
     "metadata": {},
     "output_type": "execute_result"
    }
   ],
   "source": [
    "\"\"\"\n",
    "# read images from /content/train_images\n",
    "# change name\n",
    "# save the image to train | val | test. ratio = 0.64 : 0.16 : 0.2\n",
    "# create corresponding txt file and save\n",
    "\n",
    "# change image name to image id\n",
    "# split images by train:val:test = .64:.16:.2\n",
    "import shutil\n",
    "import os\n",
    "import random\n",
    "random.seed(31415)\n",
    "%cd train_images\n",
    "\n",
    "TEST_DIRECTORY = \"../Datasets/test\"\n",
    "TRAIN_DIRECTORY = \"../Datasets/train\"\n",
    "VAL_DIRECTORY = \"../Datasets/val\"\n",
    "\n",
    "for dir in os.listdir():\n",
    "  # print(dir)\n",
    "  for image in os.listdir(dir):\n",
    "    annot = df_train.loc[df_train['image_id']==f'{dir[-1]}-{image[:-4]}', 'annotations'].iloc[0]\n",
    "    if annot != '[]':\n",
    "      random_key = random.random()\n",
    "      if random_key < 0.64:\n",
    "        random_folder = TRAIN_DIRECTORY\n",
    "      elif random_key < 0.8:\n",
    "        random_folder = VAL_DIRECTORY\n",
    "      else:\n",
    "        random_folder = TEST_DIRECTORY\n",
    "      shutil.move(f'{dir}/{image}', f\"../Datasets/{random_folder}/images/{dir[-1]}-{image}\")\n",
    "\n",
    "      # might add label as well while in iteration\n",
    "      # as YOLO format [{xywh},{},...]\n",
    "      f = open(f\"../Datasets/{random_folder}/labels/{dir[-1]}-{image[:-4]}.txt\", 'w')\n",
    "      f.write(annotation2YoloFormat(annot))\n",
    "      f.close()\n",
    "\n",
    "%cd ..\n",
    "!rm -rf train_images/\n",
    "\"\"\""
   ]
  },
  {
   "cell_type": "code",
   "execution_count": 9,
   "id": "2f11998a",
   "metadata": {
    "execution": {
     "iopub.execute_input": "2022-02-07T08:50:33.028757Z",
     "iopub.status.busy": "2022-02-07T08:50:33.028165Z",
     "iopub.status.idle": "2022-02-07T08:50:33.032390Z",
     "shell.execute_reply": "2022-02-07T08:50:33.031934Z",
     "shell.execute_reply.started": "2022-02-06T09:20:07.841028Z"
    },
    "id": "wbvMlHd_QwMG",
    "outputId": "50453b58-4b1e-4f75-9895-20f78a36a203",
    "papermill": {
     "duration": 0.023683,
     "end_time": "2022-02-07T08:50:33.032538",
     "exception": false,
     "start_time": "2022-02-07T08:50:33.008855",
     "status": "completed"
    },
    "tags": []
   },
   "outputs": [
    {
     "data": {
      "text/plain": [
       "'\\n#!git clone https://github.com/ultralytics/yolov5  # clone\\n%cd yolov5\\n%pip install -r requirements.txt  # install\\n\\nimport torch\\nfrom yolov5 import utils\\n# display = utils.notebook_init()  # checks\\n'"
      ]
     },
     "execution_count": 9,
     "metadata": {},
     "output_type": "execute_result"
    }
   ],
   "source": [
    "\"\"\"\n",
    "#!git clone https://github.com/ultralytics/yolov5  # clone\n",
    "%cd yolov5\n",
    "%pip install -r requirements.txt  # install\n",
    "\n",
    "import torch\n",
    "from yolov5 import utils\n",
    "# display = utils.notebook_init()  # checks\n",
    "\"\"\""
   ]
  },
  {
   "cell_type": "markdown",
   "id": "babd4489",
   "metadata": {
    "id": "W4SnuptqeYiA",
    "papermill": {
     "duration": 0.015289,
     "end_time": "2022-02-07T08:50:33.063473",
     "exception": false,
     "start_time": "2022-02-07T08:50:33.048184",
     "status": "completed"
    },
    "tags": []
   },
   "source": [
    "# Under /content/yolov5"
   ]
  },
  {
   "cell_type": "code",
   "execution_count": 10,
   "id": "8a4f070b",
   "metadata": {
    "execution": {
     "iopub.execute_input": "2022-02-07T08:50:33.098554Z",
     "iopub.status.busy": "2022-02-07T08:50:33.097614Z",
     "iopub.status.idle": "2022-02-07T08:50:33.102470Z",
     "shell.execute_reply": "2022-02-07T08:50:33.102913Z",
     "shell.execute_reply.started": "2022-02-06T09:20:07.854995Z"
    },
    "id": "KUO-ZP2gLdpT",
    "outputId": "627b7e3a-7c82-4c2e-a5e3-f48b94f66ee2",
    "papermill": {
     "duration": 0.023984,
     "end_time": "2022-02-07T08:50:33.103072",
     "exception": false,
     "start_time": "2022-02-07T08:50:33.079088",
     "status": "completed"
    },
    "tags": []
   },
   "outputs": [
    {
     "data": {
      "text/plain": [
       "'\\n# create yaml file and save to /data (your at /content/yolov5)\\n# https://drive.google.com/file/d/1BBrQ5_1urHvJdYOmYPR-HalMeF9dnK37/view?usp=sharing\\n!gdown --id 1BBrQ5_1urHvJdYOmYPR-HalMeF9dnK37 -O /content/yolov5/data/GBR.yaml\\n'"
      ]
     },
     "execution_count": 10,
     "metadata": {},
     "output_type": "execute_result"
    }
   ],
   "source": [
    "\"\"\"\n",
    "# create yaml file and save to /data (your at /content/yolov5)\n",
    "# https://drive.google.com/file/d/1BBrQ5_1urHvJdYOmYPR-HalMeF9dnK37/view?usp=sharing\n",
    "!gdown --id 1BBrQ5_1urHvJdYOmYPR-HalMeF9dnK37 -O /content/yolov5/data/GBR.yaml\n",
    "\"\"\""
   ]
  },
  {
   "cell_type": "code",
   "execution_count": 11,
   "id": "2e421908",
   "metadata": {
    "execution": {
     "iopub.execute_input": "2022-02-07T08:50:33.138976Z",
     "iopub.status.busy": "2022-02-07T08:50:33.138366Z",
     "iopub.status.idle": "2022-02-07T08:50:33.140562Z",
     "shell.execute_reply": "2022-02-07T08:50:33.140097Z",
     "shell.execute_reply.started": "2022-02-06T09:20:07.863758Z"
    },
    "id": "k47ZnEx4L8hF",
    "papermill": {
     "duration": 0.021808,
     "end_time": "2022-02-07T08:50:33.140697",
     "exception": false,
     "start_time": "2022-02-07T08:50:33.118889",
     "status": "completed"
    },
    "tags": []
   },
   "outputs": [],
   "source": [
    "# Train YOLOv5s on COCO128 for 3 epochs\n",
    "# --img : image size (size,size)\n",
    "# --batch : batch size\n",
    "# --epochs : epochs\n",
    "# --data : .yaml file name\n",
    "# --weights : pretrained weights ('' --cfg yolov5s.yaml if from scratch)\n",
    "# !python train.py --img 720 --batch 20 --epochs 12 --data GBR.yaml --weights yolov5m.pt"
   ]
  },
  {
   "cell_type": "markdown",
   "id": "a62e3779",
   "metadata": {
    "id": "Q_KfojRcfSUP",
    "papermill": {
     "duration": 0.020153,
     "end_time": "2022-02-07T08:50:33.176912",
     "exception": false,
     "start_time": "2022-02-07T08:50:33.156759",
     "status": "completed"
    },
    "tags": []
   },
   "source": [
    "# Visualization"
   ]
  },
  {
   "cell_type": "code",
   "execution_count": 12,
   "id": "4c4bdaa3",
   "metadata": {
    "execution": {
     "iopub.execute_input": "2022-02-07T08:50:33.220883Z",
     "iopub.status.busy": "2022-02-07T08:50:33.220132Z",
     "iopub.status.idle": "2022-02-07T08:50:33.223068Z",
     "shell.execute_reply": "2022-02-07T08:50:33.223637Z",
     "shell.execute_reply.started": "2022-02-06T09:20:07.87241Z"
    },
    "id": "q2PShNdCSrMV",
    "papermill": {
     "duration": 0.029589,
     "end_time": "2022-02-07T08:50:33.223809",
     "exception": false,
     "start_time": "2022-02-07T08:50:33.194220",
     "status": "completed"
    },
    "tags": []
   },
   "outputs": [
    {
     "data": {
      "text/plain": [
       "'\\n%cd /content/yolov5\\n!python detect.py --img 640 --source ../Datasets/test/images --weights runs/train/exp2/weights/best.pt --data data/GBR.yaml --nosave --save-txt --save-conf --conf-thres 0.01 --iou-thres 0.3 --max-det 100\\n'"
      ]
     },
     "execution_count": 12,
     "metadata": {},
     "output_type": "execute_result"
    }
   ],
   "source": [
    "\"\"\"\n",
    "%cd /content/yolov5\n",
    "!python detect.py --img 640\\\n",
    " --source ../Datasets/test/images\\\n",
    " --weights runs/train/exp2/weights/best.pt\\\n",
    " --data data/GBR.yaml\\\n",
    " --nosave\\\n",
    " --save-txt\\\n",
    " --save-conf\\\n",
    " --conf-thres 0.01\\\n",
    " --iou-thres 0.3\\\n",
    " --max-det 100\n",
    "\"\"\""
   ]
  },
  {
   "cell_type": "code",
   "execution_count": 13,
   "id": "5cb2ccad",
   "metadata": {
    "execution": {
     "iopub.execute_input": "2022-02-07T08:50:33.263367Z",
     "iopub.status.busy": "2022-02-07T08:50:33.262501Z",
     "iopub.status.idle": "2022-02-07T08:50:33.268410Z",
     "shell.execute_reply": "2022-02-07T08:50:33.267941Z",
     "shell.execute_reply.started": "2022-02-06T09:20:07.883954Z"
    },
    "id": "xKNDhrelf9YI",
    "papermill": {
     "duration": 0.028497,
     "end_time": "2022-02-07T08:50:33.268575",
     "exception": false,
     "start_time": "2022-02-07T08:50:33.240078",
     "status": "completed"
    },
    "tags": []
   },
   "outputs": [
    {
     "data": {
      "text/plain": [
       "'\\n%cd /content/yolov5/runs/detect/exp2/labels\\n!zip /content/exp_pred_labels.zip *.txt\\n%cd /content/Datasets/test/labels\\n!zip /content/exp_true_labels.zip *.txt\\n%cd /content\\n'"
      ]
     },
     "execution_count": 13,
     "metadata": {},
     "output_type": "execute_result"
    }
   ],
   "source": [
    "\"\"\"\n",
    "%cd /content/yolov5/runs/detect/exp2/labels\n",
    "!zip /content/exp_pred_labels.zip *.txt\n",
    "%cd /content/Datasets/test/labels\n",
    "!zip /content/exp_true_labels.zip *.txt\n",
    "%cd /content\n",
    "\"\"\""
   ]
  },
  {
   "cell_type": "code",
   "execution_count": 14,
   "id": "3d2757fd",
   "metadata": {
    "execution": {
     "iopub.execute_input": "2022-02-07T08:50:33.305043Z",
     "iopub.status.busy": "2022-02-07T08:50:33.304105Z",
     "iopub.status.idle": "2022-02-07T08:50:33.308864Z",
     "shell.execute_reply": "2022-02-07T08:50:33.309283Z",
     "shell.execute_reply.started": "2022-02-06T09:20:07.903376Z"
    },
    "id": "zbmSxR7vPdf9",
    "papermill": {
     "duration": 0.024513,
     "end_time": "2022-02-07T08:50:33.309463",
     "exception": false,
     "start_time": "2022-02-07T08:50:33.284950",
     "status": "completed"
    },
    "tags": []
   },
   "outputs": [
    {
     "data": {
      "text/plain": [
       "\"\\n%cd /content/yolov5\\n# visualize\\nfrom utils.plots import plot_results \\nplot_results('./runs/train/exp2/results.csv')  # plot 'results.csv' as 'results.png'\\n\""
      ]
     },
     "execution_count": 14,
     "metadata": {},
     "output_type": "execute_result"
    }
   ],
   "source": [
    "\"\"\"\n",
    "%cd /content/yolov5\n",
    "# visualize\n",
    "from utils.plots import plot_results \n",
    "plot_results('./runs/train/exp2/results.csv')  # plot 'results.csv' as 'results.png'\n",
    "\"\"\""
   ]
  },
  {
   "cell_type": "code",
   "execution_count": 15,
   "id": "8624b1cf",
   "metadata": {
    "execution": {
     "iopub.execute_input": "2022-02-07T08:50:33.346059Z",
     "iopub.status.busy": "2022-02-07T08:50:33.345133Z",
     "iopub.status.idle": "2022-02-07T08:50:33.349706Z",
     "shell.execute_reply": "2022-02-07T08:50:33.350127Z",
     "shell.execute_reply.started": "2022-02-06T09:20:07.912923Z"
    },
    "id": "nEbL6eJre3PK",
    "outputId": "cca9b36c-c7e2-4698-ecd6-fdf7757b72e5",
    "papermill": {
     "duration": 0.024411,
     "end_time": "2022-02-07T08:50:33.350284",
     "exception": false,
     "start_time": "2022-02-07T08:50:33.325873",
     "status": "completed"
    },
    "tags": []
   },
   "outputs": [
    {
     "data": {
      "text/plain": [
       "\"\\nimport cv2\\nfrom google.colab.patches import cv2_imshow\\ncv2_imshow(cv2.imread('./runs/train/exp2/results.png'))\\n\""
      ]
     },
     "execution_count": 15,
     "metadata": {},
     "output_type": "execute_result"
    }
   ],
   "source": [
    "\"\"\"\n",
    "import cv2\n",
    "from google.colab.patches import cv2_imshow\n",
    "cv2_imshow(cv2.imread('./runs/train/exp2/results.png'))\n",
    "\"\"\""
   ]
  },
  {
   "cell_type": "markdown",
   "id": "1d6451df",
   "metadata": {
    "id": "0_cqT7bKx25g",
    "papermill": {
     "duration": 0.017243,
     "end_time": "2022-02-07T08:50:33.384289",
     "exception": false,
     "start_time": "2022-02-07T08:50:33.367046",
     "status": "completed"
    },
    "tags": []
   },
   "source": [
    "# Submit"
   ]
  },
  {
   "cell_type": "code",
   "execution_count": 16,
   "id": "f83dd9da",
   "metadata": {
    "execution": {
     "iopub.execute_input": "2022-02-07T08:50:33.424100Z",
     "iopub.status.busy": "2022-02-07T08:50:33.423179Z",
     "iopub.status.idle": "2022-02-07T08:50:33.428294Z",
     "shell.execute_reply": "2022-02-07T08:50:33.428792Z",
     "shell.execute_reply.started": "2022-02-06T09:20:07.921798Z"
    },
    "id": "nAKkcSqpxwIH",
    "outputId": "1db0f795-4efb-4cb0-a309-e53e02507a3e",
    "papermill": {
     "duration": 0.026683,
     "end_time": "2022-02-07T08:50:33.428954",
     "exception": false,
     "start_time": "2022-02-07T08:50:33.402271",
     "status": "completed"
    },
    "tags": []
   },
   "outputs": [
    {
     "data": {
      "text/plain": [
       "'\\n# https://drive.google.com/file/d/1Koc5DW5obyZ5blVzdP5EHeaFDfmUNkE0/view?usp=sharing\\n# save custom detect.py to /content/yolov5/detect2.py\\n!gdown --id 1Koc5DW5obyZ5blVzdP5EHeaFDfmUNkE0 -O /content/yolov5/detect2.py\\n\\n# https://drive.google.com/file/d/1JMNnFYJOgKZTA1a0RGBMbRO2EFouZU4K/view?usp=sharing\\n# save custom datasets.py to /content/yolov5/utils/datasets.py\\n!gdown --id 1JMNnFYJOgKZTA1a0RGBMbRO2EFouZU4K -O /content/yolov5/utils/datasets.py\\n'"
      ]
     },
     "execution_count": 16,
     "metadata": {},
     "output_type": "execute_result"
    }
   ],
   "source": [
    "\"\"\"\n",
    "# https://drive.google.com/file/d/1Koc5DW5obyZ5blVzdP5EHeaFDfmUNkE0/view?usp=sharing\n",
    "# save custom detect.py to /content/yolov5/detect2.py\n",
    "!gdown --id 1Koc5DW5obyZ5blVzdP5EHeaFDfmUNkE0 -O /content/yolov5/detect2.py\n",
    "\n",
    "# https://drive.google.com/file/d/1JMNnFYJOgKZTA1a0RGBMbRO2EFouZU4K/view?usp=sharing\n",
    "# save custom datasets.py to /content/yolov5/utils/datasets.py\n",
    "!gdown --id 1JMNnFYJOgKZTA1a0RGBMbRO2EFouZU4K -O /content/yolov5/utils/datasets.py\n",
    "\"\"\""
   ]
  },
  {
   "cell_type": "code",
   "execution_count": 17,
   "id": "a053ad24",
   "metadata": {
    "execution": {
     "iopub.execute_input": "2022-02-07T08:50:33.466778Z",
     "iopub.status.busy": "2022-02-07T08:50:33.465835Z",
     "iopub.status.idle": "2022-02-07T08:50:33.468946Z",
     "shell.execute_reply": "2022-02-07T08:50:33.469502Z",
     "shell.execute_reply.started": "2022-02-06T09:20:07.932204Z"
    },
    "papermill": {
     "duration": 0.02369,
     "end_time": "2022-02-07T08:50:33.469670",
     "exception": false,
     "start_time": "2022-02-07T08:50:33.445980",
     "status": "completed"
    },
    "tags": []
   },
   "outputs": [],
   "source": [
    "# %cd ./working"
   ]
  },
  {
   "cell_type": "code",
   "execution_count": 18,
   "id": "51a03859",
   "metadata": {
    "execution": {
     "iopub.execute_input": "2022-02-07T08:50:33.514327Z",
     "iopub.status.busy": "2022-02-07T08:50:33.513712Z",
     "iopub.status.idle": "2022-02-07T08:50:40.199893Z",
     "shell.execute_reply": "2022-02-07T08:50:40.199324Z",
     "shell.execute_reply.started": "2022-02-06T09:20:07.94182Z"
    },
    "id": "vR49Yu5bbkOO",
    "outputId": "42db54c0-eb3f-4267-e888-d9d9ede498c5",
    "papermill": {
     "duration": 6.713297,
     "end_time": "2022-02-07T08:50:40.200040",
     "exception": false,
     "start_time": "2022-02-07T08:50:33.486743",
     "status": "completed"
    },
    "tags": []
   },
   "outputs": [
    {
     "name": "stdout",
     "output_type": "stream",
     "text": [
      "/kaggle/input/yologithubrepoandsomecustom\n",
      "/kaggle/working\n",
      "__notebook__.ipynb\r\n"
     ]
    },
    {
     "name": "stderr",
     "output_type": "stream",
     "text": [
      "YOLOv5 🚀 v6.0-235-ge1a6a0b torch 1.9.1+cpu CPU\n",
      "\n",
      "Fusing layers... \n",
      "Model Summary: 290 layers, 20852934 parameters, 0 gradients\n",
      "WARNING: --img-size (640, 640) must be multiple of max stride 32, updating to [640, 640]\n"
     ]
    },
    {
     "name": "stdout",
     "output_type": "stream",
     "text": [
      "This version of the API is not optimized and should not be used to estimate the runtime of your code on the hidden test set.\n"
     ]
    }
   ],
   "source": [
    "# something like this...?\n",
    "import greatbarrierreef\n",
    "%cd ../input/yologithubrepoandsomecustom\n",
    "from yolov5.detect2 import run as detect2run\n",
    "%cd ../../working\n",
    "%ls\n",
    "\n",
    "detect2run(\n",
    "    weights='../input/yologithubrepoandsomecustom/yolov5/weights/best020601.pt',\n",
    "    data='../input/yologithubrepoandsomecustom/yolov5/data/GBR.yaml',\n",
    "    env=greatbarrierreef.make_env(),\n",
    "    conf_thres=0.163,\n",
    "    iou_thres=0.3,\n",
    "    max_det=100\n",
    ")"
   ]
  },
  {
   "cell_type": "code",
   "execution_count": 19,
   "id": "bea2104c",
   "metadata": {
    "execution": {
     "iopub.execute_input": "2022-02-07T08:50:40.243568Z",
     "iopub.status.busy": "2022-02-07T08:50:40.242888Z",
     "iopub.status.idle": "2022-02-07T08:50:40.254019Z",
     "shell.execute_reply": "2022-02-07T08:50:40.254434Z",
     "shell.execute_reply.started": "2022-02-06T09:20:14.855053Z"
    },
    "papermill": {
     "duration": 0.03522,
     "end_time": "2022-02-07T08:50:40.254608",
     "exception": false,
     "start_time": "2022-02-07T08:50:40.219388",
     "status": "completed"
    },
    "tags": []
   },
   "outputs": [
    {
     "data": {
      "text/html": [
       "<div>\n",
       "<style scoped>\n",
       "    .dataframe tbody tr th:only-of-type {\n",
       "        vertical-align: middle;\n",
       "    }\n",
       "\n",
       "    .dataframe tbody tr th {\n",
       "        vertical-align: top;\n",
       "    }\n",
       "\n",
       "    .dataframe thead th {\n",
       "        text-align: right;\n",
       "    }\n",
       "</style>\n",
       "<table border=\"1\" class=\"dataframe\">\n",
       "  <thead>\n",
       "    <tr style=\"text-align: right;\">\n",
       "      <th></th>\n",
       "      <th>index</th>\n",
       "      <th>annotations</th>\n",
       "    </tr>\n",
       "  </thead>\n",
       "  <tbody>\n",
       "    <tr>\n",
       "      <th>0</th>\n",
       "      <td>0</td>\n",
       "      <td>0.424899 267 256 35 28</td>\n",
       "    </tr>\n",
       "    <tr>\n",
       "      <th>1</th>\n",
       "      <td>1</td>\n",
       "      <td>NaN</td>\n",
       "    </tr>\n",
       "    <tr>\n",
       "      <th>2</th>\n",
       "      <td>2</td>\n",
       "      <td>NaN</td>\n",
       "    </tr>\n",
       "  </tbody>\n",
       "</table>\n",
       "</div>"
      ],
      "text/plain": [
       "   index             annotations\n",
       "0      0  0.424899 267 256 35 28\n",
       "1      1                     NaN\n",
       "2      2                     NaN"
      ]
     },
     "execution_count": 19,
     "metadata": {},
     "output_type": "execute_result"
    }
   ],
   "source": [
    "import pandas\n",
    "submission_df = pandas.read_csv('./submission.csv')\n",
    "submission_df"
   ]
  }
 ],
 "metadata": {
  "kernelspec": {
   "display_name": "Python 3",
   "language": "python",
   "name": "python3"
  },
  "language_info": {
   "codemirror_mode": {
    "name": "ipython",
    "version": 3
   },
   "file_extension": ".py",
   "mimetype": "text/x-python",
   "name": "python",
   "nbconvert_exporter": "python",
   "pygments_lexer": "ipython3",
   "version": "3.7.12"
  },
  "papermill": {
   "default_parameters": {},
   "duration": 16.898837,
   "end_time": "2022-02-07T08:50:41.184047",
   "environment_variables": {},
   "exception": null,
   "input_path": "__notebook__.ipynb",
   "output_path": "__notebook__.ipynb",
   "parameters": {},
   "start_time": "2022-02-07T08:50:24.285210",
   "version": "2.3.3"
  }
 },
 "nbformat": 4,
 "nbformat_minor": 5
}
