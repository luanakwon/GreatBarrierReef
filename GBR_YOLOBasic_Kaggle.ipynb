{
 "cells": [
  {
   "cell_type": "markdown",
   "id": "45825d7b",
   "metadata": {
    "id": "view-in-github",
    "papermill": {
     "duration": 0.017832,
     "end_time": "2022-02-05T09:20:06.149208",
     "exception": false,
     "start_time": "2022-02-05T09:20:06.131376",
     "status": "completed"
    },
    "tags": []
   },
   "source": [
    "<a href=\"https://colab.research.google.com/github/luanakwon/GreatBarrierReef/blob/main/GBR_YOLOBasic.ipynb\" target=\"_parent\"><img src=\"https://colab.research.google.com/assets/colab-badge.svg\" alt=\"Open In Colab\"/></a>"
   ]
  },
  {
   "cell_type": "markdown",
   "id": "1ffae2e0",
   "metadata": {
    "id": "Atikzzc0fL2v",
    "papermill": {
     "duration": 0.013625,
     "end_time": "2022-02-05T09:20:06.178411",
     "exception": false,
     "start_time": "2022-02-05T09:20:06.164786",
     "status": "completed"
    },
    "tags": []
   },
   "source": [
    "# Download dataset from kaggle api\n",
    "kaggle  \n",
    "https://www.kaggle.com/c/tensorflow-great-barrier-reef/data  \n",
    "\n",
    "kaggle API usage  \n",
    "https://colab.research.google.com/github/corrieann/kaggle/blob/master/kaggle_api_in_colab.ipynb"
   ]
  },
  {
   "cell_type": "code",
   "execution_count": 1,
   "id": "ee2ef4df",
   "metadata": {
    "execution": {
     "iopub.execute_input": "2022-02-05T09:20:06.213478Z",
     "iopub.status.busy": "2022-02-05T09:20:06.211948Z",
     "iopub.status.idle": "2022-02-05T09:20:06.215557Z",
     "shell.execute_reply": "2022-02-05T09:20:06.215999Z",
     "shell.execute_reply.started": "2022-02-05T09:19:19.884887Z"
    },
    "id": "n-JPBh1fETGF",
    "outputId": "4f1205dc-f60f-4353-f9d6-e9ca749934dd",
    "papermill": {
     "duration": 0.023875,
     "end_time": "2022-02-05T09:20:06.216268",
     "exception": false,
     "start_time": "2022-02-05T09:20:06.192393",
     "status": "completed"
    },
    "tags": []
   },
   "outputs": [],
   "source": [
    "# !pip install kaggle\n",
    "# !pip install --upgrade --force-reinstall --no-deps kaggle"
   ]
  },
  {
   "cell_type": "code",
   "execution_count": 2,
   "id": "6ca9cfcc",
   "metadata": {
    "execution": {
     "iopub.execute_input": "2022-02-05T09:20:06.251453Z",
     "iopub.status.busy": "2022-02-05T09:20:06.250885Z",
     "iopub.status.idle": "2022-02-05T09:20:06.253532Z",
     "shell.execute_reply": "2022-02-05T09:20:06.253091Z",
     "shell.execute_reply.started": "2022-02-05T09:19:19.910388Z"
    },
    "id": "Z27ke3uEchVJ",
    "outputId": "1bc4d761-0381-495e-e513-3774c3679ee6",
    "papermill": {
     "duration": 0.022858,
     "end_time": "2022-02-05T09:20:06.253676",
     "exception": false,
     "start_time": "2022-02-05T09:20:06.230818",
     "status": "completed"
    },
    "tags": []
   },
   "outputs": [],
   "source": [
    "# from google.colab import files\n",
    "# \n",
    "# uploaded = files.upload()\n",
    "# \n",
    "# for fn in uploaded.keys():\n",
    "#   print('User uploaded file \"{name}\" with length {length} bytes'.format(\n",
    "#       name=fn, length=len(uploaded[fn])))\n",
    "#   \n",
    "# Then move kaggle.json into the folder where the API expects to find it.\n",
    "# !mkdir -p ~/.kaggle/ && mv kaggle.json ~/.kaggle/ && chmod 600 ~/.kaggle/kaggle.json"
   ]
  },
  {
   "cell_type": "code",
   "execution_count": 3,
   "id": "da4740c3",
   "metadata": {
    "execution": {
     "iopub.execute_input": "2022-02-05T09:20:06.286749Z",
     "iopub.status.busy": "2022-02-05T09:20:06.286121Z",
     "iopub.status.idle": "2022-02-05T09:20:06.288184Z",
     "shell.execute_reply": "2022-02-05T09:20:06.288633Z",
     "shell.execute_reply.started": "2022-02-05T09:19:19.916062Z"
    },
    "id": "6JXwYXTxc8D4",
    "outputId": "ffa59142-86e1-4c2d-e270-fdacce817b9a",
    "papermill": {
     "duration": 0.021023,
     "end_time": "2022-02-05T09:20:06.288804",
     "exception": false,
     "start_time": "2022-02-05T09:20:06.267781",
     "status": "completed"
    },
    "tags": []
   },
   "outputs": [],
   "source": [
    "# !kaggle competitions download -c tensorflow-great-barrier-reef"
   ]
  },
  {
   "cell_type": "code",
   "execution_count": 4,
   "id": "359ccf4a",
   "metadata": {
    "execution": {
     "iopub.execute_input": "2022-02-05T09:20:06.320761Z",
     "iopub.status.busy": "2022-02-05T09:20:06.320149Z",
     "iopub.status.idle": "2022-02-05T09:20:06.322782Z",
     "shell.execute_reply": "2022-02-05T09:20:06.322290Z",
     "shell.execute_reply.started": "2022-02-05T09:19:19.931618Z"
    },
    "id": "D18RwmYWwO84",
    "papermill": {
     "duration": 0.020025,
     "end_time": "2022-02-05T09:20:06.322913",
     "exception": false,
     "start_time": "2022-02-05T09:20:06.302888",
     "status": "completed"
    },
    "tags": []
   },
   "outputs": [],
   "source": [
    "# !unzip -q /content/tensorflow-great-barrier-reef.zip "
   ]
  },
  {
   "cell_type": "markdown",
   "id": "1ee1e867",
   "metadata": {
    "id": "woh5Odk0V7lU",
    "papermill": {
     "duration": 0.013748,
     "end_time": "2022-02-05T09:20:06.350791",
     "exception": false,
     "start_time": "2022-02-05T09:20:06.337043",
     "status": "completed"
    },
    "tags": []
   },
   "source": [
    "# Session 1\n",
    "---\n",
    "Useful links  \n",
    "- [YOLOv5 - Train Custom Data github](https://github.com/ultralytics/yolov5/wiki/Train-Custom-Data)  \n"
   ]
  },
  {
   "cell_type": "code",
   "execution_count": 5,
   "id": "452d2400",
   "metadata": {
    "execution": {
     "iopub.execute_input": "2022-02-05T09:20:06.388909Z",
     "iopub.status.busy": "2022-02-05T09:20:06.388268Z",
     "iopub.status.idle": "2022-02-05T09:20:06.391122Z",
     "shell.execute_reply": "2022-02-05T09:20:06.391549Z",
     "shell.execute_reply.started": "2022-02-05T09:19:19.944054Z"
    },
    "id": "acWPF0FJFpZ9",
    "papermill": {
     "duration": 0.026865,
     "end_time": "2022-02-05T09:20:06.391727",
     "exception": false,
     "start_time": "2022-02-05T09:20:06.364862",
     "status": "completed"
    },
    "tags": []
   },
   "outputs": [
    {
     "data": {
      "text/plain": [
       "\"\\n# create hierarchy\\nimport os\\n\\nfor f1 in 'train', 'val', 'test':\\n  for f2 in 'images', 'labels':\\n    os.makedirs(f'/content/Datasets/{f1}/{f2}')\\n    \\n\""
      ]
     },
     "execution_count": 5,
     "metadata": {},
     "output_type": "execute_result"
    }
   ],
   "source": [
    "\"\"\"\n",
    "# create hierarchy\n",
    "import os\n",
    "\n",
    "for f1 in 'train', 'val', 'test':\n",
    "  for f2 in 'images', 'labels':\n",
    "    os.makedirs(f'/content/Datasets/{f1}/{f2}')\n",
    "    \n",
    "\"\"\""
   ]
  },
  {
   "cell_type": "code",
   "execution_count": 6,
   "id": "e00f33ac",
   "metadata": {
    "execution": {
     "iopub.execute_input": "2022-02-05T09:20:06.426968Z",
     "iopub.status.busy": "2022-02-05T09:20:06.426276Z",
     "iopub.status.idle": "2022-02-05T09:20:06.431814Z",
     "shell.execute_reply": "2022-02-05T09:20:06.432308Z",
     "shell.execute_reply.started": "2022-02-05T09:19:19.959737Z"
    },
    "id": "rTz8Sn-rBrRs",
    "papermill": {
     "duration": 0.025561,
     "end_time": "2022-02-05T09:20:06.432471",
     "exception": false,
     "start_time": "2022-02-05T09:20:06.406910",
     "status": "completed"
    },
    "tags": []
   },
   "outputs": [
    {
     "data": {
      "text/plain": [
       "\"\\n# get train.csv\\nimport pandas as pd\\n\\ndf_train = pd.read_csv('train.csv')\\ndf_test = pd.read_csv('test.csv')\\ndf_train\\n\""
      ]
     },
     "execution_count": 6,
     "metadata": {},
     "output_type": "execute_result"
    }
   ],
   "source": [
    "\"\"\"\n",
    "# get train.csv\n",
    "import pandas as pd\n",
    "\n",
    "df_train = pd.read_csv('train.csv')\n",
    "df_test = pd.read_csv('test.csv')\n",
    "df_train\n",
    "\"\"\""
   ]
  },
  {
   "cell_type": "code",
   "execution_count": 7,
   "id": "a939c91e",
   "metadata": {
    "execution": {
     "iopub.execute_input": "2022-02-05T09:20:06.472164Z",
     "iopub.status.busy": "2022-02-05T09:20:06.471466Z",
     "iopub.status.idle": "2022-02-05T09:20:06.476709Z",
     "shell.execute_reply": "2022-02-05T09:20:06.477311Z",
     "shell.execute_reply.started": "2022-02-05T09:19:19.973841Z"
    },
    "id": "baUKP2WntbEV",
    "papermill": {
     "duration": 0.024352,
     "end_time": "2022-02-05T09:20:06.477489",
     "exception": false,
     "start_time": "2022-02-05T09:20:06.453137",
     "status": "completed"
    },
    "tags": []
   },
   "outputs": [
    {
     "data": {
      "text/plain": [
       "'\\ndef annotation2YoloFormat(_annotation, width=1280, height=720):\\n  out = \\'\\'\\n  if isinstance(_annotation,str):\\n    a = _annotation\\n    while True:\\n      ix = a.find(\"\\'x\\': \")\\n      iy = a.find(\"\\'y\\': \")\\n      iw = a.find(\"\\'width\\': \")\\n      ih = a.find(\"\\'height\\': \")\\n      \\n      if ix < 0 or iy < 0 or iw < 0 or ih < 0:\\n        break\\n\\n      x = float(a[ix + len(\"\\'x\\': \"):a.find(\", \\'y\")])/width\\n      y = float(a[iy + len(\"\\'y\\': \"):a.find(\", \\'w\")])/height\\n      w = float(a[iw + len(\"\\'width\\': \"):a.find(\", \\'h\")])/width\\n      h = float(a[ih + len(\"\\'height\\': \"):a.find(\\'}\\')])/height\\n      \\n      \\n      out += \\'0 %.6f %.6f %.6f %.6f\\n\\'%(x+w/2, y+h/2, w, h)\\n      a = a[a.find(\\'}\\')+1:]\\n    \\n    out = out[:-1]\\n  return out\\n  '"
      ]
     },
     "execution_count": 7,
     "metadata": {},
     "output_type": "execute_result"
    }
   ],
   "source": [
    "\"\"\"\n",
    "def annotation2YoloFormat(_annotation, width=1280, height=720):\n",
    "  out = ''\n",
    "  if isinstance(_annotation,str):\n",
    "    a = _annotation\n",
    "    while True:\n",
    "      ix = a.find(\"'x': \")\n",
    "      iy = a.find(\"'y': \")\n",
    "      iw = a.find(\"'width': \")\n",
    "      ih = a.find(\"'height': \")\n",
    "      \n",
    "      if ix < 0 or iy < 0 or iw < 0 or ih < 0:\n",
    "        break\n",
    "\n",
    "      x = float(a[ix + len(\"'x': \"):a.find(\", 'y\")])/width\n",
    "      y = float(a[iy + len(\"'y': \"):a.find(\", 'w\")])/height\n",
    "      w = float(a[iw + len(\"'width': \"):a.find(\", 'h\")])/width\n",
    "      h = float(a[ih + len(\"'height': \"):a.find('}')])/height\n",
    "      \n",
    "      \n",
    "      out += '0 %.6f %.6f %.6f %.6f\\n'%(x+w/2, y+h/2, w, h)\n",
    "      a = a[a.find('}')+1:]\n",
    "    \n",
    "    out = out[:-1]\n",
    "  return out\n",
    "  \"\"\""
   ]
  },
  {
   "cell_type": "code",
   "execution_count": 8,
   "id": "90a10927",
   "metadata": {
    "execution": {
     "iopub.execute_input": "2022-02-05T09:20:06.520770Z",
     "iopub.status.busy": "2022-02-05T09:20:06.513980Z",
     "iopub.status.idle": "2022-02-05T09:20:06.522633Z",
     "shell.execute_reply": "2022-02-05T09:20:06.523109Z",
     "shell.execute_reply.started": "2022-02-05T09:19:19.989030Z"
    },
    "id": "uqxZ_4iaW1Gg",
    "outputId": "93498d40-98f2-49b3-b333-23e792e581c4",
    "papermill": {
     "duration": 0.026751,
     "end_time": "2022-02-05T09:20:06.523268",
     "exception": false,
     "start_time": "2022-02-05T09:20:06.496517",
     "status": "completed"
    },
    "tags": []
   },
   "outputs": [
    {
     "data": {
      "text/plain": [
       "'\\n# read images from /content/train_images\\n# change name\\n# save the image to train | val | test. ratio = 0.64 : 0.16 : 0.2\\n# create corresponding txt file and save\\n\\n# change image name to image id\\n# split images by train:val:test = .64:.16:.2\\nimport shutil\\nimport os\\nimport random\\nrandom.seed(31415)\\n%cd train_images\\n\\nTEST_DIRECTORY = \"../Datasets/test\"\\nTRAIN_DIRECTORY = \"../Datasets/train\"\\nVAL_DIRECTORY = \"../Datasets/val\"\\n\\nfor dir in os.listdir():\\n  # print(dir)\\n  for image in os.listdir(dir):\\n    annot = df_train.loc[df_train[\\'image_id\\']==f\\'{dir[-1]}-{image[:-4]}\\', \\'annotations\\'].iloc[0]\\n    if annot != \\'[]\\':\\n      random_key = random.random()\\n      if random_key < 0.64:\\n        random_folder = TRAIN_DIRECTORY\\n      elif random_key < 0.8:\\n        random_folder = VAL_DIRECTORY\\n      else:\\n        random_folder = TEST_DIRECTORY\\n      shutil.move(f\\'{dir}/{image}\\', f\"../Datasets/{random_folder}/images/{dir[-1]}-{image}\")\\n\\n      # might add label as well while in iteration\\n      # as YOLO format [{xywh},{},...]\\n      f = open(f\"../Datasets/{random_folder}/labels/{dir[-1]}-{image[:-4]}.txt\", \\'w\\')\\n      f.write(annotation2YoloFormat(annot))\\n      f.close()\\n\\n%cd ..\\n!rm -rf train_images/\\n'"
      ]
     },
     "execution_count": 8,
     "metadata": {},
     "output_type": "execute_result"
    }
   ],
   "source": [
    "\"\"\"\n",
    "# read images from /content/train_images\n",
    "# change name\n",
    "# save the image to train | val | test. ratio = 0.64 : 0.16 : 0.2\n",
    "# create corresponding txt file and save\n",
    "\n",
    "# change image name to image id\n",
    "# split images by train:val:test = .64:.16:.2\n",
    "import shutil\n",
    "import os\n",
    "import random\n",
    "random.seed(31415)\n",
    "%cd train_images\n",
    "\n",
    "TEST_DIRECTORY = \"../Datasets/test\"\n",
    "TRAIN_DIRECTORY = \"../Datasets/train\"\n",
    "VAL_DIRECTORY = \"../Datasets/val\"\n",
    "\n",
    "for dir in os.listdir():\n",
    "  # print(dir)\n",
    "  for image in os.listdir(dir):\n",
    "    annot = df_train.loc[df_train['image_id']==f'{dir[-1]}-{image[:-4]}', 'annotations'].iloc[0]\n",
    "    if annot != '[]':\n",
    "      random_key = random.random()\n",
    "      if random_key < 0.64:\n",
    "        random_folder = TRAIN_DIRECTORY\n",
    "      elif random_key < 0.8:\n",
    "        random_folder = VAL_DIRECTORY\n",
    "      else:\n",
    "        random_folder = TEST_DIRECTORY\n",
    "      shutil.move(f'{dir}/{image}', f\"../Datasets/{random_folder}/images/{dir[-1]}-{image}\")\n",
    "\n",
    "      # might add label as well while in iteration\n",
    "      # as YOLO format [{xywh},{},...]\n",
    "      f = open(f\"../Datasets/{random_folder}/labels/{dir[-1]}-{image[:-4]}.txt\", 'w')\n",
    "      f.write(annotation2YoloFormat(annot))\n",
    "      f.close()\n",
    "\n",
    "%cd ..\n",
    "!rm -rf train_images/\n",
    "\"\"\""
   ]
  },
  {
   "cell_type": "code",
   "execution_count": 9,
   "id": "9a0b320b",
   "metadata": {
    "execution": {
     "iopub.execute_input": "2022-02-05T09:20:06.557226Z",
     "iopub.status.busy": "2022-02-05T09:20:06.556311Z",
     "iopub.status.idle": "2022-02-05T09:20:06.561252Z",
     "shell.execute_reply": "2022-02-05T09:20:06.561858Z",
     "shell.execute_reply.started": "2022-02-05T09:19:20.009658Z"
    },
    "id": "wbvMlHd_QwMG",
    "outputId": "50453b58-4b1e-4f75-9895-20f78a36a203",
    "papermill": {
     "duration": 0.02362,
     "end_time": "2022-02-05T09:20:06.562023",
     "exception": false,
     "start_time": "2022-02-05T09:20:06.538403",
     "status": "completed"
    },
    "tags": []
   },
   "outputs": [
    {
     "data": {
      "text/plain": [
       "'\\n#!git clone https://github.com/ultralytics/yolov5  # clone\\n%cd yolov5\\n%pip install -r requirements.txt  # install\\n\\nimport torch\\nfrom yolov5 import utils\\n# display = utils.notebook_init()  # checks\\n'"
      ]
     },
     "execution_count": 9,
     "metadata": {},
     "output_type": "execute_result"
    }
   ],
   "source": [
    "\"\"\"\n",
    "#!git clone https://github.com/ultralytics/yolov5  # clone\n",
    "%cd yolov5\n",
    "%pip install -r requirements.txt  # install\n",
    "\n",
    "import torch\n",
    "from yolov5 import utils\n",
    "# display = utils.notebook_init()  # checks\n",
    "\"\"\""
   ]
  },
  {
   "cell_type": "markdown",
   "id": "3ca6c4dd",
   "metadata": {
    "id": "W4SnuptqeYiA",
    "papermill": {
     "duration": 0.015247,
     "end_time": "2022-02-05T09:20:06.593535",
     "exception": false,
     "start_time": "2022-02-05T09:20:06.578288",
     "status": "completed"
    },
    "tags": []
   },
   "source": [
    "# Under /content/yolov5"
   ]
  },
  {
   "cell_type": "code",
   "execution_count": 10,
   "id": "dbe08768",
   "metadata": {
    "execution": {
     "iopub.execute_input": "2022-02-05T09:20:06.629259Z",
     "iopub.status.busy": "2022-02-05T09:20:06.628453Z",
     "iopub.status.idle": "2022-02-05T09:20:06.631318Z",
     "shell.execute_reply": "2022-02-05T09:20:06.631868Z",
     "shell.execute_reply.started": "2022-02-05T09:19:20.030939Z"
    },
    "id": "KUO-ZP2gLdpT",
    "outputId": "627b7e3a-7c82-4c2e-a5e3-f48b94f66ee2",
    "papermill": {
     "duration": 0.023128,
     "end_time": "2022-02-05T09:20:06.632027",
     "exception": false,
     "start_time": "2022-02-05T09:20:06.608899",
     "status": "completed"
    },
    "tags": []
   },
   "outputs": [
    {
     "data": {
      "text/plain": [
       "'\\n# create yaml file and save to /data (your at /content/yolov5)\\n# https://drive.google.com/file/d/1BBrQ5_1urHvJdYOmYPR-HalMeF9dnK37/view?usp=sharing\\n!gdown --id 1BBrQ5_1urHvJdYOmYPR-HalMeF9dnK37 -O /content/yolov5/data/GBR.yaml\\n'"
      ]
     },
     "execution_count": 10,
     "metadata": {},
     "output_type": "execute_result"
    }
   ],
   "source": [
    "\"\"\"\n",
    "# create yaml file and save to /data (your at /content/yolov5)\n",
    "# https://drive.google.com/file/d/1BBrQ5_1urHvJdYOmYPR-HalMeF9dnK37/view?usp=sharing\n",
    "!gdown --id 1BBrQ5_1urHvJdYOmYPR-HalMeF9dnK37 -O /content/yolov5/data/GBR.yaml\n",
    "\"\"\""
   ]
  },
  {
   "cell_type": "code",
   "execution_count": 11,
   "id": "3a0c6417",
   "metadata": {
    "execution": {
     "iopub.execute_input": "2022-02-05T09:20:06.667772Z",
     "iopub.status.busy": "2022-02-05T09:20:06.667040Z",
     "iopub.status.idle": "2022-02-05T09:20:06.669526Z",
     "shell.execute_reply": "2022-02-05T09:20:06.669056Z",
     "shell.execute_reply.started": "2022-02-05T09:19:20.045224Z"
    },
    "id": "k47ZnEx4L8hF",
    "papermill": {
     "duration": 0.021729,
     "end_time": "2022-02-05T09:20:06.669668",
     "exception": false,
     "start_time": "2022-02-05T09:20:06.647939",
     "status": "completed"
    },
    "tags": []
   },
   "outputs": [],
   "source": [
    "# Train YOLOv5s on COCO128 for 3 epochs\n",
    "# --img : image size (size,size)\n",
    "# --batch : batch size\n",
    "# --epochs : epochs\n",
    "# --data : .yaml file name\n",
    "# --weights : pretrained weights ('' --cfg yolov5s.yaml if from scratch)\n",
    "# !python train.py --img 720 --batch 20 --epochs 12 --data GBR.yaml --weights yolov5m.pt"
   ]
  },
  {
   "cell_type": "markdown",
   "id": "a0acf468",
   "metadata": {
    "id": "Q_KfojRcfSUP",
    "papermill": {
     "duration": 0.015215,
     "end_time": "2022-02-05T09:20:06.700451",
     "exception": false,
     "start_time": "2022-02-05T09:20:06.685236",
     "status": "completed"
    },
    "tags": []
   },
   "source": [
    "# Visualization"
   ]
  },
  {
   "cell_type": "code",
   "execution_count": 12,
   "id": "ce54d434",
   "metadata": {
    "execution": {
     "iopub.execute_input": "2022-02-05T09:20:06.735951Z",
     "iopub.status.busy": "2022-02-05T09:20:06.735367Z",
     "iopub.status.idle": "2022-02-05T09:20:06.739371Z",
     "shell.execute_reply": "2022-02-05T09:20:06.739817Z",
     "shell.execute_reply.started": "2022-02-05T09:19:20.055648Z"
    },
    "id": "q2PShNdCSrMV",
    "papermill": {
     "duration": 0.024015,
     "end_time": "2022-02-05T09:20:06.739975",
     "exception": false,
     "start_time": "2022-02-05T09:20:06.715960",
     "status": "completed"
    },
    "tags": []
   },
   "outputs": [
    {
     "data": {
      "text/plain": [
       "'\\n%cd /content/yolov5\\n!python detect.py --img 640 --source ../Datasets/test/images --weights runs/train/exp2/weights/best.pt --data data/GBR.yaml --nosave --save-txt --save-conf --conf-thres 0.01 --iou-thres 0.3 --max-det 100\\n'"
      ]
     },
     "execution_count": 12,
     "metadata": {},
     "output_type": "execute_result"
    }
   ],
   "source": [
    "\"\"\"\n",
    "%cd /content/yolov5\n",
    "!python detect.py --img 640\\\n",
    " --source ../Datasets/test/images\\\n",
    " --weights runs/train/exp2/weights/best.pt\\\n",
    " --data data/GBR.yaml\\\n",
    " --nosave\\\n",
    " --save-txt\\\n",
    " --save-conf\\\n",
    " --conf-thres 0.01\\\n",
    " --iou-thres 0.3\\\n",
    " --max-det 100\n",
    "\"\"\""
   ]
  },
  {
   "cell_type": "code",
   "execution_count": 13,
   "id": "5131ac70",
   "metadata": {
    "execution": {
     "iopub.execute_input": "2022-02-05T09:20:06.779316Z",
     "iopub.status.busy": "2022-02-05T09:20:06.778401Z",
     "iopub.status.idle": "2022-02-05T09:20:06.782921Z",
     "shell.execute_reply": "2022-02-05T09:20:06.783486Z",
     "shell.execute_reply.started": "2022-02-05T09:19:20.074038Z"
    },
    "id": "xKNDhrelf9YI",
    "papermill": {
     "duration": 0.027841,
     "end_time": "2022-02-05T09:20:06.783650",
     "exception": false,
     "start_time": "2022-02-05T09:20:06.755809",
     "status": "completed"
    },
    "tags": []
   },
   "outputs": [
    {
     "data": {
      "text/plain": [
       "'\\n%cd /content/yolov5/runs/detect/exp2/labels\\n!zip /content/exp_pred_labels.zip *.txt\\n%cd /content/Datasets/test/labels\\n!zip /content/exp_true_labels.zip *.txt\\n%cd /content\\n'"
      ]
     },
     "execution_count": 13,
     "metadata": {},
     "output_type": "execute_result"
    }
   ],
   "source": [
    "\"\"\"\n",
    "%cd /content/yolov5/runs/detect/exp2/labels\n",
    "!zip /content/exp_pred_labels.zip *.txt\n",
    "%cd /content/Datasets/test/labels\n",
    "!zip /content/exp_true_labels.zip *.txt\n",
    "%cd /content\n",
    "\"\"\""
   ]
  },
  {
   "cell_type": "code",
   "execution_count": 14,
   "id": "722eb8ac",
   "metadata": {
    "execution": {
     "iopub.execute_input": "2022-02-05T09:20:06.826358Z",
     "iopub.status.busy": "2022-02-05T09:20:06.825617Z",
     "iopub.status.idle": "2022-02-05T09:20:06.831496Z",
     "shell.execute_reply": "2022-02-05T09:20:06.832117Z",
     "shell.execute_reply.started": "2022-02-05T09:19:20.090117Z"
    },
    "id": "zbmSxR7vPdf9",
    "papermill": {
     "duration": 0.027541,
     "end_time": "2022-02-05T09:20:06.832296",
     "exception": false,
     "start_time": "2022-02-05T09:20:06.804755",
     "status": "completed"
    },
    "tags": []
   },
   "outputs": [
    {
     "data": {
      "text/plain": [
       "\"\\n%cd /content/yolov5\\n# visualize\\nfrom utils.plots import plot_results \\nplot_results('./runs/train/exp2/results.csv')  # plot 'results.csv' as 'results.png'\\n\""
      ]
     },
     "execution_count": 14,
     "metadata": {},
     "output_type": "execute_result"
    }
   ],
   "source": [
    "\"\"\"\n",
    "%cd /content/yolov5\n",
    "# visualize\n",
    "from utils.plots import plot_results \n",
    "plot_results('./runs/train/exp2/results.csv')  # plot 'results.csv' as 'results.png'\n",
    "\"\"\""
   ]
  },
  {
   "cell_type": "code",
   "execution_count": 15,
   "id": "e929d35d",
   "metadata": {
    "execution": {
     "iopub.execute_input": "2022-02-05T09:20:06.871533Z",
     "iopub.status.busy": "2022-02-05T09:20:06.870993Z",
     "iopub.status.idle": "2022-02-05T09:20:06.875093Z",
     "shell.execute_reply": "2022-02-05T09:20:06.875558Z",
     "shell.execute_reply.started": "2022-02-05T09:19:20.103964Z"
    },
    "id": "nEbL6eJre3PK",
    "outputId": "cca9b36c-c7e2-4698-ecd6-fdf7757b72e5",
    "papermill": {
     "duration": 0.023487,
     "end_time": "2022-02-05T09:20:06.875734",
     "exception": false,
     "start_time": "2022-02-05T09:20:06.852247",
     "status": "completed"
    },
    "tags": []
   },
   "outputs": [
    {
     "data": {
      "text/plain": [
       "\"\\nimport cv2\\nfrom google.colab.patches import cv2_imshow\\ncv2_imshow(cv2.imread('./runs/train/exp2/results.png'))\\n\""
      ]
     },
     "execution_count": 15,
     "metadata": {},
     "output_type": "execute_result"
    }
   ],
   "source": [
    "\"\"\"\n",
    "import cv2\n",
    "from google.colab.patches import cv2_imshow\n",
    "cv2_imshow(cv2.imread('./runs/train/exp2/results.png'))\n",
    "\"\"\""
   ]
  },
  {
   "cell_type": "markdown",
   "id": "f49f556b",
   "metadata": {
    "id": "0_cqT7bKx25g",
    "papermill": {
     "duration": 0.016263,
     "end_time": "2022-02-05T09:20:06.908639",
     "exception": false,
     "start_time": "2022-02-05T09:20:06.892376",
     "status": "completed"
    },
    "tags": []
   },
   "source": [
    "# Submit"
   ]
  },
  {
   "cell_type": "code",
   "execution_count": 16,
   "id": "66aefc19",
   "metadata": {
    "execution": {
     "iopub.execute_input": "2022-02-05T09:20:06.944839Z",
     "iopub.status.busy": "2022-02-05T09:20:06.944254Z",
     "iopub.status.idle": "2022-02-05T09:20:06.948398Z",
     "shell.execute_reply": "2022-02-05T09:20:06.948899Z",
     "shell.execute_reply.started": "2022-02-05T09:19:20.117482Z"
    },
    "id": "nAKkcSqpxwIH",
    "outputId": "1db0f795-4efb-4cb0-a309-e53e02507a3e",
    "papermill": {
     "duration": 0.023764,
     "end_time": "2022-02-05T09:20:06.949055",
     "exception": false,
     "start_time": "2022-02-05T09:20:06.925291",
     "status": "completed"
    },
    "tags": []
   },
   "outputs": [
    {
     "data": {
      "text/plain": [
       "'\\n# https://drive.google.com/file/d/1Koc5DW5obyZ5blVzdP5EHeaFDfmUNkE0/view?usp=sharing\\n# save custom detect.py to /content/yolov5/detect2.py\\n!gdown --id 1Koc5DW5obyZ5blVzdP5EHeaFDfmUNkE0 -O /content/yolov5/detect2.py\\n\\n# https://drive.google.com/file/d/1JMNnFYJOgKZTA1a0RGBMbRO2EFouZU4K/view?usp=sharing\\n# save custom datasets.py to /content/yolov5/utils/datasets.py\\n!gdown --id 1JMNnFYJOgKZTA1a0RGBMbRO2EFouZU4K -O /content/yolov5/utils/datasets.py\\n'"
      ]
     },
     "execution_count": 16,
     "metadata": {},
     "output_type": "execute_result"
    }
   ],
   "source": [
    "\"\"\"\n",
    "# https://drive.google.com/file/d/1Koc5DW5obyZ5blVzdP5EHeaFDfmUNkE0/view?usp=sharing\n",
    "# save custom detect.py to /content/yolov5/detect2.py\n",
    "!gdown --id 1Koc5DW5obyZ5blVzdP5EHeaFDfmUNkE0 -O /content/yolov5/detect2.py\n",
    "\n",
    "# https://drive.google.com/file/d/1JMNnFYJOgKZTA1a0RGBMbRO2EFouZU4K/view?usp=sharing\n",
    "# save custom datasets.py to /content/yolov5/utils/datasets.py\n",
    "!gdown --id 1JMNnFYJOgKZTA1a0RGBMbRO2EFouZU4K -O /content/yolov5/utils/datasets.py\n",
    "\"\"\""
   ]
  },
  {
   "cell_type": "code",
   "execution_count": 17,
   "id": "656df8d7",
   "metadata": {
    "execution": {
     "iopub.execute_input": "2022-02-05T09:20:06.985836Z",
     "iopub.status.busy": "2022-02-05T09:20:06.985230Z",
     "iopub.status.idle": "2022-02-05T09:20:06.988048Z",
     "shell.execute_reply": "2022-02-05T09:20:06.988512Z",
     "shell.execute_reply.started": "2022-02-05T09:19:20.128622Z"
    },
    "papermill": {
     "duration": 0.02265,
     "end_time": "2022-02-05T09:20:06.988685",
     "exception": false,
     "start_time": "2022-02-05T09:20:06.966035",
     "status": "completed"
    },
    "tags": []
   },
   "outputs": [],
   "source": [
    "# %cd ./working"
   ]
  },
  {
   "cell_type": "code",
   "execution_count": 18,
   "id": "36de98e7",
   "metadata": {
    "execution": {
     "iopub.execute_input": "2022-02-05T09:20:07.026458Z",
     "iopub.status.busy": "2022-02-05T09:20:07.025906Z",
     "iopub.status.idle": "2022-02-05T09:20:13.885579Z",
     "shell.execute_reply": "2022-02-05T09:20:13.886087Z",
     "shell.execute_reply.started": "2022-02-05T09:19:20.140852Z"
    },
    "id": "vR49Yu5bbkOO",
    "outputId": "42db54c0-eb3f-4267-e888-d9d9ede498c5",
    "papermill": {
     "duration": 6.880624,
     "end_time": "2022-02-05T09:20:13.886248",
     "exception": false,
     "start_time": "2022-02-05T09:20:07.005624",
     "status": "completed"
    },
    "tags": []
   },
   "outputs": [
    {
     "name": "stdout",
     "output_type": "stream",
     "text": [
      "/kaggle/input/yologithubrepoandsomecustom\n",
      "/kaggle/working\n",
      "__notebook__.ipynb\r\n"
     ]
    },
    {
     "name": "stderr",
     "output_type": "stream",
     "text": [
      "YOLOv5 🚀 v6.0-235-ge1a6a0b torch 1.9.1+cpu CPU\n",
      "\n",
      "Fusing layers... \n",
      "Model Summary: 290 layers, 20852934 parameters, 0 gradients\n",
      "WARNING: --img-size (640, 640) must be multiple of max stride 32, updating to [640, 640]\n"
     ]
    },
    {
     "name": "stdout",
     "output_type": "stream",
     "text": [
      "This version of the API is not optimized and should not be used to estimate the runtime of your code on the hidden test set.\n"
     ]
    }
   ],
   "source": [
    "# something like this...?\n",
    "import greatbarrierreef\n",
    "%cd ../input/yologithubrepoandsomecustom\n",
    "from yolov5.detect2 import run as detect2run\n",
    "%cd ../../working\n",
    "%ls\n",
    "\n",
    "detect2run(\n",
    "    weights='../input/yologithubrepoandsomecustom/yolov5/weights/best.pt',\n",
    "    data='../input/yologithubrepoandsomecustom/yolov5/data/GBR.yaml',\n",
    "    env=greatbarrierreef.make_env(),\n",
    "    conf_thres=0.01,\n",
    "    iou_thres=0.3,\n",
    "    max_det=100\n",
    ")"
   ]
  },
  {
   "cell_type": "code",
   "execution_count": 19,
   "id": "a4e046b1",
   "metadata": {
    "execution": {
     "iopub.execute_input": "2022-02-05T09:20:13.927326Z",
     "iopub.status.busy": "2022-02-05T09:20:13.926782Z",
     "iopub.status.idle": "2022-02-05T09:20:13.938319Z",
     "shell.execute_reply": "2022-02-05T09:20:13.938777Z",
     "shell.execute_reply.started": "2022-02-05T09:19:27.752978Z"
    },
    "papermill": {
     "duration": 0.033758,
     "end_time": "2022-02-05T09:20:13.938934",
     "exception": false,
     "start_time": "2022-02-05T09:20:13.905176",
     "status": "completed"
    },
    "tags": []
   },
   "outputs": [
    {
     "data": {
      "text/html": [
       "<div>\n",
       "<style scoped>\n",
       "    .dataframe tbody tr th:only-of-type {\n",
       "        vertical-align: middle;\n",
       "    }\n",
       "\n",
       "    .dataframe tbody tr th {\n",
       "        vertical-align: top;\n",
       "    }\n",
       "\n",
       "    .dataframe thead th {\n",
       "        text-align: right;\n",
       "    }\n",
       "</style>\n",
       "<table border=\"1\" class=\"dataframe\">\n",
       "  <thead>\n",
       "    <tr style=\"text-align: right;\">\n",
       "      <th></th>\n",
       "      <th>index</th>\n",
       "      <th>annotations</th>\n",
       "    </tr>\n",
       "  </thead>\n",
       "  <tbody>\n",
       "    <tr>\n",
       "      <th>0</th>\n",
       "      <td>0</td>\n",
       "      <td>0.197906 265 255 40 30</td>\n",
       "    </tr>\n",
       "    <tr>\n",
       "      <th>1</th>\n",
       "      <td>1</td>\n",
       "      <td>0.011626 261 260 37 28 0.011906 1234 667 45 50</td>\n",
       "    </tr>\n",
       "    <tr>\n",
       "      <th>2</th>\n",
       "      <td>2</td>\n",
       "      <td>0.052808 257 260 40 30</td>\n",
       "    </tr>\n",
       "  </tbody>\n",
       "</table>\n",
       "</div>"
      ],
      "text/plain": [
       "   index                                     annotations\n",
       "0      0                          0.197906 265 255 40 30\n",
       "1      1  0.011626 261 260 37 28 0.011906 1234 667 45 50\n",
       "2      2                          0.052808 257 260 40 30"
      ]
     },
     "execution_count": 19,
     "metadata": {},
     "output_type": "execute_result"
    }
   ],
   "source": [
    "import pandas\n",
    "submission_df = pandas.read_csv('./submission.csv')\n",
    "submission_df"
   ]
  }
 ],
 "metadata": {
  "kernelspec": {
   "display_name": "Python 3",
   "language": "python",
   "name": "python3"
  },
  "language_info": {
   "codemirror_mode": {
    "name": "ipython",
    "version": 3
   },
   "file_extension": ".py",
   "mimetype": "text/x-python",
   "name": "python",
   "nbconvert_exporter": "python",
   "pygments_lexer": "ipython3",
   "version": "3.7.12"
  },
  "papermill": {
   "default_parameters": {},
   "duration": 16.840156,
   "end_time": "2022-02-05T09:20:14.767445",
   "environment_variables": {},
   "exception": null,
   "input_path": "__notebook__.ipynb",
   "output_path": "__notebook__.ipynb",
   "parameters": {},
   "start_time": "2022-02-05T09:19:57.927289",
   "version": "2.3.3"
  }
 },
 "nbformat": 4,
 "nbformat_minor": 5
}
