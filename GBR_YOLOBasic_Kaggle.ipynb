{
 "cells": [
  {
   "cell_type": "markdown",
   "id": "bab79e7f",
   "metadata": {
    "id": "view-in-github",
    "papermill": {
     "duration": 0.015411,
     "end_time": "2022-02-08T01:40:21.245463",
     "exception": false,
     "start_time": "2022-02-08T01:40:21.230052",
     "status": "completed"
    },
    "tags": []
   },
   "source": [
    "<a href=\"https://colab.research.google.com/github/luanakwon/GreatBarrierReef/blob/main/GBR_YOLOBasic.ipynb\" target=\"_parent\"><img src=\"https://colab.research.google.com/assets/colab-badge.svg\" alt=\"Open In Colab\"/></a>"
   ]
  },
  {
   "cell_type": "markdown",
   "id": "e8c19bdb",
   "metadata": {
    "id": "Atikzzc0fL2v",
    "papermill": {
     "duration": 0.013954,
     "end_time": "2022-02-08T01:40:21.276435",
     "exception": false,
     "start_time": "2022-02-08T01:40:21.262481",
     "status": "completed"
    },
    "tags": []
   },
   "source": [
    "# Download dataset from kaggle api\n",
    "kaggle  \n",
    "https://www.kaggle.com/c/tensorflow-great-barrier-reef/data  \n",
    "\n",
    "kaggle API usage  \n",
    "https://colab.research.google.com/github/corrieann/kaggle/blob/master/kaggle_api_in_colab.ipynb"
   ]
  },
  {
   "cell_type": "code",
   "execution_count": 1,
   "id": "f4d5c853",
   "metadata": {
    "execution": {
     "iopub.execute_input": "2022-02-08T01:40:21.311532Z",
     "iopub.status.busy": "2022-02-08T01:40:21.309816Z",
     "iopub.status.idle": "2022-02-08T01:40:21.314258Z",
     "shell.execute_reply": "2022-02-08T01:40:21.314766Z",
     "shell.execute_reply.started": "2022-02-06T09:20:07.743556Z"
    },
    "id": "n-JPBh1fETGF",
    "outputId": "4f1205dc-f60f-4353-f9d6-e9ca749934dd",
    "papermill": {
     "duration": 0.024391,
     "end_time": "2022-02-08T01:40:21.315080",
     "exception": false,
     "start_time": "2022-02-08T01:40:21.290689",
     "status": "completed"
    },
    "tags": []
   },
   "outputs": [],
   "source": [
    "# !pip install kaggle\n",
    "# !pip install --upgrade --force-reinstall --no-deps kaggle"
   ]
  },
  {
   "cell_type": "code",
   "execution_count": 2,
   "id": "6f8c66f5",
   "metadata": {
    "execution": {
     "iopub.execute_input": "2022-02-08T01:40:21.347650Z",
     "iopub.status.busy": "2022-02-08T01:40:21.346750Z",
     "iopub.status.idle": "2022-02-08T01:40:21.350155Z",
     "shell.execute_reply": "2022-02-08T01:40:21.350672Z",
     "shell.execute_reply.started": "2022-02-06T09:20:07.765987Z"
    },
    "id": "Z27ke3uEchVJ",
    "outputId": "1bc4d761-0381-495e-e513-3774c3679ee6",
    "papermill": {
     "duration": 0.021223,
     "end_time": "2022-02-08T01:40:21.350823",
     "exception": false,
     "start_time": "2022-02-08T01:40:21.329600",
     "status": "completed"
    },
    "tags": []
   },
   "outputs": [],
   "source": [
    "# from google.colab import files\n",
    "# \n",
    "# uploaded = files.upload()\n",
    "# \n",
    "# for fn in uploaded.keys():\n",
    "#   print('User uploaded file \"{name}\" with length {length} bytes'.format(\n",
    "#       name=fn, length=len(uploaded[fn])))\n",
    "#   \n",
    "# Then move kaggle.json into the folder where the API expects to find it.\n",
    "# !mkdir -p ~/.kaggle/ && mv kaggle.json ~/.kaggle/ && chmod 600 ~/.kaggle/kaggle.json"
   ]
  },
  {
   "cell_type": "code",
   "execution_count": 3,
   "id": "55f3481e",
   "metadata": {
    "execution": {
     "iopub.execute_input": "2022-02-08T01:40:21.388374Z",
     "iopub.status.busy": "2022-02-08T01:40:21.387462Z",
     "iopub.status.idle": "2022-02-08T01:40:21.391226Z",
     "shell.execute_reply": "2022-02-08T01:40:21.391749Z",
     "shell.execute_reply.started": "2022-02-06T09:20:07.771626Z"
    },
    "id": "6JXwYXTxc8D4",
    "outputId": "ffa59142-86e1-4c2d-e270-fdacce817b9a",
    "papermill": {
     "duration": 0.026445,
     "end_time": "2022-02-08T01:40:21.391959",
     "exception": false,
     "start_time": "2022-02-08T01:40:21.365514",
     "status": "completed"
    },
    "tags": []
   },
   "outputs": [],
   "source": [
    "# !kaggle competitions download -c tensorflow-great-barrier-reef"
   ]
  },
  {
   "cell_type": "code",
   "execution_count": 4,
   "id": "26a461c6",
   "metadata": {
    "execution": {
     "iopub.execute_input": "2022-02-08T01:40:21.428096Z",
     "iopub.status.busy": "2022-02-08T01:40:21.427137Z",
     "iopub.status.idle": "2022-02-08T01:40:21.430264Z",
     "shell.execute_reply": "2022-02-08T01:40:21.430817Z",
     "shell.execute_reply.started": "2022-02-06T09:20:07.782785Z"
    },
    "id": "D18RwmYWwO84",
    "papermill": {
     "duration": 0.021985,
     "end_time": "2022-02-08T01:40:21.431016",
     "exception": false,
     "start_time": "2022-02-08T01:40:21.409031",
     "status": "completed"
    },
    "tags": []
   },
   "outputs": [],
   "source": [
    "# !unzip -q /content/tensorflow-great-barrier-reef.zip "
   ]
  },
  {
   "cell_type": "markdown",
   "id": "ae281e35",
   "metadata": {
    "id": "woh5Odk0V7lU",
    "papermill": {
     "duration": 0.017306,
     "end_time": "2022-02-08T01:40:21.462989",
     "exception": false,
     "start_time": "2022-02-08T01:40:21.445683",
     "status": "completed"
    },
    "tags": []
   },
   "source": [
    "# Session 1\n",
    "---\n",
    "Useful links  \n",
    "- [YOLOv5 - Train Custom Data github](https://github.com/ultralytics/yolov5/wiki/Train-Custom-Data)  \n"
   ]
  },
  {
   "cell_type": "code",
   "execution_count": 5,
   "id": "112c567e",
   "metadata": {
    "execution": {
     "iopub.execute_input": "2022-02-08T01:40:21.496118Z",
     "iopub.status.busy": "2022-02-08T01:40:21.495164Z",
     "iopub.status.idle": "2022-02-08T01:40:21.505593Z",
     "shell.execute_reply": "2022-02-08T01:40:21.506180Z",
     "shell.execute_reply.started": "2022-02-06T09:20:07.790945Z"
    },
    "id": "acWPF0FJFpZ9",
    "papermill": {
     "duration": 0.028314,
     "end_time": "2022-02-08T01:40:21.506344",
     "exception": false,
     "start_time": "2022-02-08T01:40:21.478030",
     "status": "completed"
    },
    "tags": []
   },
   "outputs": [
    {
     "data": {
      "text/plain": [
       "\"\\n# create hierarchy\\nimport os\\n\\nfor f1 in 'train', 'val', 'test':\\n  for f2 in 'images', 'labels':\\n    os.makedirs(f'/content/Datasets/{f1}/{f2}')\\n    \\n\""
      ]
     },
     "execution_count": 5,
     "metadata": {},
     "output_type": "execute_result"
    }
   ],
   "source": [
    "\"\"\"\n",
    "# create hierarchy\n",
    "import os\n",
    "\n",
    "for f1 in 'train', 'val', 'test':\n",
    "  for f2 in 'images', 'labels':\n",
    "    os.makedirs(f'/content/Datasets/{f1}/{f2}')\n",
    "    \n",
    "\"\"\""
   ]
  },
  {
   "cell_type": "code",
   "execution_count": 6,
   "id": "a414cc4d",
   "metadata": {
    "execution": {
     "iopub.execute_input": "2022-02-08T01:40:21.539681Z",
     "iopub.status.busy": "2022-02-08T01:40:21.538765Z",
     "iopub.status.idle": "2022-02-08T01:40:21.543524Z",
     "shell.execute_reply": "2022-02-08T01:40:21.544071Z",
     "shell.execute_reply.started": "2022-02-06T09:20:07.804407Z"
    },
    "id": "rTz8Sn-rBrRs",
    "papermill": {
     "duration": 0.022834,
     "end_time": "2022-02-08T01:40:21.544233",
     "exception": false,
     "start_time": "2022-02-08T01:40:21.521399",
     "status": "completed"
    },
    "tags": []
   },
   "outputs": [
    {
     "data": {
      "text/plain": [
       "\"\\n# get train.csv\\nimport pandas as pd\\n\\ndf_train = pd.read_csv('train.csv')\\ndf_test = pd.read_csv('test.csv')\\ndf_train\\n\""
      ]
     },
     "execution_count": 6,
     "metadata": {},
     "output_type": "execute_result"
    }
   ],
   "source": [
    "\"\"\"\n",
    "# get train.csv\n",
    "import pandas as pd\n",
    "\n",
    "df_train = pd.read_csv('train.csv')\n",
    "df_test = pd.read_csv('test.csv')\n",
    "df_train\n",
    "\"\"\""
   ]
  },
  {
   "cell_type": "code",
   "execution_count": 7,
   "id": "e4a3bc3c",
   "metadata": {
    "execution": {
     "iopub.execute_input": "2022-02-08T01:40:21.578337Z",
     "iopub.status.busy": "2022-02-08T01:40:21.577387Z",
     "iopub.status.idle": "2022-02-08T01:40:21.582806Z",
     "shell.execute_reply": "2022-02-08T01:40:21.583356Z",
     "shell.execute_reply.started": "2022-02-06T09:20:07.817396Z"
    },
    "id": "baUKP2WntbEV",
    "papermill": {
     "duration": 0.024258,
     "end_time": "2022-02-08T01:40:21.583517",
     "exception": false,
     "start_time": "2022-02-08T01:40:21.559259",
     "status": "completed"
    },
    "tags": []
   },
   "outputs": [
    {
     "data": {
      "text/plain": [
       "'\\ndef annotation2YoloFormat(_annotation, width=1280, height=720):\\n  out = \\'\\'\\n  if isinstance(_annotation,str):\\n    a = _annotation\\n    while True:\\n      ix = a.find(\"\\'x\\': \")\\n      iy = a.find(\"\\'y\\': \")\\n      iw = a.find(\"\\'width\\': \")\\n      ih = a.find(\"\\'height\\': \")\\n      \\n      if ix < 0 or iy < 0 or iw < 0 or ih < 0:\\n        break\\n\\n      x = float(a[ix + len(\"\\'x\\': \"):a.find(\", \\'y\")])/width\\n      y = float(a[iy + len(\"\\'y\\': \"):a.find(\", \\'w\")])/height\\n      w = float(a[iw + len(\"\\'width\\': \"):a.find(\", \\'h\")])/width\\n      h = float(a[ih + len(\"\\'height\\': \"):a.find(\\'}\\')])/height\\n      \\n      \\n      out += \\'0 %.6f %.6f %.6f %.6f\\n\\'%(x+w/2, y+h/2, w, h)\\n      a = a[a.find(\\'}\\')+1:]\\n    \\n    out = out[:-1]\\n  return out\\n  '"
      ]
     },
     "execution_count": 7,
     "metadata": {},
     "output_type": "execute_result"
    }
   ],
   "source": [
    "\"\"\"\n",
    "def annotation2YoloFormat(_annotation, width=1280, height=720):\n",
    "  out = ''\n",
    "  if isinstance(_annotation,str):\n",
    "    a = _annotation\n",
    "    while True:\n",
    "      ix = a.find(\"'x': \")\n",
    "      iy = a.find(\"'y': \")\n",
    "      iw = a.find(\"'width': \")\n",
    "      ih = a.find(\"'height': \")\n",
    "      \n",
    "      if ix < 0 or iy < 0 or iw < 0 or ih < 0:\n",
    "        break\n",
    "\n",
    "      x = float(a[ix + len(\"'x': \"):a.find(\", 'y\")])/width\n",
    "      y = float(a[iy + len(\"'y': \"):a.find(\", 'w\")])/height\n",
    "      w = float(a[iw + len(\"'width': \"):a.find(\", 'h\")])/width\n",
    "      h = float(a[ih + len(\"'height': \"):a.find('}')])/height\n",
    "      \n",
    "      \n",
    "      out += '0 %.6f %.6f %.6f %.6f\\n'%(x+w/2, y+h/2, w, h)\n",
    "      a = a[a.find('}')+1:]\n",
    "    \n",
    "    out = out[:-1]\n",
    "  return out\n",
    "  \"\"\""
   ]
  },
  {
   "cell_type": "code",
   "execution_count": 8,
   "id": "139c8d72",
   "metadata": {
    "execution": {
     "iopub.execute_input": "2022-02-08T01:40:21.617481Z",
     "iopub.status.busy": "2022-02-08T01:40:21.616543Z",
     "iopub.status.idle": "2022-02-08T01:40:21.622573Z",
     "shell.execute_reply": "2022-02-08T01:40:21.623150Z",
     "shell.execute_reply.started": "2022-02-06T09:20:07.827666Z"
    },
    "id": "uqxZ_4iaW1Gg",
    "outputId": "93498d40-98f2-49b3-b333-23e792e581c4",
    "papermill": {
     "duration": 0.024667,
     "end_time": "2022-02-08T01:40:21.623329",
     "exception": false,
     "start_time": "2022-02-08T01:40:21.598662",
     "status": "completed"
    },
    "tags": []
   },
   "outputs": [
    {
     "data": {
      "text/plain": [
       "'\\n# read images from /content/train_images\\n# change name\\n# save the image to train | val | test. ratio = 0.64 : 0.16 : 0.2\\n# create corresponding txt file and save\\n\\n# change image name to image id\\n# split images by train:val:test = .64:.16:.2\\nimport shutil\\nimport os\\nimport random\\nrandom.seed(31415)\\n%cd train_images\\n\\nTEST_DIRECTORY = \"../Datasets/test\"\\nTRAIN_DIRECTORY = \"../Datasets/train\"\\nVAL_DIRECTORY = \"../Datasets/val\"\\n\\nfor dir in os.listdir():\\n  # print(dir)\\n  for image in os.listdir(dir):\\n    annot = df_train.loc[df_train[\\'image_id\\']==f\\'{dir[-1]}-{image[:-4]}\\', \\'annotations\\'].iloc[0]\\n    if annot != \\'[]\\':\\n      random_key = random.random()\\n      if random_key < 0.64:\\n        random_folder = TRAIN_DIRECTORY\\n      elif random_key < 0.8:\\n        random_folder = VAL_DIRECTORY\\n      else:\\n        random_folder = TEST_DIRECTORY\\n      shutil.move(f\\'{dir}/{image}\\', f\"../Datasets/{random_folder}/images/{dir[-1]}-{image}\")\\n\\n      # might add label as well while in iteration\\n      # as YOLO format [{xywh},{},...]\\n      f = open(f\"../Datasets/{random_folder}/labels/{dir[-1]}-{image[:-4]}.txt\", \\'w\\')\\n      f.write(annotation2YoloFormat(annot))\\n      f.close()\\n\\n%cd ..\\n!rm -rf train_images/\\n'"
      ]
     },
     "execution_count": 8,
     "metadata": {},
     "output_type": "execute_result"
    }
   ],
   "source": [
    "\"\"\"\n",
    "# read images from /content/train_images\n",
    "# change name\n",
    "# save the image to train | val | test. ratio = 0.64 : 0.16 : 0.2\n",
    "# create corresponding txt file and save\n",
    "\n",
    "# change image name to image id\n",
    "# split images by train:val:test = .64:.16:.2\n",
    "import shutil\n",
    "import os\n",
    "import random\n",
    "random.seed(31415)\n",
    "%cd train_images\n",
    "\n",
    "TEST_DIRECTORY = \"../Datasets/test\"\n",
    "TRAIN_DIRECTORY = \"../Datasets/train\"\n",
    "VAL_DIRECTORY = \"../Datasets/val\"\n",
    "\n",
    "for dir in os.listdir():\n",
    "  # print(dir)\n",
    "  for image in os.listdir(dir):\n",
    "    annot = df_train.loc[df_train['image_id']==f'{dir[-1]}-{image[:-4]}', 'annotations'].iloc[0]\n",
    "    if annot != '[]':\n",
    "      random_key = random.random()\n",
    "      if random_key < 0.64:\n",
    "        random_folder = TRAIN_DIRECTORY\n",
    "      elif random_key < 0.8:\n",
    "        random_folder = VAL_DIRECTORY\n",
    "      else:\n",
    "        random_folder = TEST_DIRECTORY\n",
    "      shutil.move(f'{dir}/{image}', f\"../Datasets/{random_folder}/images/{dir[-1]}-{image}\")\n",
    "\n",
    "      # might add label as well while in iteration\n",
    "      # as YOLO format [{xywh},{},...]\n",
    "      f = open(f\"../Datasets/{random_folder}/labels/{dir[-1]}-{image[:-4]}.txt\", 'w')\n",
    "      f.write(annotation2YoloFormat(annot))\n",
    "      f.close()\n",
    "\n",
    "%cd ..\n",
    "!rm -rf train_images/\n",
    "\"\"\""
   ]
  },
  {
   "cell_type": "code",
   "execution_count": 9,
   "id": "60340332",
   "metadata": {
    "execution": {
     "iopub.execute_input": "2022-02-08T01:40:21.659386Z",
     "iopub.status.busy": "2022-02-08T01:40:21.658695Z",
     "iopub.status.idle": "2022-02-08T01:40:21.661913Z",
     "shell.execute_reply": "2022-02-08T01:40:21.661366Z",
     "shell.execute_reply.started": "2022-02-06T09:20:07.841028Z"
    },
    "id": "wbvMlHd_QwMG",
    "outputId": "50453b58-4b1e-4f75-9895-20f78a36a203",
    "papermill": {
     "duration": 0.023036,
     "end_time": "2022-02-08T01:40:21.662048",
     "exception": false,
     "start_time": "2022-02-08T01:40:21.639012",
     "status": "completed"
    },
    "tags": []
   },
   "outputs": [
    {
     "data": {
      "text/plain": [
       "'\\n#!git clone https://github.com/ultralytics/yolov5  # clone\\n%cd yolov5\\n%pip install -r requirements.txt  # install\\n\\nimport torch\\nfrom yolov5 import utils\\n# display = utils.notebook_init()  # checks\\n'"
      ]
     },
     "execution_count": 9,
     "metadata": {},
     "output_type": "execute_result"
    }
   ],
   "source": [
    "\"\"\"\n",
    "#!git clone https://github.com/ultralytics/yolov5  # clone\n",
    "%cd yolov5\n",
    "%pip install -r requirements.txt  # install\n",
    "\n",
    "import torch\n",
    "from yolov5 import utils\n",
    "# display = utils.notebook_init()  # checks\n",
    "\"\"\""
   ]
  },
  {
   "cell_type": "markdown",
   "id": "2d5c9346",
   "metadata": {
    "id": "W4SnuptqeYiA",
    "papermill": {
     "duration": 0.015376,
     "end_time": "2022-02-08T01:40:21.693336",
     "exception": false,
     "start_time": "2022-02-08T01:40:21.677960",
     "status": "completed"
    },
    "tags": []
   },
   "source": [
    "# Under /content/yolov5"
   ]
  },
  {
   "cell_type": "code",
   "execution_count": 10,
   "id": "89fcb68a",
   "metadata": {
    "execution": {
     "iopub.execute_input": "2022-02-08T01:40:21.729685Z",
     "iopub.status.busy": "2022-02-08T01:40:21.729081Z",
     "iopub.status.idle": "2022-02-08T01:40:21.733299Z",
     "shell.execute_reply": "2022-02-08T01:40:21.733782Z",
     "shell.execute_reply.started": "2022-02-06T09:20:07.854995Z"
    },
    "id": "KUO-ZP2gLdpT",
    "outputId": "627b7e3a-7c82-4c2e-a5e3-f48b94f66ee2",
    "papermill": {
     "duration": 0.024286,
     "end_time": "2022-02-08T01:40:21.734100",
     "exception": false,
     "start_time": "2022-02-08T01:40:21.709814",
     "status": "completed"
    },
    "tags": []
   },
   "outputs": [
    {
     "data": {
      "text/plain": [
       "'\\n# create yaml file and save to /data (your at /content/yolov5)\\n# https://drive.google.com/file/d/1BBrQ5_1urHvJdYOmYPR-HalMeF9dnK37/view?usp=sharing\\n!gdown --id 1BBrQ5_1urHvJdYOmYPR-HalMeF9dnK37 -O /content/yolov5/data/GBR.yaml\\n'"
      ]
     },
     "execution_count": 10,
     "metadata": {},
     "output_type": "execute_result"
    }
   ],
   "source": [
    "\"\"\"\n",
    "# create yaml file and save to /data (your at /content/yolov5)\n",
    "# https://drive.google.com/file/d/1BBrQ5_1urHvJdYOmYPR-HalMeF9dnK37/view?usp=sharing\n",
    "!gdown --id 1BBrQ5_1urHvJdYOmYPR-HalMeF9dnK37 -O /content/yolov5/data/GBR.yaml\n",
    "\"\"\""
   ]
  },
  {
   "cell_type": "code",
   "execution_count": 11,
   "id": "c88f0459",
   "metadata": {
    "execution": {
     "iopub.execute_input": "2022-02-08T01:40:21.769442Z",
     "iopub.status.busy": "2022-02-08T01:40:21.768720Z",
     "iopub.status.idle": "2022-02-08T01:40:21.771414Z",
     "shell.execute_reply": "2022-02-08T01:40:21.771913Z",
     "shell.execute_reply.started": "2022-02-06T09:20:07.863758Z"
    },
    "id": "k47ZnEx4L8hF",
    "papermill": {
     "duration": 0.021785,
     "end_time": "2022-02-08T01:40:21.772074",
     "exception": false,
     "start_time": "2022-02-08T01:40:21.750289",
     "status": "completed"
    },
    "tags": []
   },
   "outputs": [],
   "source": [
    "# Train YOLOv5s on COCO128 for 3 epochs\n",
    "# --img : image size (size,size)\n",
    "# --batch : batch size\n",
    "# --epochs : epochs\n",
    "# --data : .yaml file name\n",
    "# --weights : pretrained weights ('' --cfg yolov5s.yaml if from scratch)\n",
    "# !python train.py --img 720 --batch 20 --epochs 12 --data GBR.yaml --weights yolov5m.pt"
   ]
  },
  {
   "cell_type": "markdown",
   "id": "b7f2ba3d",
   "metadata": {
    "id": "Q_KfojRcfSUP",
    "papermill": {
     "duration": 0.015778,
     "end_time": "2022-02-08T01:40:21.804058",
     "exception": false,
     "start_time": "2022-02-08T01:40:21.788280",
     "status": "completed"
    },
    "tags": []
   },
   "source": [
    "# Visualization"
   ]
  },
  {
   "cell_type": "code",
   "execution_count": 12,
   "id": "7afadb83",
   "metadata": {
    "execution": {
     "iopub.execute_input": "2022-02-08T01:40:21.841896Z",
     "iopub.status.busy": "2022-02-08T01:40:21.841268Z",
     "iopub.status.idle": "2022-02-08T01:40:21.845518Z",
     "shell.execute_reply": "2022-02-08T01:40:21.845987Z",
     "shell.execute_reply.started": "2022-02-06T09:20:07.87241Z"
    },
    "id": "q2PShNdCSrMV",
    "papermill": {
     "duration": 0.026164,
     "end_time": "2022-02-08T01:40:21.846152",
     "exception": false,
     "start_time": "2022-02-08T01:40:21.819988",
     "status": "completed"
    },
    "tags": []
   },
   "outputs": [
    {
     "data": {
      "text/plain": [
       "'\\n%cd /content/yolov5\\n!python detect.py --img 640 --source ../Datasets/test/images --weights runs/train/exp2/weights/best.pt --data data/GBR.yaml --nosave --save-txt --save-conf --conf-thres 0.01 --iou-thres 0.3 --max-det 100\\n'"
      ]
     },
     "execution_count": 12,
     "metadata": {},
     "output_type": "execute_result"
    }
   ],
   "source": [
    "\"\"\"\n",
    "%cd /content/yolov5\n",
    "!python detect.py --img 640\\\n",
    " --source ../Datasets/test/images\\\n",
    " --weights runs/train/exp2/weights/best.pt\\\n",
    " --data data/GBR.yaml\\\n",
    " --nosave\\\n",
    " --save-txt\\\n",
    " --save-conf\\\n",
    " --conf-thres 0.01\\\n",
    " --iou-thres 0.3\\\n",
    " --max-det 100\n",
    "\"\"\""
   ]
  },
  {
   "cell_type": "code",
   "execution_count": 13,
   "id": "e86a0681",
   "metadata": {
    "execution": {
     "iopub.execute_input": "2022-02-08T01:40:21.881864Z",
     "iopub.status.busy": "2022-02-08T01:40:21.881241Z",
     "iopub.status.idle": "2022-02-08T01:40:21.885852Z",
     "shell.execute_reply": "2022-02-08T01:40:21.886299Z",
     "shell.execute_reply.started": "2022-02-06T09:20:07.883954Z"
    },
    "id": "xKNDhrelf9YI",
    "papermill": {
     "duration": 0.024056,
     "end_time": "2022-02-08T01:40:21.886462",
     "exception": false,
     "start_time": "2022-02-08T01:40:21.862406",
     "status": "completed"
    },
    "tags": []
   },
   "outputs": [
    {
     "data": {
      "text/plain": [
       "'\\n%cd /content/yolov5/runs/detect/exp2/labels\\n!zip /content/exp_pred_labels.zip *.txt\\n%cd /content/Datasets/test/labels\\n!zip /content/exp_true_labels.zip *.txt\\n%cd /content\\n'"
      ]
     },
     "execution_count": 13,
     "metadata": {},
     "output_type": "execute_result"
    }
   ],
   "source": [
    "\"\"\"\n",
    "%cd /content/yolov5/runs/detect/exp2/labels\n",
    "!zip /content/exp_pred_labels.zip *.txt\n",
    "%cd /content/Datasets/test/labels\n",
    "!zip /content/exp_true_labels.zip *.txt\n",
    "%cd /content\n",
    "\"\"\""
   ]
  },
  {
   "cell_type": "code",
   "execution_count": 14,
   "id": "502b8ae2",
   "metadata": {
    "execution": {
     "iopub.execute_input": "2022-02-08T01:40:21.922756Z",
     "iopub.status.busy": "2022-02-08T01:40:21.922147Z",
     "iopub.status.idle": "2022-02-08T01:40:21.926223Z",
     "shell.execute_reply": "2022-02-08T01:40:21.926677Z",
     "shell.execute_reply.started": "2022-02-06T09:20:07.903376Z"
    },
    "id": "zbmSxR7vPdf9",
    "papermill": {
     "duration": 0.023784,
     "end_time": "2022-02-08T01:40:21.926858",
     "exception": false,
     "start_time": "2022-02-08T01:40:21.903074",
     "status": "completed"
    },
    "tags": []
   },
   "outputs": [
    {
     "data": {
      "text/plain": [
       "\"\\n%cd /content/yolov5\\n# visualize\\nfrom utils.plots import plot_results \\nplot_results('./runs/train/exp2/results.csv')  # plot 'results.csv' as 'results.png'\\n\""
      ]
     },
     "execution_count": 14,
     "metadata": {},
     "output_type": "execute_result"
    }
   ],
   "source": [
    "\"\"\"\n",
    "%cd /content/yolov5\n",
    "# visualize\n",
    "from utils.plots import plot_results \n",
    "plot_results('./runs/train/exp2/results.csv')  # plot 'results.csv' as 'results.png'\n",
    "\"\"\""
   ]
  },
  {
   "cell_type": "code",
   "execution_count": 15,
   "id": "98c55f7c",
   "metadata": {
    "execution": {
     "iopub.execute_input": "2022-02-08T01:40:21.963493Z",
     "iopub.status.busy": "2022-02-08T01:40:21.962905Z",
     "iopub.status.idle": "2022-02-08T01:40:21.967884Z",
     "shell.execute_reply": "2022-02-08T01:40:21.967393Z",
     "shell.execute_reply.started": "2022-02-06T09:20:07.912923Z"
    },
    "id": "nEbL6eJre3PK",
    "outputId": "cca9b36c-c7e2-4698-ecd6-fdf7757b72e5",
    "papermill": {
     "duration": 0.024413,
     "end_time": "2022-02-08T01:40:21.968026",
     "exception": false,
     "start_time": "2022-02-08T01:40:21.943613",
     "status": "completed"
    },
    "tags": []
   },
   "outputs": [
    {
     "data": {
      "text/plain": [
       "\"\\nimport cv2\\nfrom google.colab.patches import cv2_imshow\\ncv2_imshow(cv2.imread('./runs/train/exp2/results.png'))\\n\""
      ]
     },
     "execution_count": 15,
     "metadata": {},
     "output_type": "execute_result"
    }
   ],
   "source": [
    "\"\"\"\n",
    "import cv2\n",
    "from google.colab.patches import cv2_imshow\n",
    "cv2_imshow(cv2.imread('./runs/train/exp2/results.png'))\n",
    "\"\"\""
   ]
  },
  {
   "cell_type": "markdown",
   "id": "1c792cf5",
   "metadata": {
    "id": "0_cqT7bKx25g",
    "papermill": {
     "duration": 0.017915,
     "end_time": "2022-02-08T01:40:22.002994",
     "exception": false,
     "start_time": "2022-02-08T01:40:21.985079",
     "status": "completed"
    },
    "tags": []
   },
   "source": [
    "# Submit"
   ]
  },
  {
   "cell_type": "code",
   "execution_count": 16,
   "id": "b20c145c",
   "metadata": {
    "execution": {
     "iopub.execute_input": "2022-02-08T01:40:22.042425Z",
     "iopub.status.busy": "2022-02-08T01:40:22.041592Z",
     "iopub.status.idle": "2022-02-08T01:40:22.044692Z",
     "shell.execute_reply": "2022-02-08T01:40:22.045215Z",
     "shell.execute_reply.started": "2022-02-06T09:20:07.921798Z"
    },
    "id": "nAKkcSqpxwIH",
    "outputId": "1db0f795-4efb-4cb0-a309-e53e02507a3e",
    "papermill": {
     "duration": 0.025328,
     "end_time": "2022-02-08T01:40:22.045382",
     "exception": false,
     "start_time": "2022-02-08T01:40:22.020054",
     "status": "completed"
    },
    "tags": []
   },
   "outputs": [
    {
     "data": {
      "text/plain": [
       "'\\n# https://drive.google.com/file/d/1Koc5DW5obyZ5blVzdP5EHeaFDfmUNkE0/view?usp=sharing\\n# save custom detect.py to /content/yolov5/detect2.py\\n!gdown --id 1Koc5DW5obyZ5blVzdP5EHeaFDfmUNkE0 -O /content/yolov5/detect2.py\\n\\n# https://drive.google.com/file/d/1JMNnFYJOgKZTA1a0RGBMbRO2EFouZU4K/view?usp=sharing\\n# save custom datasets.py to /content/yolov5/utils/datasets.py\\n!gdown --id 1JMNnFYJOgKZTA1a0RGBMbRO2EFouZU4K -O /content/yolov5/utils/datasets.py\\n'"
      ]
     },
     "execution_count": 16,
     "metadata": {},
     "output_type": "execute_result"
    }
   ],
   "source": [
    "\"\"\"\n",
    "# https://drive.google.com/file/d/1Koc5DW5obyZ5blVzdP5EHeaFDfmUNkE0/view?usp=sharing\n",
    "# save custom detect.py to /content/yolov5/detect2.py\n",
    "!gdown --id 1Koc5DW5obyZ5blVzdP5EHeaFDfmUNkE0 -O /content/yolov5/detect2.py\n",
    "\n",
    "# https://drive.google.com/file/d/1JMNnFYJOgKZTA1a0RGBMbRO2EFouZU4K/view?usp=sharing\n",
    "# save custom datasets.py to /content/yolov5/utils/datasets.py\n",
    "!gdown --id 1JMNnFYJOgKZTA1a0RGBMbRO2EFouZU4K -O /content/yolov5/utils/datasets.py\n",
    "\"\"\""
   ]
  },
  {
   "cell_type": "code",
   "execution_count": 17,
   "id": "94ebb83a",
   "metadata": {
    "execution": {
     "iopub.execute_input": "2022-02-08T01:40:22.084811Z",
     "iopub.status.busy": "2022-02-08T01:40:22.083925Z",
     "iopub.status.idle": "2022-02-08T01:40:22.086923Z",
     "shell.execute_reply": "2022-02-08T01:40:22.087329Z",
     "shell.execute_reply.started": "2022-02-06T09:20:07.932204Z"
    },
    "papermill": {
     "duration": 0.024113,
     "end_time": "2022-02-08T01:40:22.087495",
     "exception": false,
     "start_time": "2022-02-08T01:40:22.063382",
     "status": "completed"
    },
    "tags": []
   },
   "outputs": [],
   "source": [
    "# %cd ./working"
   ]
  },
  {
   "cell_type": "code",
   "execution_count": 18,
   "id": "952a41b9",
   "metadata": {
    "execution": {
     "iopub.execute_input": "2022-02-08T01:40:22.130510Z",
     "iopub.status.busy": "2022-02-08T01:40:22.124977Z",
     "iopub.status.idle": "2022-02-08T01:40:29.674517Z",
     "shell.execute_reply": "2022-02-08T01:40:29.675225Z",
     "shell.execute_reply.started": "2022-02-06T09:20:07.94182Z"
    },
    "id": "vR49Yu5bbkOO",
    "outputId": "42db54c0-eb3f-4267-e888-d9d9ede498c5",
    "papermill": {
     "duration": 7.570628,
     "end_time": "2022-02-08T01:40:29.675429",
     "exception": false,
     "start_time": "2022-02-08T01:40:22.104801",
     "status": "completed"
    },
    "tags": []
   },
   "outputs": [
    {
     "name": "stdout",
     "output_type": "stream",
     "text": [
      "/kaggle/input/yologithubrepoandsomecustom\n",
      "/kaggle/working\n",
      "__notebook__.ipynb\r\n"
     ]
    },
    {
     "name": "stderr",
     "output_type": "stream",
     "text": [
      "YOLOv5 🚀 v6.0-235-ge1a6a0b torch 1.9.1+cpu CPU\n",
      "\n",
      "Fusing layers... \n",
      "Model Summary: 290 layers, 20852934 parameters, 0 gradients\n",
      "WARNING: --img-size (640, 640) must be multiple of max stride 32, updating to [640, 640]\n"
     ]
    },
    {
     "name": "stdout",
     "output_type": "stream",
     "text": [
      "This version of the API is not optimized and should not be used to estimate the runtime of your code on the hidden test set.\n"
     ]
    }
   ],
   "source": [
    "# something like this...?\n",
    "import greatbarrierreef\n",
    "%cd ../input/yologithubrepoandsomecustom\n",
    "from yolov5.detect2 import run as detect2run\n",
    "%cd ../../working\n",
    "%ls\n",
    "\n",
    "detect2run(\n",
    "    weights='../input/yologithubrepoandsomecustom/yolov5/weights/best020717.pt',\n",
    "    data='../input/yologithubrepoandsomecustom/yolov5/data/GBR.yaml',\n",
    "    env=greatbarrierreef.make_env(),\n",
    "    conf_thres=0.303,\n",
    "    iou_thres=0.3,\n",
    "    max_det=50,\n",
    "    reduce_ambient=True\n",
    ")"
   ]
  },
  {
   "cell_type": "code",
   "execution_count": 19,
   "id": "22065134",
   "metadata": {
    "execution": {
     "iopub.execute_input": "2022-02-08T01:40:29.718345Z",
     "iopub.status.busy": "2022-02-08T01:40:29.717326Z",
     "iopub.status.idle": "2022-02-08T01:40:29.732772Z",
     "shell.execute_reply": "2022-02-08T01:40:29.732306Z",
     "shell.execute_reply.started": "2022-02-06T09:20:14.855053Z"
    },
    "papermill": {
     "duration": 0.037878,
     "end_time": "2022-02-08T01:40:29.732954",
     "exception": false,
     "start_time": "2022-02-08T01:40:29.695076",
     "status": "completed"
    },
    "tags": []
   },
   "outputs": [
    {
     "data": {
      "text/html": [
       "<div>\n",
       "<style scoped>\n",
       "    .dataframe tbody tr th:only-of-type {\n",
       "        vertical-align: middle;\n",
       "    }\n",
       "\n",
       "    .dataframe tbody tr th {\n",
       "        vertical-align: top;\n",
       "    }\n",
       "\n",
       "    .dataframe thead th {\n",
       "        text-align: right;\n",
       "    }\n",
       "</style>\n",
       "<table border=\"1\" class=\"dataframe\">\n",
       "  <thead>\n",
       "    <tr style=\"text-align: right;\">\n",
       "      <th></th>\n",
       "      <th>index</th>\n",
       "      <th>annotations</th>\n",
       "    </tr>\n",
       "  </thead>\n",
       "  <tbody>\n",
       "    <tr>\n",
       "      <th>0</th>\n",
       "      <td>0</td>\n",
       "      <td>NaN</td>\n",
       "    </tr>\n",
       "    <tr>\n",
       "      <th>1</th>\n",
       "      <td>1</td>\n",
       "      <td>NaN</td>\n",
       "    </tr>\n",
       "    <tr>\n",
       "      <th>2</th>\n",
       "      <td>2</td>\n",
       "      <td>NaN</td>\n",
       "    </tr>\n",
       "  </tbody>\n",
       "</table>\n",
       "</div>"
      ],
      "text/plain": [
       "   index  annotations\n",
       "0      0          NaN\n",
       "1      1          NaN\n",
       "2      2          NaN"
      ]
     },
     "execution_count": 19,
     "metadata": {},
     "output_type": "execute_result"
    }
   ],
   "source": [
    "import pandas\n",
    "submission_df = pandas.read_csv('./submission.csv')\n",
    "submission_df"
   ]
  }
 ],
 "metadata": {
  "kernelspec": {
   "display_name": "Python 3",
   "language": "python",
   "name": "python3"
  },
  "language_info": {
   "codemirror_mode": {
    "name": "ipython",
    "version": 3
   },
   "file_extension": ".py",
   "mimetype": "text/x-python",
   "name": "python",
   "nbconvert_exporter": "python",
   "pygments_lexer": "ipython3",
   "version": "3.7.12"
  },
  "papermill": {
   "default_parameters": {},
   "duration": 17.977716,
   "end_time": "2022-02-08T01:40:30.665140",
   "environment_variables": {},
   "exception": null,
   "input_path": "__notebook__.ipynb",
   "output_path": "__notebook__.ipynb",
   "parameters": {},
   "start_time": "2022-02-08T01:40:12.687424",
   "version": "2.3.3"
  }
 },
 "nbformat": 4,
 "nbformat_minor": 5
}
