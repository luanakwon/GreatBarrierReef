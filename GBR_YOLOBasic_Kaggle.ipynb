{
 "cells": [
  {
   "cell_type": "markdown",
   "id": "41a7a38c",
   "metadata": {
    "id": "view-in-github",
    "papermill": {
     "duration": 0.020416,
     "end_time": "2022-02-05T08:09:14.483290",
     "exception": false,
     "start_time": "2022-02-05T08:09:14.462874",
     "status": "completed"
    },
    "tags": []
   },
   "source": [
    "<a href=\"https://colab.research.google.com/github/luanakwon/GreatBarrierReef/blob/main/GBR_YOLOBasic.ipynb\" target=\"_parent\"><img src=\"https://colab.research.google.com/assets/colab-badge.svg\" alt=\"Open In Colab\"/></a>"
   ]
  },
  {
   "cell_type": "markdown",
   "id": "26dbf046",
   "metadata": {
    "id": "Atikzzc0fL2v",
    "papermill": {
     "duration": 0.01935,
     "end_time": "2022-02-05T08:09:14.522356",
     "exception": false,
     "start_time": "2022-02-05T08:09:14.503006",
     "status": "completed"
    },
    "tags": []
   },
   "source": [
    "# Download dataset from kaggle api\n",
    "kaggle  \n",
    "https://www.kaggle.com/c/tensorflow-great-barrier-reef/data  \n",
    "\n",
    "kaggle API usage  \n",
    "https://colab.research.google.com/github/corrieann/kaggle/blob/master/kaggle_api_in_colab.ipynb"
   ]
  },
  {
   "cell_type": "code",
   "execution_count": 1,
   "id": "ac842233",
   "metadata": {
    "execution": {
     "iopub.execute_input": "2022-02-05T08:09:14.568509Z",
     "iopub.status.busy": "2022-02-05T08:09:14.566761Z",
     "iopub.status.idle": "2022-02-05T08:09:14.569817Z",
     "shell.execute_reply": "2022-02-05T08:09:14.570922Z",
     "shell.execute_reply.started": "2022-02-05T08:07:10.580709Z"
    },
    "id": "n-JPBh1fETGF",
    "outputId": "4f1205dc-f60f-4353-f9d6-e9ca749934dd",
    "papermill": {
     "duration": 0.029033,
     "end_time": "2022-02-05T08:09:14.571207",
     "exception": false,
     "start_time": "2022-02-05T08:09:14.542174",
     "status": "completed"
    },
    "tags": []
   },
   "outputs": [],
   "source": [
    "# !pip install kaggle\n",
    "# !pip install --upgrade --force-reinstall --no-deps kaggle"
   ]
  },
  {
   "cell_type": "code",
   "execution_count": 2,
   "id": "ef365703",
   "metadata": {
    "execution": {
     "iopub.execute_input": "2022-02-05T08:09:14.614618Z",
     "iopub.status.busy": "2022-02-05T08:09:14.612988Z",
     "iopub.status.idle": "2022-02-05T08:09:14.617437Z",
     "shell.execute_reply": "2022-02-05T08:09:14.616778Z",
     "shell.execute_reply.started": "2022-02-05T08:07:10.603076Z"
    },
    "id": "Z27ke3uEchVJ",
    "outputId": "1bc4d761-0381-495e-e513-3774c3679ee6",
    "papermill": {
     "duration": 0.026854,
     "end_time": "2022-02-05T08:09:14.617582",
     "exception": false,
     "start_time": "2022-02-05T08:09:14.590728",
     "status": "completed"
    },
    "tags": []
   },
   "outputs": [],
   "source": [
    "# from google.colab import files\n",
    "# \n",
    "# uploaded = files.upload()\n",
    "# \n",
    "# for fn in uploaded.keys():\n",
    "#   print('User uploaded file \"{name}\" with length {length} bytes'.format(\n",
    "#       name=fn, length=len(uploaded[fn])))\n",
    "#   \n",
    "# Then move kaggle.json into the folder where the API expects to find it.\n",
    "# !mkdir -p ~/.kaggle/ && mv kaggle.json ~/.kaggle/ && chmod 600 ~/.kaggle/kaggle.json"
   ]
  },
  {
   "cell_type": "code",
   "execution_count": 3,
   "id": "78c0bacb",
   "metadata": {
    "execution": {
     "iopub.execute_input": "2022-02-05T08:09:14.661852Z",
     "iopub.status.busy": "2022-02-05T08:09:14.661123Z",
     "iopub.status.idle": "2022-02-05T08:09:14.662832Z",
     "shell.execute_reply": "2022-02-05T08:09:14.663283Z",
     "shell.execute_reply.started": "2022-02-05T08:07:10.607734Z"
    },
    "id": "6JXwYXTxc8D4",
    "outputId": "ffa59142-86e1-4c2d-e270-fdacce817b9a",
    "papermill": {
     "duration": 0.025767,
     "end_time": "2022-02-05T08:09:14.663450",
     "exception": false,
     "start_time": "2022-02-05T08:09:14.637683",
     "status": "completed"
    },
    "tags": []
   },
   "outputs": [],
   "source": [
    "# !kaggle competitions download -c tensorflow-great-barrier-reef"
   ]
  },
  {
   "cell_type": "code",
   "execution_count": 4,
   "id": "f9f5dbaf",
   "metadata": {
    "execution": {
     "iopub.execute_input": "2022-02-05T08:09:14.708339Z",
     "iopub.status.busy": "2022-02-05T08:09:14.707148Z",
     "iopub.status.idle": "2022-02-05T08:09:14.713296Z",
     "shell.execute_reply": "2022-02-05T08:09:14.713961Z",
     "shell.execute_reply.started": "2022-02-05T08:07:10.621024Z"
    },
    "id": "D18RwmYWwO84",
    "papermill": {
     "duration": 0.031383,
     "end_time": "2022-02-05T08:09:14.714204",
     "exception": false,
     "start_time": "2022-02-05T08:09:14.682821",
     "status": "completed"
    },
    "tags": []
   },
   "outputs": [],
   "source": [
    "# !unzip -q /content/tensorflow-great-barrier-reef.zip "
   ]
  },
  {
   "cell_type": "markdown",
   "id": "d432f5bb",
   "metadata": {
    "id": "woh5Odk0V7lU",
    "papermill": {
     "duration": 0.028277,
     "end_time": "2022-02-05T08:09:14.765571",
     "exception": false,
     "start_time": "2022-02-05T08:09:14.737294",
     "status": "completed"
    },
    "tags": []
   },
   "source": [
    "# Session 1\n",
    "---\n",
    "Useful links  \n",
    "- [YOLOv5 - Train Custom Data github](https://github.com/ultralytics/yolov5/wiki/Train-Custom-Data)  \n"
   ]
  },
  {
   "cell_type": "code",
   "execution_count": 5,
   "id": "afe69b57",
   "metadata": {
    "execution": {
     "iopub.execute_input": "2022-02-05T08:09:14.819022Z",
     "iopub.status.busy": "2022-02-05T08:09:14.818033Z",
     "iopub.status.idle": "2022-02-05T08:09:14.830327Z",
     "shell.execute_reply": "2022-02-05T08:09:14.830847Z",
     "shell.execute_reply.started": "2022-02-05T08:07:10.633175Z"
    },
    "id": "acWPF0FJFpZ9",
    "papermill": {
     "duration": 0.039069,
     "end_time": "2022-02-05T08:09:14.831054",
     "exception": false,
     "start_time": "2022-02-05T08:09:14.791985",
     "status": "completed"
    },
    "tags": []
   },
   "outputs": [
    {
     "data": {
      "text/plain": [
       "\"\\n# create hierarchy\\nimport os\\n\\nfor f1 in 'train', 'val', 'test':\\n  for f2 in 'images', 'labels':\\n    os.makedirs(f'/content/Datasets/{f1}/{f2}')\\n    \\n\""
      ]
     },
     "execution_count": 5,
     "metadata": {},
     "output_type": "execute_result"
    }
   ],
   "source": [
    "\"\"\"\n",
    "# create hierarchy\n",
    "import os\n",
    "\n",
    "for f1 in 'train', 'val', 'test':\n",
    "  for f2 in 'images', 'labels':\n",
    "    os.makedirs(f'/content/Datasets/{f1}/{f2}')\n",
    "    \n",
    "\"\"\""
   ]
  },
  {
   "cell_type": "code",
   "execution_count": 6,
   "id": "1412f3eb",
   "metadata": {
    "execution": {
     "iopub.execute_input": "2022-02-05T08:09:14.876788Z",
     "iopub.status.busy": "2022-02-05T08:09:14.874835Z",
     "iopub.status.idle": "2022-02-05T08:09:14.879174Z",
     "shell.execute_reply": "2022-02-05T08:09:14.879751Z",
     "shell.execute_reply.started": "2022-02-05T08:07:10.651245Z"
    },
    "id": "rTz8Sn-rBrRs",
    "papermill": {
     "duration": 0.027714,
     "end_time": "2022-02-05T08:09:14.879915",
     "exception": false,
     "start_time": "2022-02-05T08:09:14.852201",
     "status": "completed"
    },
    "tags": []
   },
   "outputs": [
    {
     "data": {
      "text/plain": [
       "\"\\n# get train.csv\\nimport pandas as pd\\n\\ndf_train = pd.read_csv('train.csv')\\ndf_test = pd.read_csv('test.csv')\\ndf_train\\n\""
      ]
     },
     "execution_count": 6,
     "metadata": {},
     "output_type": "execute_result"
    }
   ],
   "source": [
    "\"\"\"\n",
    "# get train.csv\n",
    "import pandas as pd\n",
    "\n",
    "df_train = pd.read_csv('train.csv')\n",
    "df_test = pd.read_csv('test.csv')\n",
    "df_train\n",
    "\"\"\""
   ]
  },
  {
   "cell_type": "code",
   "execution_count": 7,
   "id": "5a75c921",
   "metadata": {
    "execution": {
     "iopub.execute_input": "2022-02-05T08:09:14.926708Z",
     "iopub.status.busy": "2022-02-05T08:09:14.926042Z",
     "iopub.status.idle": "2022-02-05T08:09:14.929489Z",
     "shell.execute_reply": "2022-02-05T08:09:14.930021Z",
     "shell.execute_reply.started": "2022-02-05T08:07:10.660874Z"
    },
    "id": "baUKP2WntbEV",
    "papermill": {
     "duration": 0.029807,
     "end_time": "2022-02-05T08:09:14.930188",
     "exception": false,
     "start_time": "2022-02-05T08:09:14.900381",
     "status": "completed"
    },
    "tags": []
   },
   "outputs": [
    {
     "data": {
      "text/plain": [
       "'\\ndef annotation2YoloFormat(_annotation, width=1280, height=720):\\n  out = \\'\\'\\n  if isinstance(_annotation,str):\\n    a = _annotation\\n    while True:\\n      ix = a.find(\"\\'x\\': \")\\n      iy = a.find(\"\\'y\\': \")\\n      iw = a.find(\"\\'width\\': \")\\n      ih = a.find(\"\\'height\\': \")\\n      \\n      if ix < 0 or iy < 0 or iw < 0 or ih < 0:\\n        break\\n\\n      x = float(a[ix + len(\"\\'x\\': \"):a.find(\", \\'y\")])/width\\n      y = float(a[iy + len(\"\\'y\\': \"):a.find(\", \\'w\")])/height\\n      w = float(a[iw + len(\"\\'width\\': \"):a.find(\", \\'h\")])/width\\n      h = float(a[ih + len(\"\\'height\\': \"):a.find(\\'}\\')])/height\\n      \\n      \\n      out += \\'0 %.6f %.6f %.6f %.6f\\n\\'%(x+w/2, y+h/2, w, h)\\n      a = a[a.find(\\'}\\')+1:]\\n    \\n    out = out[:-1]\\n  return out\\n  '"
      ]
     },
     "execution_count": 7,
     "metadata": {},
     "output_type": "execute_result"
    }
   ],
   "source": [
    "\"\"\"\n",
    "def annotation2YoloFormat(_annotation, width=1280, height=720):\n",
    "  out = ''\n",
    "  if isinstance(_annotation,str):\n",
    "    a = _annotation\n",
    "    while True:\n",
    "      ix = a.find(\"'x': \")\n",
    "      iy = a.find(\"'y': \")\n",
    "      iw = a.find(\"'width': \")\n",
    "      ih = a.find(\"'height': \")\n",
    "      \n",
    "      if ix < 0 or iy < 0 or iw < 0 or ih < 0:\n",
    "        break\n",
    "\n",
    "      x = float(a[ix + len(\"'x': \"):a.find(\", 'y\")])/width\n",
    "      y = float(a[iy + len(\"'y': \"):a.find(\", 'w\")])/height\n",
    "      w = float(a[iw + len(\"'width': \"):a.find(\", 'h\")])/width\n",
    "      h = float(a[ih + len(\"'height': \"):a.find('}')])/height\n",
    "      \n",
    "      \n",
    "      out += '0 %.6f %.6f %.6f %.6f\\n'%(x+w/2, y+h/2, w, h)\n",
    "      a = a[a.find('}')+1:]\n",
    "    \n",
    "    out = out[:-1]\n",
    "  return out\n",
    "  \"\"\""
   ]
  },
  {
   "cell_type": "code",
   "execution_count": 8,
   "id": "ebe7211b",
   "metadata": {
    "execution": {
     "iopub.execute_input": "2022-02-05T08:09:14.974308Z",
     "iopub.status.busy": "2022-02-05T08:09:14.973625Z",
     "iopub.status.idle": "2022-02-05T08:09:14.980913Z",
     "shell.execute_reply": "2022-02-05T08:09:14.980349Z",
     "shell.execute_reply.started": "2022-02-05T08:07:10.673953Z"
    },
    "id": "uqxZ_4iaW1Gg",
    "outputId": "93498d40-98f2-49b3-b333-23e792e581c4",
    "papermill": {
     "duration": 0.03039,
     "end_time": "2022-02-05T08:09:14.981049",
     "exception": false,
     "start_time": "2022-02-05T08:09:14.950659",
     "status": "completed"
    },
    "tags": []
   },
   "outputs": [
    {
     "data": {
      "text/plain": [
       "'\\n# read images from /content/train_images\\n# change name\\n# save the image to train | val | test. ratio = 0.64 : 0.16 : 0.2\\n# create corresponding txt file and save\\n\\n# change image name to image id\\n# split images by train:val:test = .64:.16:.2\\nimport shutil\\nimport os\\nimport random\\nrandom.seed(31415)\\n%cd train_images\\n\\nTEST_DIRECTORY = \"../Datasets/test\"\\nTRAIN_DIRECTORY = \"../Datasets/train\"\\nVAL_DIRECTORY = \"../Datasets/val\"\\n\\nfor dir in os.listdir():\\n  # print(dir)\\n  for image in os.listdir(dir):\\n    annot = df_train.loc[df_train[\\'image_id\\']==f\\'{dir[-1]}-{image[:-4]}\\', \\'annotations\\'].iloc[0]\\n    if annot != \\'[]\\':\\n      random_key = random.random()\\n      if random_key < 0.64:\\n        random_folder = TRAIN_DIRECTORY\\n      elif random_key < 0.8:\\n        random_folder = VAL_DIRECTORY\\n      else:\\n        random_folder = TEST_DIRECTORY\\n      shutil.move(f\\'{dir}/{image}\\', f\"../Datasets/{random_folder}/images/{dir[-1]}-{image}\")\\n\\n      # might add label as well while in iteration\\n      # as YOLO format [{xywh},{},...]\\n      f = open(f\"../Datasets/{random_folder}/labels/{dir[-1]}-{image[:-4]}.txt\", \\'w\\')\\n      f.write(annotation2YoloFormat(annot))\\n      f.close()\\n\\n%cd ..\\n!rm -rf train_images/\\n'"
      ]
     },
     "execution_count": 8,
     "metadata": {},
     "output_type": "execute_result"
    }
   ],
   "source": [
    "\"\"\"\n",
    "# read images from /content/train_images\n",
    "# change name\n",
    "# save the image to train | val | test. ratio = 0.64 : 0.16 : 0.2\n",
    "# create corresponding txt file and save\n",
    "\n",
    "# change image name to image id\n",
    "# split images by train:val:test = .64:.16:.2\n",
    "import shutil\n",
    "import os\n",
    "import random\n",
    "random.seed(31415)\n",
    "%cd train_images\n",
    "\n",
    "TEST_DIRECTORY = \"../Datasets/test\"\n",
    "TRAIN_DIRECTORY = \"../Datasets/train\"\n",
    "VAL_DIRECTORY = \"../Datasets/val\"\n",
    "\n",
    "for dir in os.listdir():\n",
    "  # print(dir)\n",
    "  for image in os.listdir(dir):\n",
    "    annot = df_train.loc[df_train['image_id']==f'{dir[-1]}-{image[:-4]}', 'annotations'].iloc[0]\n",
    "    if annot != '[]':\n",
    "      random_key = random.random()\n",
    "      if random_key < 0.64:\n",
    "        random_folder = TRAIN_DIRECTORY\n",
    "      elif random_key < 0.8:\n",
    "        random_folder = VAL_DIRECTORY\n",
    "      else:\n",
    "        random_folder = TEST_DIRECTORY\n",
    "      shutil.move(f'{dir}/{image}', f\"../Datasets/{random_folder}/images/{dir[-1]}-{image}\")\n",
    "\n",
    "      # might add label as well while in iteration\n",
    "      # as YOLO format [{xywh},{},...]\n",
    "      f = open(f\"../Datasets/{random_folder}/labels/{dir[-1]}-{image[:-4]}.txt\", 'w')\n",
    "      f.write(annotation2YoloFormat(annot))\n",
    "      f.close()\n",
    "\n",
    "%cd ..\n",
    "!rm -rf train_images/\n",
    "\"\"\""
   ]
  },
  {
   "cell_type": "code",
   "execution_count": 9,
   "id": "a0be080e",
   "metadata": {
    "execution": {
     "iopub.execute_input": "2022-02-05T08:09:15.026862Z",
     "iopub.status.busy": "2022-02-05T08:09:15.025856Z",
     "iopub.status.idle": "2022-02-05T08:09:15.030996Z",
     "shell.execute_reply": "2022-02-05T08:09:15.031644Z",
     "shell.execute_reply.started": "2022-02-05T08:07:10.687417Z"
    },
    "id": "wbvMlHd_QwMG",
    "outputId": "50453b58-4b1e-4f75-9895-20f78a36a203",
    "papermill": {
     "duration": 0.02997,
     "end_time": "2022-02-05T08:09:15.031809",
     "exception": false,
     "start_time": "2022-02-05T08:09:15.001839",
     "status": "completed"
    },
    "tags": []
   },
   "outputs": [
    {
     "data": {
      "text/plain": [
       "'\\n#!git clone https://github.com/ultralytics/yolov5  # clone\\n%cd yolov5\\n%pip install -r requirements.txt  # install\\n\\nimport torch\\nfrom yolov5 import utils\\n# display = utils.notebook_init()  # checks\\n'"
      ]
     },
     "execution_count": 9,
     "metadata": {},
     "output_type": "execute_result"
    }
   ],
   "source": [
    "\"\"\"\n",
    "#!git clone https://github.com/ultralytics/yolov5  # clone\n",
    "%cd yolov5\n",
    "%pip install -r requirements.txt  # install\n",
    "\n",
    "import torch\n",
    "from yolov5 import utils\n",
    "# display = utils.notebook_init()  # checks\n",
    "\"\"\""
   ]
  },
  {
   "cell_type": "markdown",
   "id": "9c4b65f0",
   "metadata": {
    "id": "W4SnuptqeYiA",
    "papermill": {
     "duration": 0.02161,
     "end_time": "2022-02-05T08:09:15.074466",
     "exception": false,
     "start_time": "2022-02-05T08:09:15.052856",
     "status": "completed"
    },
    "tags": []
   },
   "source": [
    "# Under /content/yolov5"
   ]
  },
  {
   "cell_type": "code",
   "execution_count": 10,
   "id": "6faa99d1",
   "metadata": {
    "execution": {
     "iopub.execute_input": "2022-02-05T08:09:15.123533Z",
     "iopub.status.busy": "2022-02-05T08:09:15.122687Z",
     "iopub.status.idle": "2022-02-05T08:09:15.125838Z",
     "shell.execute_reply": "2022-02-05T08:09:15.126359Z",
     "shell.execute_reply.started": "2022-02-05T08:07:10.705433Z"
    },
    "id": "KUO-ZP2gLdpT",
    "outputId": "627b7e3a-7c82-4c2e-a5e3-f48b94f66ee2",
    "papermill": {
     "duration": 0.029935,
     "end_time": "2022-02-05T08:09:15.126529",
     "exception": false,
     "start_time": "2022-02-05T08:09:15.096594",
     "status": "completed"
    },
    "tags": []
   },
   "outputs": [
    {
     "data": {
      "text/plain": [
       "'\\n# create yaml file and save to /data (your at /content/yolov5)\\n# https://drive.google.com/file/d/1BBrQ5_1urHvJdYOmYPR-HalMeF9dnK37/view?usp=sharing\\n!gdown --id 1BBrQ5_1urHvJdYOmYPR-HalMeF9dnK37 -O /content/yolov5/data/GBR.yaml\\n'"
      ]
     },
     "execution_count": 10,
     "metadata": {},
     "output_type": "execute_result"
    }
   ],
   "source": [
    "\"\"\"\n",
    "# create yaml file and save to /data (your at /content/yolov5)\n",
    "# https://drive.google.com/file/d/1BBrQ5_1urHvJdYOmYPR-HalMeF9dnK37/view?usp=sharing\n",
    "!gdown --id 1BBrQ5_1urHvJdYOmYPR-HalMeF9dnK37 -O /content/yolov5/data/GBR.yaml\n",
    "\"\"\""
   ]
  },
  {
   "cell_type": "code",
   "execution_count": 11,
   "id": "93bd5e17",
   "metadata": {
    "execution": {
     "iopub.execute_input": "2022-02-05T08:09:15.174314Z",
     "iopub.status.busy": "2022-02-05T08:09:15.173276Z",
     "iopub.status.idle": "2022-02-05T08:09:15.175396Z",
     "shell.execute_reply": "2022-02-05T08:09:15.175873Z",
     "shell.execute_reply.started": "2022-02-05T08:07:10.719890Z"
    },
    "id": "k47ZnEx4L8hF",
    "papermill": {
     "duration": 0.028285,
     "end_time": "2022-02-05T08:09:15.176036",
     "exception": false,
     "start_time": "2022-02-05T08:09:15.147751",
     "status": "completed"
    },
    "tags": []
   },
   "outputs": [],
   "source": [
    "# Train YOLOv5s on COCO128 for 3 epochs\n",
    "# --img : image size (size,size)\n",
    "# --batch : batch size\n",
    "# --epochs : epochs\n",
    "# --data : .yaml file name\n",
    "# --weights : pretrained weights ('' --cfg yolov5s.yaml if from scratch)\n",
    "# !python train.py --img 720 --batch 20 --epochs 12 --data GBR.yaml --weights yolov5m.pt"
   ]
  },
  {
   "cell_type": "markdown",
   "id": "9ea480c6",
   "metadata": {
    "id": "Q_KfojRcfSUP",
    "papermill": {
     "duration": 0.021468,
     "end_time": "2022-02-05T08:09:15.218941",
     "exception": false,
     "start_time": "2022-02-05T08:09:15.197473",
     "status": "completed"
    },
    "tags": []
   },
   "source": [
    "# Visualization"
   ]
  },
  {
   "cell_type": "code",
   "execution_count": 12,
   "id": "b1963b51",
   "metadata": {
    "execution": {
     "iopub.execute_input": "2022-02-05T08:09:15.268829Z",
     "iopub.status.busy": "2022-02-05T08:09:15.267973Z",
     "iopub.status.idle": "2022-02-05T08:09:15.271842Z",
     "shell.execute_reply": "2022-02-05T08:09:15.271321Z",
     "shell.execute_reply.started": "2022-02-05T08:07:10.730966Z"
    },
    "id": "q2PShNdCSrMV",
    "papermill": {
     "duration": 0.031564,
     "end_time": "2022-02-05T08:09:15.271987",
     "exception": false,
     "start_time": "2022-02-05T08:09:15.240423",
     "status": "completed"
    },
    "tags": []
   },
   "outputs": [
    {
     "data": {
      "text/plain": [
       "'\\n%cd /content/yolov5\\n!python detect.py --img 640 --source ../Datasets/test/images --weights runs/train/exp2/weights/best.pt --data data/GBR.yaml --nosave --save-txt --save-conf --conf-thres 0.01 --iou-thres 0.3 --max-det 100\\n'"
      ]
     },
     "execution_count": 12,
     "metadata": {},
     "output_type": "execute_result"
    }
   ],
   "source": [
    "\"\"\"\n",
    "%cd /content/yolov5\n",
    "!python detect.py --img 640\\\n",
    " --source ../Datasets/test/images\\\n",
    " --weights runs/train/exp2/weights/best.pt\\\n",
    " --data data/GBR.yaml\\\n",
    " --nosave\\\n",
    " --save-txt\\\n",
    " --save-conf\\\n",
    " --conf-thres 0.01\\\n",
    " --iou-thres 0.3\\\n",
    " --max-det 100\n",
    "\"\"\""
   ]
  },
  {
   "cell_type": "code",
   "execution_count": 13,
   "id": "a5b92b42",
   "metadata": {
    "execution": {
     "iopub.execute_input": "2022-02-05T08:09:15.321310Z",
     "iopub.status.busy": "2022-02-05T08:09:15.320607Z",
     "iopub.status.idle": "2022-02-05T08:09:15.323209Z",
     "shell.execute_reply": "2022-02-05T08:09:15.323934Z",
     "shell.execute_reply.started": "2022-02-05T08:07:10.744524Z"
    },
    "id": "xKNDhrelf9YI",
    "papermill": {
     "duration": 0.030335,
     "end_time": "2022-02-05T08:09:15.324123",
     "exception": false,
     "start_time": "2022-02-05T08:09:15.293788",
     "status": "completed"
    },
    "tags": []
   },
   "outputs": [
    {
     "data": {
      "text/plain": [
       "'\\n%cd /content/yolov5/runs/detect/exp2/labels\\n!zip /content/exp_pred_labels.zip *.txt\\n%cd /content/Datasets/test/labels\\n!zip /content/exp_true_labels.zip *.txt\\n%cd /content\\n'"
      ]
     },
     "execution_count": 13,
     "metadata": {},
     "output_type": "execute_result"
    }
   ],
   "source": [
    "\"\"\"\n",
    "%cd /content/yolov5/runs/detect/exp2/labels\n",
    "!zip /content/exp_pred_labels.zip *.txt\n",
    "%cd /content/Datasets/test/labels\n",
    "!zip /content/exp_true_labels.zip *.txt\n",
    "%cd /content\n",
    "\"\"\""
   ]
  },
  {
   "cell_type": "code",
   "execution_count": 14,
   "id": "ff3f999a",
   "metadata": {
    "execution": {
     "iopub.execute_input": "2022-02-05T08:09:15.373352Z",
     "iopub.status.busy": "2022-02-05T08:09:15.372353Z",
     "iopub.status.idle": "2022-02-05T08:09:15.377191Z",
     "shell.execute_reply": "2022-02-05T08:09:15.377795Z",
     "shell.execute_reply.started": "2022-02-05T08:07:10.764248Z"
    },
    "id": "zbmSxR7vPdf9",
    "papermill": {
     "duration": 0.031263,
     "end_time": "2022-02-05T08:09:15.377959",
     "exception": false,
     "start_time": "2022-02-05T08:09:15.346696",
     "status": "completed"
    },
    "tags": []
   },
   "outputs": [
    {
     "data": {
      "text/plain": [
       "\"\\n%cd /content/yolov5\\n# visualize\\nfrom utils.plots import plot_results \\nplot_results('./runs/train/exp2/results.csv')  # plot 'results.csv' as 'results.png'\\n\""
      ]
     },
     "execution_count": 14,
     "metadata": {},
     "output_type": "execute_result"
    }
   ],
   "source": [
    "\"\"\"\n",
    "%cd /content/yolov5\n",
    "# visualize\n",
    "from utils.plots import plot_results \n",
    "plot_results('./runs/train/exp2/results.csv')  # plot 'results.csv' as 'results.png'\n",
    "\"\"\""
   ]
  },
  {
   "cell_type": "code",
   "execution_count": 15,
   "id": "60eab556",
   "metadata": {
    "execution": {
     "iopub.execute_input": "2022-02-05T08:09:15.428368Z",
     "iopub.status.busy": "2022-02-05T08:09:15.427539Z",
     "iopub.status.idle": "2022-02-05T08:09:15.431330Z",
     "shell.execute_reply": "2022-02-05T08:09:15.430811Z",
     "shell.execute_reply.started": "2022-02-05T08:07:10.775192Z"
    },
    "id": "nEbL6eJre3PK",
    "outputId": "cca9b36c-c7e2-4698-ecd6-fdf7757b72e5",
    "papermill": {
     "duration": 0.031129,
     "end_time": "2022-02-05T08:09:15.431463",
     "exception": false,
     "start_time": "2022-02-05T08:09:15.400334",
     "status": "completed"
    },
    "tags": []
   },
   "outputs": [
    {
     "data": {
      "text/plain": [
       "\"\\nimport cv2\\nfrom google.colab.patches import cv2_imshow\\ncv2_imshow(cv2.imread('./runs/train/exp2/results.png'))\\n\""
      ]
     },
     "execution_count": 15,
     "metadata": {},
     "output_type": "execute_result"
    }
   ],
   "source": [
    "\"\"\"\n",
    "import cv2\n",
    "from google.colab.patches import cv2_imshow\n",
    "cv2_imshow(cv2.imread('./runs/train/exp2/results.png'))\n",
    "\"\"\""
   ]
  },
  {
   "cell_type": "markdown",
   "id": "2b61229f",
   "metadata": {
    "id": "0_cqT7bKx25g",
    "papermill": {
     "duration": 0.022702,
     "end_time": "2022-02-05T08:09:15.476913",
     "exception": false,
     "start_time": "2022-02-05T08:09:15.454211",
     "status": "completed"
    },
    "tags": []
   },
   "source": [
    "# Submit"
   ]
  },
  {
   "cell_type": "code",
   "execution_count": 16,
   "id": "0608caca",
   "metadata": {
    "execution": {
     "iopub.execute_input": "2022-02-05T08:09:15.528909Z",
     "iopub.status.busy": "2022-02-05T08:09:15.528010Z",
     "iopub.status.idle": "2022-02-05T08:09:15.531828Z",
     "shell.execute_reply": "2022-02-05T08:09:15.531300Z",
     "shell.execute_reply.started": "2022-02-05T08:07:10.784691Z"
    },
    "id": "nAKkcSqpxwIH",
    "outputId": "1db0f795-4efb-4cb0-a309-e53e02507a3e",
    "papermill": {
     "duration": 0.032055,
     "end_time": "2022-02-05T08:09:15.531966",
     "exception": false,
     "start_time": "2022-02-05T08:09:15.499911",
     "status": "completed"
    },
    "tags": []
   },
   "outputs": [
    {
     "data": {
      "text/plain": [
       "'\\n# https://drive.google.com/file/d/1Koc5DW5obyZ5blVzdP5EHeaFDfmUNkE0/view?usp=sharing\\n# save custom detect.py to /content/yolov5/detect2.py\\n!gdown --id 1Koc5DW5obyZ5blVzdP5EHeaFDfmUNkE0 -O /content/yolov5/detect2.py\\n\\n# https://drive.google.com/file/d/1JMNnFYJOgKZTA1a0RGBMbRO2EFouZU4K/view?usp=sharing\\n# save custom datasets.py to /content/yolov5/utils/datasets.py\\n!gdown --id 1JMNnFYJOgKZTA1a0RGBMbRO2EFouZU4K -O /content/yolov5/utils/datasets.py\\n'"
      ]
     },
     "execution_count": 16,
     "metadata": {},
     "output_type": "execute_result"
    }
   ],
   "source": [
    "\"\"\"\n",
    "# https://drive.google.com/file/d/1Koc5DW5obyZ5blVzdP5EHeaFDfmUNkE0/view?usp=sharing\n",
    "# save custom detect.py to /content/yolov5/detect2.py\n",
    "!gdown --id 1Koc5DW5obyZ5blVzdP5EHeaFDfmUNkE0 -O /content/yolov5/detect2.py\n",
    "\n",
    "# https://drive.google.com/file/d/1JMNnFYJOgKZTA1a0RGBMbRO2EFouZU4K/view?usp=sharing\n",
    "# save custom datasets.py to /content/yolov5/utils/datasets.py\n",
    "!gdown --id 1JMNnFYJOgKZTA1a0RGBMbRO2EFouZU4K -O /content/yolov5/utils/datasets.py\n",
    "\"\"\""
   ]
  },
  {
   "cell_type": "code",
   "execution_count": 17,
   "id": "789b7050",
   "metadata": {
    "execution": {
     "iopub.execute_input": "2022-02-05T08:09:15.584957Z",
     "iopub.status.busy": "2022-02-05T08:09:15.583790Z",
     "iopub.status.idle": "2022-02-05T08:09:15.587383Z",
     "shell.execute_reply": "2022-02-05T08:09:15.587878Z",
     "shell.execute_reply.started": "2022-02-05T08:07:10.796207Z"
    },
    "papermill": {
     "duration": 0.032905,
     "end_time": "2022-02-05T08:09:15.588040",
     "exception": false,
     "start_time": "2022-02-05T08:09:15.555135",
     "status": "completed"
    },
    "tags": []
   },
   "outputs": [
    {
     "name": "stdout",
     "output_type": "stream",
     "text": [
      "[Errno 2] No such file or directory: './working'\n",
      "/kaggle/working\n"
     ]
    }
   ],
   "source": [
    "%cd ./working"
   ]
  },
  {
   "cell_type": "code",
   "execution_count": 18,
   "id": "13c67ecb",
   "metadata": {
    "execution": {
     "iopub.execute_input": "2022-02-05T08:09:15.646527Z",
     "iopub.status.busy": "2022-02-05T08:09:15.645831Z",
     "iopub.status.idle": "2022-02-05T08:09:25.117498Z",
     "shell.execute_reply": "2022-02-05T08:09:25.116844Z",
     "shell.execute_reply.started": "2022-02-05T08:07:10.808392Z"
    },
    "id": "vR49Yu5bbkOO",
    "outputId": "42db54c0-eb3f-4267-e888-d9d9ede498c5",
    "papermill": {
     "duration": 9.505877,
     "end_time": "2022-02-05T08:09:25.117702",
     "exception": false,
     "start_time": "2022-02-05T08:09:15.611825",
     "status": "completed"
    },
    "tags": []
   },
   "outputs": [
    {
     "name": "stdout",
     "output_type": "stream",
     "text": [
      "/kaggle/input/yologithubrepoandsomecustom\n"
     ]
    },
    {
     "name": "stderr",
     "output_type": "stream",
     "text": [
      "Downloading https://ultralytics.com/assets/Arial.ttf to /root/.config/Ultralytics/Arial.ttf...\n"
     ]
    },
    {
     "name": "stdout",
     "output_type": "stream",
     "text": [
      "/kaggle/working\n",
      "__notebook__.ipynb\r\n"
     ]
    },
    {
     "name": "stderr",
     "output_type": "stream",
     "text": [
      "YOLOv5 🚀 v6.0-235-ge1a6a0b torch 1.9.1+cpu CPU\n",
      "\n",
      "Fusing layers... \n",
      "Model Summary: 290 layers, 20852934 parameters, 0 gradients\n",
      "WARNING: --img-size (640, 640) must be multiple of max stride 32, updating to [640, 640]\n"
     ]
    },
    {
     "name": "stdout",
     "output_type": "stream",
     "text": [
      "This version of the API is not optimized and should not be used to estimate the runtime of your code on the hidden test set.\n"
     ]
    }
   ],
   "source": [
    "# something like this...?\n",
    "import greatbarrierreef\n",
    "%cd ../input/yologithubrepoandsomecustom\n",
    "from yolov5.detect2 import run as detect2run\n",
    "%cd ../../working\n",
    "%ls\n",
    "\n",
    "detect2run(\n",
    "    weights='../input/yologithubrepoandsomecustom/yolov5/weights/best.pt',\n",
    "    data='../input/yologithubrepoandsomecustom/yolov5/data/GBR.yaml',\n",
    "    env=greatbarrierreef.make_env(),\n",
    "    conf_thres=0.01,\n",
    "    iou_thres=0.3,\n",
    "    max_det=100\n",
    ")"
   ]
  },
  {
   "cell_type": "code",
   "execution_count": 19,
   "id": "2a9e9f52",
   "metadata": {
    "execution": {
     "iopub.execute_input": "2022-02-05T08:09:25.178291Z",
     "iopub.status.busy": "2022-02-05T08:09:25.177247Z",
     "iopub.status.idle": "2022-02-05T08:09:25.191860Z",
     "shell.execute_reply": "2022-02-05T08:09:25.192417Z",
     "shell.execute_reply.started": "2022-02-05T08:07:18.549720Z"
    },
    "papermill": {
     "duration": 0.047413,
     "end_time": "2022-02-05T08:09:25.192603",
     "exception": false,
     "start_time": "2022-02-05T08:09:25.145190",
     "status": "completed"
    },
    "tags": []
   },
   "outputs": [
    {
     "data": {
      "text/html": [
       "<div>\n",
       "<style scoped>\n",
       "    .dataframe tbody tr th:only-of-type {\n",
       "        vertical-align: middle;\n",
       "    }\n",
       "\n",
       "    .dataframe tbody tr th {\n",
       "        vertical-align: top;\n",
       "    }\n",
       "\n",
       "    .dataframe thead th {\n",
       "        text-align: right;\n",
       "    }\n",
       "</style>\n",
       "<table border=\"1\" class=\"dataframe\">\n",
       "  <thead>\n",
       "    <tr style=\"text-align: right;\">\n",
       "      <th></th>\n",
       "      <th>index</th>\n",
       "      <th>annotations</th>\n",
       "    </tr>\n",
       "  </thead>\n",
       "  <tbody>\n",
       "    <tr>\n",
       "      <th>0</th>\n",
       "      <td>0</td>\n",
       "      <td>0.197906 265 255 40 30</td>\n",
       "    </tr>\n",
       "    <tr>\n",
       "      <th>1</th>\n",
       "      <td>1</td>\n",
       "      <td>0.011626 261 260 37 28 0.011906 1234 667 45 50</td>\n",
       "    </tr>\n",
       "    <tr>\n",
       "      <th>2</th>\n",
       "      <td>2</td>\n",
       "      <td>0.052808 257 260 40 30</td>\n",
       "    </tr>\n",
       "  </tbody>\n",
       "</table>\n",
       "</div>"
      ],
      "text/plain": [
       "   index                                      annotations\n",
       "0      0                          0.197906 265 255 40 30 \n",
       "1      1  0.011626 261 260 37 28 0.011906 1234 667 45 50 \n",
       "2      2                          0.052808 257 260 40 30 "
      ]
     },
     "execution_count": 19,
     "metadata": {},
     "output_type": "execute_result"
    }
   ],
   "source": [
    "import pandas\n",
    "submission_df = pandas.read_csv('./submission.csv')\n",
    "submission_df"
   ]
  }
 ],
 "metadata": {
  "kernelspec": {
   "display_name": "Python 3",
   "language": "python",
   "name": "python3"
  },
  "language_info": {
   "codemirror_mode": {
    "name": "ipython",
    "version": 3
   },
   "file_extension": ".py",
   "mimetype": "text/x-python",
   "name": "python",
   "nbconvert_exporter": "python",
   "pygments_lexer": "ipython3",
   "version": "3.7.12"
  },
  "papermill": {
   "default_parameters": {},
   "duration": 21.826636,
   "end_time": "2022-02-05T08:09:26.231842",
   "environment_variables": {},
   "exception": null,
   "input_path": "__notebook__.ipynb",
   "output_path": "__notebook__.ipynb",
   "parameters": {},
   "start_time": "2022-02-05T08:09:04.405206",
   "version": "2.3.3"
  }
 },
 "nbformat": 4,
 "nbformat_minor": 5
}
