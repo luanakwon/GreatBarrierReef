{
  "nbformat": 4,
  "nbformat_minor": 0,
  "metadata": {
    "colab": {
      "name": "GBR_YOLOBasic.ipynb",
      "provenance": [],
      "collapsed_sections": [
        "Atikzzc0fL2v"
      ],
      "authorship_tag": "ABX9TyMHF33XJc9mSeLE53mSA6kL",
      "include_colab_link": true
    },
    "kernelspec": {
      "name": "python3",
      "display_name": "Python 3"
    },
    "language_info": {
      "name": "python"
    }
  },
  "cells": [
    {
      "cell_type": "markdown",
      "metadata": {
        "id": "view-in-github",
        "colab_type": "text"
      },
      "source": [
        "<a href=\"https://colab.research.google.com/github/luanakwon/GreatBarrierReef/blob/main/GBR_YOLOBasic.ipynb\" target=\"_parent\"><img src=\"https://colab.research.google.com/assets/colab-badge.svg\" alt=\"Open In Colab\"/></a>"
      ]
    },
    {
      "cell_type": "markdown",
      "source": [
        "# Download dataset from kaggle api\n",
        "kaggle  \n",
        "https://www.kaggle.com/c/tensorflow-great-barrier-reef/data  \n",
        "\n",
        "kaggle API usage  \n",
        "https://colab.research.google.com/github/corrieann/kaggle/blob/master/kaggle_api_in_colab.ipynb"
      ],
      "metadata": {
        "id": "Atikzzc0fL2v"
      }
    },
    {
      "cell_type": "code",
      "metadata": {
        "id": "n-JPBh1fETGF"
      },
      "source": [
        "!pip install kaggle\n",
        "!pip install --upgrade --force-reinstall --no-deps kaggle"
      ],
      "execution_count": null,
      "outputs": []
    },
    {
      "cell_type": "code",
      "source": [
        "from google.colab import files\n",
        "\n",
        "uploaded = files.upload()\n",
        "\n",
        "for fn in uploaded.keys():\n",
        "  print('User uploaded file \"{name}\" with length {length} bytes'.format(\n",
        "      name=fn, length=len(uploaded[fn])))\n",
        "  \n",
        "# Then move kaggle.json into the folder where the API expects to find it.\n",
        "!mkdir -p ~/.kaggle/ && mv kaggle.json ~/.kaggle/ && chmod 600 ~/.kaggle/kaggle.json"
      ],
      "metadata": {
        "id": "Z27ke3uEchVJ"
      },
      "execution_count": null,
      "outputs": []
    },
    {
      "cell_type": "code",
      "source": [
        "!kaggle competitions download -c tensorflow-great-barrier-reef"
      ],
      "metadata": {
        "id": "6JXwYXTxc8D4"
      },
      "execution_count": null,
      "outputs": []
    },
    {
      "cell_type": "code",
      "source": [
        "!unzip -q /content/tensorflow-great-barrier-reef.zip "
      ],
      "metadata": {
        "id": "D18RwmYWwO84"
      },
      "execution_count": null,
      "outputs": []
    },
    {
      "cell_type": "markdown",
      "source": [
        "# Session 1\n",
        "---\n",
        "Useful links  \n",
        "- [YOLOv5 - Train Custom Data github](https://github.com/ultralytics/yolov5/wiki/Train-Custom-Data)  \n"
      ],
      "metadata": {
        "id": "woh5Odk0V7lU"
      }
    },
    {
      "cell_type": "code",
      "source": [
        "# create hierarchy\n",
        "import os\n",
        "\n",
        "for f1 in 'train', 'val', 'test':\n",
        "  for f2 in 'images', 'labels':\n",
        "    os.makedirs(f'/content/Datasets/{f1}/{f2}')"
      ],
      "metadata": {
        "id": "acWPF0FJFpZ9"
      },
      "execution_count": 5,
      "outputs": []
    },
    {
      "cell_type": "code",
      "source": [
        "# read images from /content/train_images\n",
        "# change name\n",
        "# save the image to train | val | test. ratio = 0.64 : 0.16 : 0.2\n",
        "# create corresponding txt file and save"
      ],
      "metadata": {
        "id": "GpMODD0PIhUi"
      },
      "execution_count": 6,
      "outputs": []
    },
    {
      "cell_type": "code",
      "metadata": {
        "id": "wbvMlHd_QwMG",
        "colab": {
          "base_uri": "https://localhost:8080/"
        },
        "outputId": "0cdabbaf-2a85-4d22-b87d-a71694f3b96e"
      },
      "source": [
        "!git clone https://github.com/ultralytics/yolov5  # clone\n",
        "%cd yolov5\n",
        "%pip install -qr requirements.txt  # install\n",
        "\n",
        "import torch\n",
        "from yolov5 import utils\n",
        "display = utils.notebook_init()  # checks"
      ],
      "execution_count": 7,
      "outputs": [
        {
          "output_type": "stream",
          "name": "stderr",
          "text": [
            "YOLOv5 🚀 v6.0-218-g7539cd7 torch 1.10.0+cu111 CPU\n"
          ]
        },
        {
          "output_type": "stream",
          "name": "stdout",
          "text": [
            "Setup complete ✅ (2 CPUs, 12.7 GB RAM, 70.4/225.9 GB disk)\n"
          ]
        }
      ]
    },
    {
      "cell_type": "markdown",
      "source": [
        "# Under /content/yolov5"
      ],
      "metadata": {
        "id": "W4SnuptqeYiA"
      }
    },
    {
      "cell_type": "code",
      "source": [
        "# create yaml file and save to /data (your at /content/yolov5)\n",
        "# https://drive.google.com/file/d/1YefSjpQ-MX1y1KqgDzLaQhO-8YSeu4DF/view?usp=sharing\n",
        "!gdown --id 1YefSjpQ-MX1y1KqgDzLaQhO-8YSeu4DF -O ./data/GBR.yaml"
      ],
      "metadata": {
        "id": "KUO-ZP2gLdpT"
      },
      "execution_count": null,
      "outputs": []
    },
    {
      "cell_type": "code",
      "source": [
        "# Train YOLOv5s on COCO128 for 3 epochs\n",
        "# --img : image size (size,size)\n",
        "# --batch : batch size\n",
        "# --epochs : epochs\n",
        "# --data : .yaml file name\n",
        "# --weights : pretrained weights ('' --cfg yolov5s.yaml if from scratch)\n",
        "!python train.py --img 640 --batch 16 --epochs 3 --data coco128.yaml --weights yolov5s.pt"
      ],
      "metadata": {
        "id": "k47ZnEx4L8hF"
      },
      "execution_count": null,
      "outputs": []
    },
    {
      "cell_type": "code",
      "source": [
        "# visualize\n",
        "from utils.plots import plot_results \n",
        "plot_results('path/to/results.csv')  # plot 'results.csv' as 'results.png'"
      ],
      "metadata": {
        "id": "zbmSxR7vPdf9"
      },
      "execution_count": null,
      "outputs": []
    }
  ]
}